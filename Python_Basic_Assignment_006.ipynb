{
 "cells": [
  {
   "cell_type": "markdown",
   "id": "ea1f2b1b-ef0c-4819-95d2-6ea502bba5f3",
   "metadata": {},
   "source": [
    "1. What are escape characters, and how do you use them?\n",
    "2. What do the escape characters n and t stand for?\n",
    "3. What is the way to include backslash characters in a string?\n",
    "4. The string &quot;Howl&#39;s Moving Castle&quot; is a correct value. Why isn&#39;t the single quote character in the\n",
    "word Howl&#39;s not escaped a problem?\n",
    "5. How do you write a string of newlines if you don&#39;t want to use the n character?\n",
    "6. What are the values of the given expressions?\n",
    "&#39;Hello, world!&#39;[1]\n",
    "&#39;Hello, world!&#39;[0:5]\n",
    "&#39;Hello, world!&#39;[:5]\n",
    "&#39;Hello, world!&#39;[3:]\n",
    "\n",
    "7. What are the values of the following expressions?\n",
    "&#39;Hello&#39;.upper()\n",
    "&#39;Hello&#39;.upper().isupper()\n",
    "&#39;Hello&#39;.upper().lower()\n",
    "8. What are the values of the following expressions?\n",
    "&#39;Remember, remember, the fifth of July.&#39;.split()\n",
    "&#39;-&#39;.join(&#39;There can only one.&#39;.split())\n",
    "9. What are the methods for right-justifying, left-justifying, and centering a string?\n",
    "10. What is the best way to remove whitespace characters from the start or end?"
   ]
  },
  {
   "cell_type": "markdown",
   "id": "3edae24a-0b56-4b72-a179-cece837e0132",
   "metadata": {},
   "source": [
    "### Solution-01"
   ]
  },
  {
   "cell_type": "markdown",
   "id": "22a10ff7-6a26-4b0c-aad1-d759e23582b8",
   "metadata": {},
   "source": [
    "### Escape  Characters:-\n",
    "To insert characters that are illegal in a string, we use an escape character.\n",
    "An escape character is a backslash \\ followed by the character you want to insert.\n",
    "An example of an illegal character is a double quote inside a string that is surrounded by double quotes:-"
   ]
  },
  {
   "cell_type": "code",
   "execution_count": 1,
   "id": "bc0c17c7-5cb7-4801-94ca-30bb23558109",
   "metadata": {},
   "outputs": [
    {
     "ename": "SyntaxError",
     "evalue": "invalid syntax (2108509799.py, line 2)",
     "output_type": "error",
     "traceback": [
      "\u001b[0;36m  Cell \u001b[0;32mIn [1], line 2\u001b[0;36m\u001b[0m\n\u001b[0;31m    \"He weites \"code\" very well\"\u001b[0m\n\u001b[0m                ^\u001b[0m\n\u001b[0;31mSyntaxError\u001b[0m\u001b[0;31m:\u001b[0m invalid syntax\n"
     ]
    }
   ],
   "source": [
    "#Example:-\n",
    "\"He weites \"code\" very well\""
   ]
  },
  {
   "cell_type": "code",
   "execution_count": 1,
   "id": "f5f1f43b-97a6-4286-90e3-ba542110c3aa",
   "metadata": {},
   "outputs": [
    {
     "data": {
      "text/plain": [
       "'He writes \"code\" very well'"
      ]
     },
     "execution_count": 1,
     "metadata": {},
     "output_type": "execute_result"
    }
   ],
   "source": [
    "\"He writes \\\"code\\\" very well\""
   ]
  },
  {
   "cell_type": "markdown",
   "id": "f677a0d0-7a08-47e1-b6f1-5bc1aac27476",
   "metadata": {},
   "source": [
    "    Other escape characters used in Python:\n",
    "\n",
    "    Code\t     Result\t\n",
    "    \\'\tSingle Quote\t\n",
    "    \\\\\tBackslash\t\n",
    "    \\n\tNew Line\t\n",
    "    \\r\tCarriage Return\t\n",
    "    \\t\tTab\t\n",
    "    \\b\tBackspace\t\n",
    "    \\f\tForm Feed\t\n",
    "    \\ooo\tOctal value\t\n",
    "    \\xhh\tHex value"
   ]
  },
  {
   "cell_type": "markdown",
   "id": "7cbcc1ad-0d51-49f5-8b6d-0bb48a475984",
   "metadata": {},
   "source": [
    "### Solution-02"
   ]
  },
  {
   "cell_type": "markdown",
   "id": "4ad5f78a-9dcf-4673-beb0-71755e000136",
   "metadata": {},
   "source": [
    "\\n stands for new line"
   ]
  },
  {
   "cell_type": "code",
   "execution_count": 12,
   "id": "533cd836-9e6f-4c04-a4a1-eb436363d50f",
   "metadata": {},
   "outputs": [
    {
     "name": "stdout",
     "output_type": "stream",
     "text": [
      "Hello\n",
      "How are you\n"
     ]
    }
   ],
   "source": [
    "print(\"Hello\\nHow are you\") "
   ]
  },
  {
   "cell_type": "markdown",
   "id": "a425784f-6e28-46ab-b0ec-56df08e1ef18",
   "metadata": {},
   "source": [
    "This resulted into a new line "
   ]
  },
  {
   "cell_type": "markdown",
   "id": "22eae365-ef23-4f12-ae7a-8fcef303e73b",
   "metadata": {},
   "source": [
    "\\t stands for Tab "
   ]
  },
  {
   "cell_type": "code",
   "execution_count": 10,
   "id": "8d1cc74e-c934-496c-9a09-29dc81a3f3f2",
   "metadata": {},
   "outputs": [
    {
     "name": "stdout",
     "output_type": "stream",
     "text": [
      "Hello\tHow are you\n"
     ]
    }
   ],
   "source": [
    "print(\"Hello\\tHow are you\")"
   ]
  },
  {
   "cell_type": "markdown",
   "id": "160f3076-3f44-48fc-b325-dc38fde8bb75",
   "metadata": {},
   "source": [
    "This resulted in a space between two words."
   ]
  },
  {
   "cell_type": "markdown",
   "id": "c5aaee6e-2ccc-424f-a988-cc7d2cc2536c",
   "metadata": {},
   "source": [
    "### Solution-03"
   ]
  },
  {
   "cell_type": "markdown",
   "id": "b47b24a8-87fb-4b30-94d8-40bb28a0956f",
   "metadata": {},
   "source": [
    "Backslash character in string is used to escape the single quote character:"
   ]
  },
  {
   "cell_type": "code",
   "execution_count": 14,
   "id": "b12e07a4-67e9-430e-af77-804c1612bafa",
   "metadata": {},
   "outputs": [
    {
     "data": {
      "text/plain": [
       "'He writes \"code\" very well in python'"
      ]
     },
     "execution_count": 14,
     "metadata": {},
     "output_type": "execute_result"
    }
   ],
   "source": [
    "\"He writes \\\"code\\\" very well in python\""
   ]
  },
  {
   "cell_type": "markdown",
   "id": "0aa1679e-8157-4c3e-aa15-637f26ef4bbd",
   "metadata": {},
   "source": [
    "So backsalsh caharacter is used to omit the very next character in a string"
   ]
  },
  {
   "cell_type": "markdown",
   "id": "bee04ab5-318f-4286-9b5d-fc3a56deeb01",
   "metadata": {},
   "source": [
    "### Soluton-04"
   ]
  },
  {
   "cell_type": "code",
   "execution_count": 21,
   "id": "9e4822b8-5243-448f-ba57-c6890e30a56a",
   "metadata": {},
   "outputs": [
    {
     "data": {
      "text/plain": [
       "\"Howl's Moving Castle\""
      ]
     },
     "execution_count": 21,
     "metadata": {},
     "output_type": "execute_result"
    }
   ],
   "source": [
    "\"Howl's Moving Castle\""
   ]
  },
  {
   "cell_type": "markdown",
   "id": "b24ffc8f-a487-4128-8593-d7b889a61cee",
   "metadata": {},
   "source": [
    "We can use single quote insise a double quote or double quote insside  a single quote. It is accepted by python."
   ]
  },
  {
   "cell_type": "markdown",
   "id": "d4148406-661f-44e0-8ad2-99a06b055e10",
   "metadata": {},
   "source": [
    "### Solution-05"
   ]
  },
  {
   "cell_type": "markdown",
   "id": "e6580048-9928-419f-9113-a5c41de942b0",
   "metadata": {},
   "source": [
    "Wihthout using \\n, we can write a string a multiple lines by using multiline approach using ''' or \"\"\" "
   ]
  },
  {
   "cell_type": "code",
   "execution_count": 25,
   "id": "766b7ae8-72ac-4e1a-b924-85af4c4368e1",
   "metadata": {},
   "outputs": [],
   "source": [
    "a = \"\"\"This is python class,\n",
    "I write code here,\n",
    "I am learning data science,\n",
    "Thank you so much\"\"\""
   ]
  },
  {
   "cell_type": "code",
   "execution_count": 26,
   "id": "81119ebf-956e-489a-855e-07716bb51343",
   "metadata": {},
   "outputs": [
    {
     "name": "stdout",
     "output_type": "stream",
     "text": [
      "This is python class,\n",
      "I write code here,\n",
      "I am learning data science,\n",
      "Thank you so much\n"
     ]
    }
   ],
   "source": [
    "print(a)"
   ]
  },
  {
   "cell_type": "markdown",
   "id": "2d26d534-10b2-4980-a954-69521f69a70b",
   "metadata": {},
   "source": [
    "### Solution-06"
   ]
  },
  {
   "cell_type": "code",
   "execution_count": 15,
   "id": "67af3b45-7b57-40f9-bdf2-46ecd0b5c1e4",
   "metadata": {},
   "outputs": [
    {
     "data": {
      "text/plain": [
       "'e'"
      ]
     },
     "execution_count": 15,
     "metadata": {},
     "output_type": "execute_result"
    }
   ],
   "source": [
    "\"Hello, World!\"[1]"
   ]
  },
  {
   "cell_type": "code",
   "execution_count": 16,
   "id": "c2ebaecb-cb8b-4b7b-b5fb-409d6879067d",
   "metadata": {},
   "outputs": [
    {
     "data": {
      "text/plain": [
       "'Hello'"
      ]
     },
     "execution_count": 16,
     "metadata": {},
     "output_type": "execute_result"
    }
   ],
   "source": [
    "\"Hello, World!\"[0:5]"
   ]
  },
  {
   "cell_type": "code",
   "execution_count": 17,
   "id": "98b57815-1a03-4a7f-8701-4bd733faa68d",
   "metadata": {},
   "outputs": [
    {
     "data": {
      "text/plain": [
       "'Hello'"
      ]
     },
     "execution_count": 17,
     "metadata": {},
     "output_type": "execute_result"
    }
   ],
   "source": [
    "\"Hello, World!\"[:5]"
   ]
  },
  {
   "cell_type": "code",
   "execution_count": 18,
   "id": "e86b6f48-2499-4d83-bd9f-34b12441548c",
   "metadata": {},
   "outputs": [
    {
     "data": {
      "text/plain": [
       "'lo, World!'"
      ]
     },
     "execution_count": 18,
     "metadata": {},
     "output_type": "execute_result"
    }
   ],
   "source": [
    "\"Hello, World!\"[3:]"
   ]
  },
  {
   "cell_type": "markdown",
   "id": "4d405927-eb8e-4ed6-ab44-18f87e90b7cf",
   "metadata": {},
   "source": [
    "### Solution-07"
   ]
  },
  {
   "cell_type": "code",
   "execution_count": 19,
   "id": "66186db8-ee29-4a9f-b21c-0be603e6b407",
   "metadata": {},
   "outputs": [
    {
     "data": {
      "text/plain": [
       "'HELLO'"
      ]
     },
     "execution_count": 19,
     "metadata": {},
     "output_type": "execute_result"
    }
   ],
   "source": [
    "\"Hello\".upper()"
   ]
  },
  {
   "cell_type": "code",
   "execution_count": 20,
   "id": "f87535cc-98de-4317-9b45-08f4f10bb21d",
   "metadata": {},
   "outputs": [
    {
     "data": {
      "text/plain": [
       "True"
      ]
     },
     "execution_count": 20,
     "metadata": {},
     "output_type": "execute_result"
    }
   ],
   "source": [
    "\"Hello\".upper().isupper()"
   ]
  },
  {
   "cell_type": "code",
   "execution_count": 21,
   "id": "65575f1f-2dfb-42f7-91a0-7faad0747c51",
   "metadata": {},
   "outputs": [
    {
     "data": {
      "text/plain": [
       "'hello'"
      ]
     },
     "execution_count": 21,
     "metadata": {},
     "output_type": "execute_result"
    }
   ],
   "source": [
    "\"Hello\".upper().lower()"
   ]
  },
  {
   "cell_type": "markdown",
   "id": "592d94ae-acf8-48b5-92bd-f1ad2376dfb4",
   "metadata": {},
   "source": [
    "### Solution-08"
   ]
  },
  {
   "cell_type": "code",
   "execution_count": 23,
   "id": "c7be7809-e6ae-4196-8d9e-88373a361fd0",
   "metadata": {},
   "outputs": [
    {
     "data": {
      "text/plain": [
       "['Remember,', 'remember,', 'the', 'fifth', 'of', 'july.']"
      ]
     },
     "execution_count": 23,
     "metadata": {},
     "output_type": "execute_result"
    }
   ],
   "source": [
    "\"Remember, remember, the fifth of july.\".split()"
   ]
  },
  {
   "cell_type": "code",
   "execution_count": 24,
   "id": "d61ead4e-0246-4ce2-910b-f89f39c8e403",
   "metadata": {},
   "outputs": [
    {
     "data": {
      "text/plain": [
       "'There-can-only-one'"
      ]
     },
     "execution_count": 24,
     "metadata": {},
     "output_type": "execute_result"
    }
   ],
   "source": [
    "\"-\".join(\"There can only one\".split())"
   ]
  },
  {
   "cell_type": "markdown",
   "id": "8d566990-2092-4c8b-b8cd-f2131aece672",
   "metadata": {},
   "source": [
    "### Solution-09"
   ]
  },
  {
   "cell_type": "code",
   "execution_count": 2,
   "id": "db27a587-d84f-4ec2-8041-6edc98704dca",
   "metadata": {},
   "outputs": [],
   "source": [
    "#Center()"
   ]
  },
  {
   "cell_type": "code",
   "execution_count": 6,
   "id": "2823f477-61d8-4be8-bc3c-f7fadb6875bc",
   "metadata": {},
   "outputs": [
    {
     "data": {
      "text/plain": [
       "'************This is my code*************'"
      ]
     },
     "execution_count": 6,
     "metadata": {},
     "output_type": "execute_result"
    }
   ],
   "source": [
    "\"This is my code\".center(40,\"*\")"
   ]
  },
  {
   "cell_type": "code",
   "execution_count": 7,
   "id": "53be7fdb-476c-41de-84e1-e1f99ad55c08",
   "metadata": {},
   "outputs": [],
   "source": [
    "#ljust()"
   ]
  },
  {
   "cell_type": "code",
   "execution_count": 8,
   "id": "b117d253-f4a3-4e3f-b599-ac14d00201c8",
   "metadata": {},
   "outputs": [
    {
     "data": {
      "text/plain": [
       "'This is my code*************************'"
      ]
     },
     "execution_count": 8,
     "metadata": {},
     "output_type": "execute_result"
    }
   ],
   "source": [
    "\"This is my code\".ljust(40,\"*\")"
   ]
  },
  {
   "cell_type": "code",
   "execution_count": 9,
   "id": "24d6c5f3-04b3-425c-a25c-747da99f9cc3",
   "metadata": {},
   "outputs": [],
   "source": [
    "#rjust()"
   ]
  },
  {
   "cell_type": "code",
   "execution_count": 10,
   "id": "b4347d88-34c7-4e79-a3f0-ebb004ff482e",
   "metadata": {},
   "outputs": [
    {
     "data": {
      "text/plain": [
       "'*************************This is my code'"
      ]
     },
     "execution_count": 10,
     "metadata": {},
     "output_type": "execute_result"
    }
   ],
   "source": [
    "\"This is my code\".rjust(40,\"*\")"
   ]
  },
  {
   "cell_type": "markdown",
   "id": "92a8df7a-c930-4139-b48f-5e6640bbfb14",
   "metadata": {},
   "source": [
    "### Solution-10"
   ]
  },
  {
   "cell_type": "code",
   "execution_count": 14,
   "id": "42d568cd-ba5e-49ff-a11d-1dbe8aafd830",
   "metadata": {},
   "outputs": [],
   "source": [
    "string = \"                This is my code                \""
   ]
  },
  {
   "cell_type": "code",
   "execution_count": 15,
   "id": "0b3a78fe-2f79-4235-81d8-ee20c9dc02b3",
   "metadata": {},
   "outputs": [],
   "source": [
    "#To remove the whitespace from left"
   ]
  },
  {
   "cell_type": "code",
   "execution_count": 16,
   "id": "b9e9bd42-1c1a-495f-9aa7-6b38d8846f08",
   "metadata": {},
   "outputs": [
    {
     "data": {
      "text/plain": [
       "'This is my code                '"
      ]
     },
     "execution_count": 16,
     "metadata": {},
     "output_type": "execute_result"
    }
   ],
   "source": [
    "string.lstrip()"
   ]
  },
  {
   "cell_type": "code",
   "execution_count": 17,
   "id": "34cf008a-e40a-444a-8a28-a34a16c0dddc",
   "metadata": {},
   "outputs": [],
   "source": [
    "#To remove the white space from the right"
   ]
  },
  {
   "cell_type": "code",
   "execution_count": 19,
   "id": "966b7fbf-3997-4751-b527-ba3e928da8ef",
   "metadata": {},
   "outputs": [
    {
     "data": {
      "text/plain": [
       "'                This is my code'"
      ]
     },
     "execution_count": 19,
     "metadata": {},
     "output_type": "execute_result"
    }
   ],
   "source": [
    "string.rstrip()"
   ]
  },
  {
   "cell_type": "code",
   "execution_count": 20,
   "id": "fcc32462-cc7c-4e4e-9830-653fdb5f6ef2",
   "metadata": {},
   "outputs": [
    {
     "data": {
      "text/plain": [
       "'This is my code'"
      ]
     },
     "execution_count": 20,
     "metadata": {},
     "output_type": "execute_result"
    }
   ],
   "source": [
    "string.strip()"
   ]
  },
  {
   "cell_type": "markdown",
   "id": "89a6e886-708a-4a31-bf24-9dae7a019542",
   "metadata": {},
   "source": [
    "### End of Assignment"
   ]
  }
 ],
 "metadata": {
  "kernelspec": {
   "display_name": "Python 3 (ipykernel)",
   "language": "python",
   "name": "python3"
  },
  "language_info": {
   "codemirror_mode": {
    "name": "ipython",
    "version": 3
   },
   "file_extension": ".py",
   "mimetype": "text/x-python",
   "name": "python",
   "nbconvert_exporter": "python",
   "pygments_lexer": "ipython3",
   "version": "3.10.6"
  }
 },
 "nbformat": 4,
 "nbformat_minor": 5
}
