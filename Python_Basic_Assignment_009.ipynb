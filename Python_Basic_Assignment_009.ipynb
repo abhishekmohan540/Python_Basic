{
 "cells": [
  {
   "cell_type": "markdown",
   "id": "8c3d1eee-1ca9-40db-87c6-a4acad571b25",
   "metadata": {},
   "source": [
    "    1. To what does a relative path refer?\n",
    "    2. What does an absolute path start with your operating system?\n",
    "    3. What do the functions os.getcwd() and os.chdir() do?\n",
    "    4. What are the . and .. folders?\n",
    "    5. In C:\\bacon\\eggs\\spam.txt, which part is the dir name, and which part is the base name?\n",
    "    6. What are the three “mode” arguments that can be passed to the open() function?\n",
    "    7. What happens if an existing file is opened in write mode?\n",
    "    8. How do you tell the difference between read() and readlines()?\n",
    "    9. What data structure does a shelf value resemble?"
   ]
  },
  {
   "cell_type": "markdown",
   "id": "723bce84-3205-4d88-8e0f-ebbf26dcf442",
   "metadata": {},
   "source": [
    "### Solution:1"
   ]
  },
  {
   "cell_type": "markdown",
   "id": "a22c2a63-fb1b-4e5c-9edf-75c38c6908af",
   "metadata": {},
   "source": [
    "    A relative path in Python is a path that describes the location of a directory relative to the entry point where we run the Python script.\n",
    "    For Ex:- If we run our Python code in ~/home/projects/example-project/app.py.\n",
    "\n",
    "    This is the entry point where you run the top-level code of your python module and acts as the starting point for the relative path. A relative path usually starts with /, ./ or ../.\n",
    "    Ex:- ./public_html/cgi-bin is relative path for linux\n",
    "    calc.exe is relative path for Windows."
   ]
  },
  {
   "cell_type": "markdown",
   "id": "d9a85260-7149-4123-aaf7-cfc06488b64f",
   "metadata": {},
   "source": [
    "### Solution-02"
   ]
  },
  {
   "cell_type": "markdown",
   "id": "19368f7b-f902-45ae-9815-589dee79f1ab",
   "metadata": {},
   "source": [
    "    An absolute path is a path that contains the entire path to the file or directory that we need to access. This path will begin at the home directory of our computer and will end with the file or directory that we wish to access. Absolute paths ensure that Python can find the exact file on our computer\n",
    "    Absolute path starts with root folder such as / or C:\\\n",
    "    Ex-  C:\\Windows\\calc.exe  is an absolute path for Windows.\n",
    "    /home/users/c/computerhope/public_html/cgi-bin is absolute path for linux"
   ]
  },
  {
   "cell_type": "markdown",
   "id": "5d35ee2e-b6e2-487e-acd9-b88dd4b4065c",
   "metadata": {},
   "source": [
    "### Solution-03"
   ]
  },
  {
   "cell_type": "markdown",
   "id": "22e33900-f273-4aa9-bbdf-f9aa6401ce8f",
   "metadata": {},
   "source": [
    "    os.getcwd() method tells us the location of current working directory (CWD).\n",
    "\n",
    "    Syntax: os.getcwd()\n",
    "    Parameter: No parameter is required.\n",
    "    Return Value: This method returns a string which represents the current working directory."
   ]
  },
  {
   "cell_type": "code",
   "execution_count": 2,
   "id": "02a36312-cb48-44cf-b6f2-c7ea5fd08b08",
   "metadata": {},
   "outputs": [],
   "source": [
    "import os"
   ]
  },
  {
   "cell_type": "code",
   "execution_count": 3,
   "id": "47c586d3-071d-4e64-8df8-37738aabc6d4",
   "metadata": {},
   "outputs": [
    {
     "data": {
      "text/plain": [
       "'/home/jovyan/work'"
      ]
     },
     "execution_count": 3,
     "metadata": {},
     "output_type": "execute_result"
    }
   ],
   "source": [
    "os.getcwd()"
   ]
  },
  {
   "cell_type": "markdown",
   "id": "d776068b-0d08-43f7-91de-2263a3ae7341",
   "metadata": {},
   "source": [
    "    os.chdir() method in Python used to change the current working directory to specified path. It takes only a single argument as new directory path.\n",
    "\n",
    "\n",
    "    Syntax: os.chdir(path) \n",
    "    path: A complete path of directory to be changed to new directory path.\n",
    "    Returns: Doesn’t return any value"
   ]
  },
  {
   "cell_type": "code",
   "execution_count": 4,
   "id": "e4e6b9fc-5dd8-41d7-a213-6285e29f5d9c",
   "metadata": {},
   "outputs": [
    {
     "name": "stdout",
     "output_type": "stream",
     "text": [
      "directory changed\n"
     ]
    }
   ],
   "source": [
    "os.chdir('/home/jovyan/work')\n",
    "print(\"directory changed\")"
   ]
  },
  {
   "cell_type": "markdown",
   "id": "9df34ead-3fbc-48cb-ab45-896acf74fcbc",
   "metadata": {},
   "source": [
    "### Solution-04"
   ]
  },
  {
   "cell_type": "markdown",
   "id": "bb2f62fe-94b1-4fdb-8779-3c24d7e02557",
   "metadata": {},
   "source": [
    "    The . is a current folder and .. is a parent folder."
   ]
  },
  {
   "cell_type": "markdown",
   "id": "e7d7add3-a421-48da-b9ba-6625e02826db",
   "metadata": {},
   "source": [
    "### Solution-05"
   ]
  },
  {
   "cell_type": "markdown",
   "id": "e922059f-9fe3-4501-8916-8dcfd480c77c",
   "metadata": {},
   "source": [
    "    In C:\\bacon\\eggs\\spam.txt,\n",
    "    C:\\bacon\\eggs is a directory name and spam.txt is a base name."
   ]
  },
  {
   "cell_type": "markdown",
   "id": "86eab0fb-5e34-40a1-85db-28183d3ce551",
   "metadata": {},
   "source": [
    "### Solution-06"
   ]
  },
  {
   "cell_type": "markdown",
   "id": "773faed0-e456-4706-96ef-3f3c16ad1db1",
   "metadata": {},
   "source": [
    "    The python open() function is used to open() internally stored files. It returns the contents of the file as python objects.\n",
    "\n",
    "    Syntax: open(file_name, mode)\n",
    "    Mode: This parameter is a string that is used to specify the mode in which the file is to be opened. The following strings can be used to activate a specific mode:\n",
    "    “r”: This string is used to read(only) the file. It is passed as default if no parameter is supplied and returns an error if no such file exists.\n",
    "    w”: This string is used for writing on/over the file. If the file with the supplied name doesn’t exist, it creates one for you.\n",
    "    “a”: This string is used to add(append) content to an existing file. If no such file exists, it creates one for you."
   ]
  },
  {
   "cell_type": "markdown",
   "id": "08625f9b-e708-4b9f-bb8e-a1a7b28e01bd",
   "metadata": {},
   "source": [
    "    Example:-\n",
    "    f= open(\"test1.txt\", \"r\")\n",
    "    f= open(\"test1.txt\", \"w\")\n",
    "    f= open(\"test1.txt\", \"a\")"
   ]
  },
  {
   "cell_type": "markdown",
   "id": "8264ffcf-9053-49d5-b02c-347f8399f967",
   "metadata": {},
   "source": [
    "### Solution-07"
   ]
  },
  {
   "cell_type": "markdown",
   "id": "a812afcc-d998-408a-bfa4-951631ae16d1",
   "metadata": {},
   "source": [
    "    If an existing file is opened in write mode,then open(\"filename\", \"w\") is used for writing on/over the file. \n",
    "    If the file with the supplied name doesn’t exist, it creates one for us."
   ]
  },
  {
   "cell_type": "markdown",
   "id": "91c1775b-b846-4777-a7f4-fc438de18ac2",
   "metadata": {},
   "source": [
    "### Solution-08"
   ]
  },
  {
   "cell_type": "markdown",
   "id": "b64545d8-8ed0-4212-8f91-be02000232ec",
   "metadata": {},
   "source": [
    "    -> read() reads all of the file's contents into a string \n",
    "    -> readline() reads just a single line from the file and display them as a output.\n",
    "    -> readlines() reads all the lines and display the output in form of a list with each line as its one of the elements."
   ]
  },
  {
   "cell_type": "markdown",
   "id": "7572992a-aaea-4052-8eca-34e1bbdc5507",
   "metadata": {},
   "source": [
    "### Solution-09"
   ]
  },
  {
   "cell_type": "markdown",
   "id": "d03b88f5-c9f7-4e5f-bc4c-6a2dc2e3ddde",
   "metadata": {},
   "source": [
    "    A shelf value resembles a dictionary value; it has keys and values, along with keys() and values() methods that work similarly to the dictionary methods of the same names."
   ]
  },
  {
   "cell_type": "code",
   "execution_count": 2,
   "id": "60ddbc7d-09a8-4a20-873b-dd16bab5eb8a",
   "metadata": {},
   "outputs": [
    {
     "data": {
      "text/plain": [
       "'*********************End of Assignment**********************'"
      ]
     },
     "execution_count": 2,
     "metadata": {},
     "output_type": "execute_result"
    }
   ],
   "source": [
    "\"End of Assignment\".center(60,\"*\")"
   ]
  }
 ],
 "metadata": {
  "kernelspec": {
   "display_name": "Python 3 (ipykernel)",
   "language": "python",
   "name": "python3"
  },
  "language_info": {
   "codemirror_mode": {
    "name": "ipython",
    "version": 3
   },
   "file_extension": ".py",
   "mimetype": "text/x-python",
   "name": "python",
   "nbconvert_exporter": "python",
   "pygments_lexer": "ipython3",
   "version": "3.10.6"
  }
 },
 "nbformat": 4,
 "nbformat_minor": 5
}
