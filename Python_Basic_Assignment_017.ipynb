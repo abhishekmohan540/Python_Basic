{
 "cells": [
  {
   "cell_type": "markdown",
   "id": "4840decb-cc4c-4d4e-9afc-96c582ba0ff7",
   "metadata": {},
   "source": [
    "## Assignment-17"
   ]
  },
  {
   "cell_type": "markdown",
   "id": "4080a16f-6ecc-41dd-8feb-a89d65994410",
   "metadata": {},
   "source": [
    "    1. Assign the value 7 to the variable guess_me. Then, write the conditional tests (if, else, and elif) to\n",
    "    print the string 'too low' if guess_me is less than 7, 'too high' if greater than 7, and 'just right' if equal\n",
    "    to 7.\n",
    "    2. Assign the value 7 to the variable guess_me and the value 1 to the variable start. Write a while\n",
    "    loop that compares start with guess_me. Print too low if start is less than guess me. If start equals\n",
    "    guess_me, print 'found it!' and exit the loop. If start is greater than guess_me, print 'oops' and exit\n",
    "    the loop. Increment start at the end of the loop.\n",
    "    3. Print the following values of the list [3, 2, 1, 0] using a for loop.\n",
    "    4. Use a list comprehension to make a list of the even numbers in range(10)\n",
    "    5. Use a dictionary comprehension to create the dictionary squares. Use range(10) to return the\n",
    "    keys, and use the square of each key as its value.\n",
    "    6. Construct the set odd from the odd numbers in the range using a set comprehension (10).\n",
    "    7. Use a generator comprehension to return the string &#39;Got &#39; and a number for the numbers in\n",
    "    range(10). Iterate through this by using a for loop.\n",
    "    8. Define a function called good that returns the list ['Harry', 'Ron', 'Hermione'].\n",
    "    9. Define a generator function called get_odds that returns the odd numbers from range(10). Use a\n",
    "    for loop to find and print the third value returned.\n",
    "    10. Define an exception called OopsException. Raise this exception to see what happens. Then write\n",
    "    the code to catch this exception and print 'Caught an oops'.\n",
    "    11. Use zip() to make a dictionary called movies that pairs these lists: titles = ['Creature of Habit',\n",
    "    'Crewel Fate'] and plots = ['A nun turns into a monster','A haunted yarn shop']."
   ]
  },
  {
   "cell_type": "code",
   "execution_count": 1,
   "id": "c5baab0f-f1f4-4e09-acb6-54bc695cb1b1",
   "metadata": {},
   "outputs": [],
   "source": [
    "#Solution-1"
   ]
  },
  {
   "cell_type": "code",
   "execution_count": 2,
   "id": "e9b18a55-9ccb-47c2-8748-25cb6632d1f5",
   "metadata": {},
   "outputs": [
    {
     "name": "stdout",
     "output_type": "stream",
     "text": [
      "just right\n"
     ]
    }
   ],
   "source": [
    "guess_me =7\n",
    "if guess_me < 7:\n",
    "    print(\"too low\")\n",
    "elif guess_me > 7:\n",
    "    print(\"too high\")\n",
    "else:\n",
    "    print(\"just right\")"
   ]
  },
  {
   "cell_type": "code",
   "execution_count": 3,
   "id": "f597616d-984a-43fb-ab8b-9b0d080bc8fe",
   "metadata": {},
   "outputs": [],
   "source": [
    "# Solution-2"
   ]
  },
  {
   "cell_type": "code",
   "execution_count": 34,
   "id": "21b37cd1-d9c3-483c-a061-a9de6157ff5f",
   "metadata": {},
   "outputs": [
    {
     "name": "stdout",
     "output_type": "stream",
     "text": [
      "too low\n",
      "too low\n",
      "too low\n",
      "too low\n",
      "too low\n",
      "too low\n",
      "found it!\n"
     ]
    }
   ],
   "source": [
    "guess_me = 7\n",
    "start = 1\n",
    "\n",
    "while True:\n",
    "    if start < guess_me:\n",
    "        print('too low')\n",
    "    elif start == guess_me:\n",
    "        print('found it!')\n",
    "        break\n",
    "    else:\n",
    "        print('oops')\n",
    "        break\n",
    "    start += 1\n"
   ]
  },
  {
   "cell_type": "code",
   "execution_count": 4,
   "id": "fb333c92-7029-40cc-b3a9-39a90c4de1c2",
   "metadata": {},
   "outputs": [],
   "source": [
    "# Solution-3"
   ]
  },
  {
   "cell_type": "code",
   "execution_count": 10,
   "id": "fad8accc-7d81-4b29-824b-233eac82beee",
   "metadata": {},
   "outputs": [
    {
     "name": "stdout",
     "output_type": "stream",
     "text": [
      "[3, 2, 1, 0]\n"
     ]
    }
   ],
   "source": [
    "a = []\n",
    "for i in range(0,4):\n",
    "    a.append(i)\n",
    "print(a[::-1])"
   ]
  },
  {
   "cell_type": "code",
   "execution_count": 11,
   "id": "72e45176-00e0-4547-a5a8-98d8cfe0e146",
   "metadata": {},
   "outputs": [],
   "source": [
    "# Solution-04"
   ]
  },
  {
   "cell_type": "code",
   "execution_count": 12,
   "id": "78f085fb-4980-4a87-b81b-268215b78470",
   "metadata": {},
   "outputs": [
    {
     "data": {
      "text/plain": [
       "[0, 2, 4, 6, 8]"
      ]
     },
     "execution_count": 12,
     "metadata": {},
     "output_type": "execute_result"
    }
   ],
   "source": [
    "[i for i in range(10) if i%2==0]"
   ]
  },
  {
   "cell_type": "code",
   "execution_count": 13,
   "id": "db9f1fd6-7cb2-4b81-b744-001517f90f76",
   "metadata": {},
   "outputs": [],
   "source": [
    "# Solution-05"
   ]
  },
  {
   "cell_type": "code",
   "execution_count": 14,
   "id": "cc1e9dee-3559-410c-abc1-faaaebc08045",
   "metadata": {},
   "outputs": [],
   "source": [
    "squares = {num: num**2 for num in range(10)}"
   ]
  },
  {
   "cell_type": "code",
   "execution_count": 15,
   "id": "1923040f-d60c-4022-a32c-ce26182b9470",
   "metadata": {},
   "outputs": [
    {
     "data": {
      "text/plain": [
       "{0: 0, 1: 1, 2: 4, 3: 9, 4: 16, 5: 25, 6: 36, 7: 49, 8: 64, 9: 81}"
      ]
     },
     "execution_count": 15,
     "metadata": {},
     "output_type": "execute_result"
    }
   ],
   "source": [
    "squares"
   ]
  },
  {
   "cell_type": "code",
   "execution_count": 16,
   "id": "c21e3bb3-b051-4ec1-8a5e-ed39ec99898e",
   "metadata": {},
   "outputs": [],
   "source": [
    "# Solution-06"
   ]
  },
  {
   "cell_type": "code",
   "execution_count": 17,
   "id": "fb7abe8f-6805-47cf-b5b4-d537a080f4cc",
   "metadata": {},
   "outputs": [],
   "source": [
    "odd = {num for num in range(10) if num % 2 != 0}"
   ]
  },
  {
   "cell_type": "code",
   "execution_count": 18,
   "id": "4a28b0b3-7644-4b04-91e9-64cd948ccca1",
   "metadata": {},
   "outputs": [
    {
     "data": {
      "text/plain": [
       "{1, 3, 5, 7, 9}"
      ]
     },
     "execution_count": 18,
     "metadata": {},
     "output_type": "execute_result"
    }
   ],
   "source": [
    "odd"
   ]
  },
  {
   "cell_type": "code",
   "execution_count": 19,
   "id": "6af730fd-3cb3-4c28-bc67-c5274ad2c4c1",
   "metadata": {},
   "outputs": [],
   "source": [
    "# Solution-07"
   ]
  },
  {
   "cell_type": "code",
   "execution_count": 20,
   "id": "f0197a17-06dd-4598-8f8b-dbee840afe01",
   "metadata": {},
   "outputs": [],
   "source": [
    "generator = ('Got ' + str(num) for num in range(10))"
   ]
  },
  {
   "cell_type": "code",
   "execution_count": 21,
   "id": "03685566-7c87-4fe7-b15f-82d32e887813",
   "metadata": {},
   "outputs": [
    {
     "name": "stdout",
     "output_type": "stream",
     "text": [
      "Got 0\n",
      "Got 1\n",
      "Got 2\n",
      "Got 3\n",
      "Got 4\n",
      "Got 5\n",
      "Got 6\n",
      "Got 7\n",
      "Got 8\n",
      "Got 9\n"
     ]
    }
   ],
   "source": [
    "for item in generator:\n",
    "    print(item)"
   ]
  },
  {
   "cell_type": "code",
   "execution_count": 22,
   "id": "a27f23c1-b729-47c3-9f3a-ec7fc0089f5a",
   "metadata": {},
   "outputs": [],
   "source": [
    "# Solution-08"
   ]
  },
  {
   "cell_type": "code",
   "execution_count": 23,
   "id": "83521d9d-f9f5-495b-a612-e6bba721cb34",
   "metadata": {},
   "outputs": [],
   "source": [
    "def good():\n",
    "    return ['Harry', 'Ron', 'Hermione']"
   ]
  },
  {
   "cell_type": "code",
   "execution_count": 24,
   "id": "2472bfde-7388-4155-8588-357bab06e1f7",
   "metadata": {},
   "outputs": [],
   "source": [
    "lis = good()"
   ]
  },
  {
   "cell_type": "code",
   "execution_count": 25,
   "id": "15c0a8e9-69a7-4a3a-bd08-0d42a9057c05",
   "metadata": {},
   "outputs": [
    {
     "name": "stdout",
     "output_type": "stream",
     "text": [
      "['Harry', 'Ron', 'Hermione']\n"
     ]
    }
   ],
   "source": [
    "print(lis)"
   ]
  },
  {
   "cell_type": "code",
   "execution_count": 26,
   "id": "4dc4017a-1b9e-42dc-b459-7dff3c8308f9",
   "metadata": {},
   "outputs": [],
   "source": [
    "# Solution-09"
   ]
  },
  {
   "cell_type": "code",
   "execution_count": 27,
   "id": "8438bc90-5fa2-4cc9-b77c-108b25773afc",
   "metadata": {},
   "outputs": [],
   "source": [
    "def get_odds():\n",
    "    for num in range(10):\n",
    "        if num % 2 != 0:\n",
    "            yield num"
   ]
  },
  {
   "cell_type": "code",
   "execution_count": 28,
   "id": "65413a05-0fa2-4a7a-b4b6-b1668625b610",
   "metadata": {},
   "outputs": [
    {
     "name": "stdout",
     "output_type": "stream",
     "text": [
      "5\n"
     ]
    }
   ],
   "source": [
    "count = 0\n",
    "for num in get_odds():\n",
    "    count += 1\n",
    "    if count == 3:\n",
    "        print(num)\n",
    "        break\n"
   ]
  },
  {
   "cell_type": "code",
   "execution_count": 29,
   "id": "3ef4484e-2a11-4081-a608-0a505f54603c",
   "metadata": {},
   "outputs": [],
   "source": [
    "# Solution-10"
   ]
  },
  {
   "cell_type": "code",
   "execution_count": 30,
   "id": "32afff4d-45b6-4635-8815-f08b775d2e54",
   "metadata": {},
   "outputs": [
    {
     "ename": "OopsException",
     "evalue": "Something went wrong!",
     "output_type": "error",
     "traceback": [
      "\u001b[0;31m---------------------------------------------------------------------------\u001b[0m",
      "\u001b[0;31mOopsException\u001b[0m                             Traceback (most recent call last)",
      "Cell \u001b[0;32mIn [30], line 4\u001b[0m\n\u001b[1;32m      1\u001b[0m \u001b[38;5;28;01mclass\u001b[39;00m \u001b[38;5;21;01mOopsException\u001b[39;00m(\u001b[38;5;167;01mException\u001b[39;00m):\n\u001b[1;32m      2\u001b[0m     \u001b[38;5;28;01mpass\u001b[39;00m\n\u001b[0;32m----> 4\u001b[0m \u001b[38;5;28;01mraise\u001b[39;00m OopsException(\u001b[38;5;124m\"\u001b[39m\u001b[38;5;124mSomething went wrong!\u001b[39m\u001b[38;5;124m\"\u001b[39m)\n\u001b[1;32m      6\u001b[0m \u001b[38;5;28;01mtry\u001b[39;00m:\n\u001b[1;32m      7\u001b[0m     \u001b[38;5;28;01mraise\u001b[39;00m OopsException(\u001b[38;5;124m\"\u001b[39m\u001b[38;5;124mSomething went wrong!\u001b[39m\u001b[38;5;124m\"\u001b[39m)\n",
      "\u001b[0;31mOopsException\u001b[0m: Something went wrong!"
     ]
    }
   ],
   "source": [
    "class OopsException(Exception):\n",
    "    pass\n",
    "\n",
    "raise OopsException(\"Something went wrong!\")\n",
    "\n",
    "try:\n",
    "    raise OopsException(\"Something went wrong!\")\n",
    "except OopsException:\n",
    "    print('Caught an oops')\n"
   ]
  },
  {
   "cell_type": "code",
   "execution_count": 31,
   "id": "fdc3030e-a118-4b4a-bb7b-6339f8561087",
   "metadata": {},
   "outputs": [],
   "source": [
    "# Solution-11"
   ]
  },
  {
   "cell_type": "code",
   "execution_count": 32,
   "id": "e2638338-8d1b-4467-8f03-c80d8897ee7a",
   "metadata": {},
   "outputs": [],
   "source": [
    "titles = ['Creature of Habit', 'Crewel Fate']\n",
    "plots = ['A nun turns into a monster', 'A haunted yarn shop']\n",
    "\n",
    "movies = dict(zip(titles, plots))"
   ]
  },
  {
   "cell_type": "code",
   "execution_count": 33,
   "id": "409cb517-b4be-4ef3-a716-d1e7ed5d68e4",
   "metadata": {},
   "outputs": [
    {
     "name": "stdout",
     "output_type": "stream",
     "text": [
      "{'Creature of Habit': 'A nun turns into a monster', 'Crewel Fate': 'A haunted yarn shop'}\n"
     ]
    }
   ],
   "source": [
    "print(movies)"
   ]
  },
  {
   "cell_type": "markdown",
   "id": "9aa73f6c-2d88-4422-a475-444fd27a4d66",
   "metadata": {},
   "source": [
    "## End of Assignment"
   ]
  },
  {
   "cell_type": "code",
   "execution_count": null,
   "id": "1d725a55-d5d6-42de-826d-bd804f2ba4d8",
   "metadata": {},
   "outputs": [],
   "source": []
  }
 ],
 "metadata": {
  "kernelspec": {
   "display_name": "Python 3 (ipykernel)",
   "language": "python",
   "name": "python3"
  },
  "language_info": {
   "codemirror_mode": {
    "name": "ipython",
    "version": 3
   },
   "file_extension": ".py",
   "mimetype": "text/x-python",
   "name": "python",
   "nbconvert_exporter": "python",
   "pygments_lexer": "ipython3",
   "version": "3.10.6"
  }
 },
 "nbformat": 4,
 "nbformat_minor": 5
}
