{
 "cells": [
  {
   "cell_type": "markdown",
   "id": "429a3d6c-2cc8-4276-b5fb-9b5aeb7db55f",
   "metadata": {},
   "source": [
    "    1. In what modes should the PdfFileReader() and PdfFileWriter() File objects will be opened?\n",
    "    2. From a PdfFileReader object, how do you get a Page object for page 5?\n",
    "    3. What PdfFileReader variable stores the number of pages in the PDF document?\n",
    "    4. If a PdfFileReader object’s PDF is encrypted with the password swordfish, what must you do\n",
    "    before you can obtain Page objects from it?\n",
    "    5. What methods do you use to rotate a page?\n",
    "    6. What is the difference between a Run object and a Paragraph object?\n",
    "    7. How do you obtain a list of Paragraph objects for a Document object that’s stored in a variable\n",
    "    named doc?\n",
    "    8. What type of object has bold, underline, italic, strike, and outline variables?\n",
    "    9. What is the difference between False, True, and None for the bold variable?\n",
    "    10. How do you create a Document object for a new Word document?\n",
    "    11. How do you add a paragraph with the text 'Hello, there!' to a Document object stored in a\n",
    "    variable named doc?\n",
    "    12. What integers represent the levels of headings available in Word documents?"
   ]
  },
  {
   "cell_type": "markdown",
   "id": "b583baf2-7777-49c1-bc3d-c0c7ff4fcf02",
   "metadata": {},
   "source": [
    "### Answer1:\n",
    "    PdfFileReader() should be opened in 'rb' (read binary) mode and PdfFileWriter() should be opened in 'wb' (write binary) mode."
   ]
  },
  {
   "cell_type": "markdown",
   "id": "fa9fd76c-d96e-4f7b-bb3b-a5333ac99312",
   "metadata": {},
   "source": [
    "### Answer2:\n",
    "    You can get a Page object for page 5 from a PdfFileReader object using the getPage() method and passing the page number as an argument\n",
    "    Example: page_obj = pdf_reader.getPage(4) (assuming we count pages starting from 0)."
   ]
  },
  {
   "cell_type": "markdown",
   "id": "b0470812-a570-43a5-b013-88c73e70561a",
   "metadata": {},
   "source": [
    "### Answer3:\n",
    "    The numPages variable of a PdfFileReader object stores the number of pages in the PDF document."
   ]
  },
  {
   "cell_type": "markdown",
   "id": "d4194ae7-d0ce-42e1-b464-c25307056bb9",
   "metadata": {},
   "source": [
    "### Answer4:\n",
    "    If a PdfFileReader object's PDF is encrypted with the password \"swordfish\", you must call the decrypt() method on the object and pass the password as an argument before you can obtain Page objects from it: \n",
    "    pdf_reader.decrypt('swordfish')."
   ]
  },
  {
   "cell_type": "markdown",
   "id": "0f3541cb-13f8-4ca1-950d-5c93ab4d30c8",
   "metadata": {},
   "source": [
    "### Answer5:\n",
    "    You can rotate a page using the rotateClockwise() or rotateCounterClockwise() methods of a Page object\n",
    "    Example: page_obj.rotateClockwise(90) or page_obj.rotateCounterClockwise(180)."
   ]
  },
  {
   "cell_type": "markdown",
   "id": "7e678c07-e21c-4723-96bc-b7338f9060dd",
   "metadata": {},
   "source": [
    "### Answer6:\n",
    "    A Paragraph object represents a single paragraph of text in a Word document, while a Run object represents a contiguous run of text with the same character style."
   ]
  },
  {
   "cell_type": "markdown",
   "id": "23ac76f6-913e-4957-b9a2-d6b4d47ed595",
   "metadata": {},
   "source": [
    "### Answer7:\n",
    "    You can obtain a list of Paragraph objects for a Document object named doc using the paragraphs attribute: \n",
    "    paragraphs = doc.paragraphs.\n"
   ]
  },
  {
   "cell_type": "markdown",
   "id": "cc35d702-daf4-4f82-97d4-16a54547a6bf",
   "metadata": {},
   "source": [
    "### Answer8:\n",
    "    A Run object has bold, underline, italic, strike, and outline variables."
   ]
  },
  {
   "cell_type": "markdown",
   "id": "5f94e7ef-c27c-421c-b5d5-ffd1f77063db",
   "metadata": {},
   "source": [
    "### Answer9:\n",
    "    The bold variable can take the values True, False, or None. True means the text is bold, False means it is not bold, and None means the bold property is inherited from the style hierarchy."
   ]
  },
  {
   "cell_type": "markdown",
   "id": "2c5fc9ac-b404-4710-82d5-69a45e1b7404",
   "metadata": {},
   "source": [
    "### Answer10:\n",
    "    You can create a Document object for a new Word document using the docx.Document() constructor: \n",
    "    doc = docx.Document()."
   ]
  },
  {
   "cell_type": "markdown",
   "id": "35f7442c-91f9-49ee-bbe9-bde25adc1f82",
   "metadata": {},
   "source": [
    "### Answer11:\n",
    "    You can add a paragraph with the text 'Hello, there!' to a Document object named doc using the add_paragraph() method: doc.add_paragraph('Hello, there!')."
   ]
  },
  {
   "cell_type": "markdown",
   "id": "5ae1ef56-6eff-4b14-ad50-185080a31d41",
   "metadata": {},
   "source": [
    "### Answer12:\n",
    "    The integers 0 to 8 represent the levels of headings available in Word documents, with 0 being the highest level (main heading) and 8 being the lowest level."
   ]
  },
  {
   "cell_type": "markdown",
   "id": "56eeff05-56d2-495b-b4ba-d8f29b872c8a",
   "metadata": {},
   "source": [
    "## End of Assignment"
   ]
  },
  {
   "cell_type": "code",
   "execution_count": null,
   "id": "980e4950-3861-40a7-ab70-6be9d186f5af",
   "metadata": {},
   "outputs": [],
   "source": []
  }
 ],
 "metadata": {
  "kernelspec": {
   "display_name": "Python 3 (ipykernel)",
   "language": "python",
   "name": "python3"
  },
  "language_info": {
   "codemirror_mode": {
    "name": "ipython",
    "version": 3
   },
   "file_extension": ".py",
   "mimetype": "text/x-python",
   "name": "python",
   "nbconvert_exporter": "python",
   "pygments_lexer": "ipython3",
   "version": "3.10.6"
  }
 },
 "nbformat": 4,
 "nbformat_minor": 5
}
