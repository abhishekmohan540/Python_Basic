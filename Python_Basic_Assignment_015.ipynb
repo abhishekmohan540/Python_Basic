{
 "cells": [
  {
   "cell_type": "markdown",
   "id": "c3764800-eb0e-43c8-bc46-6e9ac1ae4d32",
   "metadata": {},
   "source": [
    "    1.How many seconds are in an hour? Use the interactive interpreter as a calculator and multiply the\n",
    "    number of seconds in a minute (60) by the number of minutes in an hour (also 60)."
   ]
  },
  {
   "cell_type": "markdown",
   "id": "1acc0235-1e19-41e7-82bf-f30abcda179d",
   "metadata": {},
   "source": [
    "    Answer1"
   ]
  },
  {
   "cell_type": "code",
   "execution_count": 5,
   "id": "5c502171-38f7-424f-ba4d-76adfb3bfd71",
   "metadata": {},
   "outputs": [],
   "source": [
    "seconds_in_a_minute = 60\n",
    "minutes_in_an_hour = 60"
   ]
  },
  {
   "cell_type": "code",
   "execution_count": 6,
   "id": "97f477b3-e9ef-47dc-a0d9-8b5c63bd79dc",
   "metadata": {},
   "outputs": [],
   "source": [
    "seconds_in_an_hour = seconds_in_a_minute * minutes_in_an_hour"
   ]
  },
  {
   "cell_type": "code",
   "execution_count": 7,
   "id": "542b5de6-4ce0-47be-ab2d-7e61b086b75b",
   "metadata": {},
   "outputs": [
    {
     "data": {
      "text/plain": [
       "3600"
      ]
     },
     "execution_count": 7,
     "metadata": {},
     "output_type": "execute_result"
    }
   ],
   "source": [
    "seconds_in_an_hour"
   ]
  },
  {
   "cell_type": "markdown",
   "id": "0b1496ed-b08c-430c-88d4-94daaba389e5",
   "metadata": {},
   "source": [
    "    2. Assign the result from the previous task (seconds in an hour) to a variable called\n",
    "    seconds_per_hour."
   ]
  },
  {
   "cell_type": "markdown",
   "id": "47ca8d4b-997d-451e-8932-5d9cf9ff4802",
   "metadata": {},
   "source": [
    "    Answer2"
   ]
  },
  {
   "cell_type": "code",
   "execution_count": 9,
   "id": "4f225dc6-a507-4854-89c9-c0a2a0be35e1",
   "metadata": {},
   "outputs": [],
   "source": [
    "seconds_per_hour = seconds_in_an_hour"
   ]
  },
  {
   "cell_type": "code",
   "execution_count": 10,
   "id": "6202bf98-b25d-45d5-81da-64e9b11c3d36",
   "metadata": {},
   "outputs": [
    {
     "data": {
      "text/plain": [
       "3600"
      ]
     },
     "execution_count": 10,
     "metadata": {},
     "output_type": "execute_result"
    }
   ],
   "source": [
    "seconds_per_hour"
   ]
  },
  {
   "cell_type": "markdown",
   "id": "6b8876a9-b063-4069-b2ee-783e1c219d43",
   "metadata": {},
   "source": [
    "    3. How many seconds do you think there are in a day? Make use of the variables seconds per hour\n",
    "    and minutes per hour."
   ]
  },
  {
   "cell_type": "markdown",
   "id": "4b430b3c-217d-4931-9ff2-896f930f2163",
   "metadata": {},
   "source": [
    "    Answer3"
   ]
  },
  {
   "cell_type": "code",
   "execution_count": 14,
   "id": "192e1c2d-6bbc-4408-9459-75e9b1ef5de6",
   "metadata": {},
   "outputs": [],
   "source": [
    "seconds_in_a_day = seconds_per_hour  * 24"
   ]
  },
  {
   "cell_type": "code",
   "execution_count": 15,
   "id": "d5296dd4-6fa2-4ffe-8852-400681fcf25f",
   "metadata": {},
   "outputs": [
    {
     "data": {
      "text/plain": [
       "86400"
      ]
     },
     "execution_count": 15,
     "metadata": {},
     "output_type": "execute_result"
    }
   ],
   "source": [
    "seconds_in_a_day"
   ]
  },
  {
   "cell_type": "markdown",
   "id": "172a732d-6138-4046-a97c-f4c4bd6ea546",
   "metadata": {},
   "source": [
    "    4. Calculate seconds per day again, but this time save the result in a variable called seconds_per_day"
   ]
  },
  {
   "cell_type": "markdown",
   "id": "e3942a75-d42d-4aff-8f9e-db2c329afe6a",
   "metadata": {},
   "source": [
    "    Answer4"
   ]
  },
  {
   "cell_type": "code",
   "execution_count": 17,
   "id": "3ba71720-80e3-4dc9-a827-ecf17b8da5c4",
   "metadata": {},
   "outputs": [],
   "source": [
    "seconds_per_day = seconds_in_a_day"
   ]
  },
  {
   "cell_type": "code",
   "execution_count": 18,
   "id": "961be1f9-b1d7-4fbe-88f7-0979fa18e244",
   "metadata": {},
   "outputs": [
    {
     "data": {
      "text/plain": [
       "86400"
      ]
     },
     "execution_count": 18,
     "metadata": {},
     "output_type": "execute_result"
    }
   ],
   "source": [
    "seconds_per_day"
   ]
  },
  {
   "cell_type": "markdown",
   "id": "2611c4c6-ebea-43b3-95c8-2b692b0bb92e",
   "metadata": {},
   "source": [
    "    5. Divide seconds_per_day by seconds_per_hour. Use floating-point (/) division."
   ]
  },
  {
   "cell_type": "markdown",
   "id": "b5d3b4b8-0b0a-4784-8587-9812be40433b",
   "metadata": {},
   "source": [
    "    Answer5"
   ]
  },
  {
   "cell_type": "code",
   "execution_count": 19,
   "id": "da41491f-3e44-4138-811a-bcc04d573d79",
   "metadata": {},
   "outputs": [
    {
     "data": {
      "text/plain": [
       "24.0"
      ]
     },
     "execution_count": 19,
     "metadata": {},
     "output_type": "execute_result"
    }
   ],
   "source": [
    "seconds_per_day/seconds_per_hour"
   ]
  },
  {
   "cell_type": "markdown",
   "id": "ead8a2e1-6158-4cf2-a93a-9a1f5beda6ab",
   "metadata": {},
   "source": [
    "    6. Divide seconds_per_day by seconds_per_hour, using integer (//) division. Did this number agree\n",
    "    with the floating-point value from the previous question, aside from the final .0?"
   ]
  },
  {
   "cell_type": "markdown",
   "id": "f258aa65-a4fe-460a-b9c6-64ecb3b3d7fd",
   "metadata": {},
   "source": [
    "    Answer6"
   ]
  },
  {
   "cell_type": "code",
   "execution_count": 20,
   "id": "abc5df19-92e5-42dc-9793-53fbb3f085a4",
   "metadata": {},
   "outputs": [
    {
     "data": {
      "text/plain": [
       "24"
      ]
     },
     "execution_count": 20,
     "metadata": {},
     "output_type": "execute_result"
    }
   ],
   "source": [
    "seconds_per_day//seconds_per_hour"
   ]
  },
  {
   "cell_type": "markdown",
   "id": "64e742af-7880-4f60-88e9-5558dae03858",
   "metadata": {},
   "source": [
    "    Yes this number agrees with the floating value."
   ]
  },
  {
   "cell_type": "markdown",
   "id": "a2254dfd-26b5-4d89-8fcb-7cb9eb2ca113",
   "metadata": {},
   "source": [
    "    7. Write a generator, genPrimes, that returns the sequence of prime numbers on successive calls to\n",
    "    its next() method: 2, 3, 5, 7, 11, ..."
   ]
  },
  {
   "cell_type": "markdown",
   "id": "12599259-9c6c-44db-863f-071aba6f4bd9",
   "metadata": {},
   "source": [
    "    Answer7:"
   ]
  },
  {
   "cell_type": "code",
   "execution_count": 21,
   "id": "c54d20a3-dbdd-433d-afac-b980068ee168",
   "metadata": {},
   "outputs": [],
   "source": [
    "def genPrimes():\n",
    "    prime_numbers = []  \n",
    "    number = 2 \n",
    "    while True:\n",
    "        is_prime = True\n",
    "        for prime in prime_numbers:\n",
    "            if number % prime == 0:\n",
    "                is_prime = False\n",
    "                break\n",
    "\n",
    "        if is_prime:\n",
    "            prime_numbers.append(number)\n",
    "            yield number  \n",
    "        number = number + 1 "
   ]
  },
  {
   "cell_type": "code",
   "execution_count": 22,
   "id": "97afd6ac-6468-4e41-a871-d753a20fd5bf",
   "metadata": {},
   "outputs": [],
   "source": [
    "prime = genPrimes()"
   ]
  },
  {
   "cell_type": "code",
   "execution_count": 23,
   "id": "56dd6280-15ca-440a-8bcd-f718dca8a96c",
   "metadata": {},
   "outputs": [
    {
     "name": "stdout",
     "output_type": "stream",
     "text": [
      "<generator object genPrimes at 0x7f1f97fa3140>\n"
     ]
    }
   ],
   "source": [
    "print(prime)"
   ]
  },
  {
   "cell_type": "code",
   "execution_count": 24,
   "id": "1ea70db3-cb65-4e07-b711-a3cd24f63850",
   "metadata": {},
   "outputs": [
    {
     "data": {
      "text/plain": [
       "2"
      ]
     },
     "execution_count": 24,
     "metadata": {},
     "output_type": "execute_result"
    }
   ],
   "source": [
    "next(prime)"
   ]
  },
  {
   "cell_type": "code",
   "execution_count": 25,
   "id": "7064cb59-d324-49c2-a44c-fd8e386cbb9b",
   "metadata": {},
   "outputs": [
    {
     "data": {
      "text/plain": [
       "3"
      ]
     },
     "execution_count": 25,
     "metadata": {},
     "output_type": "execute_result"
    }
   ],
   "source": [
    "next(prime)"
   ]
  },
  {
   "cell_type": "code",
   "execution_count": 26,
   "id": "f1d3a12c-2271-430a-aa76-4c3b509aee59",
   "metadata": {},
   "outputs": [
    {
     "data": {
      "text/plain": [
       "5"
      ]
     },
     "execution_count": 26,
     "metadata": {},
     "output_type": "execute_result"
    }
   ],
   "source": [
    "next(prime)"
   ]
  },
  {
   "cell_type": "code",
   "execution_count": 27,
   "id": "2651e5a3-b1d5-4430-983e-9411f8a7f1e1",
   "metadata": {},
   "outputs": [
    {
     "data": {
      "text/plain": [
       "7"
      ]
     },
     "execution_count": 27,
     "metadata": {},
     "output_type": "execute_result"
    }
   ],
   "source": [
    "next(prime)"
   ]
  },
  {
   "cell_type": "markdown",
   "id": "1f30749c-65f5-4a82-9f85-8fd1e3be4d6b",
   "metadata": {},
   "source": [
    "## End of Assignment"
   ]
  },
  {
   "cell_type": "code",
   "execution_count": null,
   "id": "96ed8146-3c27-4335-b11c-335184474d55",
   "metadata": {},
   "outputs": [],
   "source": []
  }
 ],
 "metadata": {
  "kernelspec": {
   "display_name": "Python 3 (ipykernel)",
   "language": "python",
   "name": "python3"
  },
  "language_info": {
   "codemirror_mode": {
    "name": "ipython",
    "version": 3
   },
   "file_extension": ".py",
   "mimetype": "text/x-python",
   "name": "python",
   "nbconvert_exporter": "python",
   "pygments_lexer": "ipython3",
   "version": "3.10.6"
  }
 },
 "nbformat": 4,
 "nbformat_minor": 5
}
