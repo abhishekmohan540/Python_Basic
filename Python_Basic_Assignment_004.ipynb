{
 "cells": [
  {
   "cell_type": "markdown",
   "id": "98bd4eb2-3117-4432-b459-442a204d3a87",
   "metadata": {},
   "source": [
    "# 1. What exactly is []?"
   ]
  },
  {
   "cell_type": "markdown",
   "id": "2a1f4ccf-60a2-4f60-9710-b8ccd95e08f2",
   "metadata": {},
   "source": [
    "### Answer:-\n",
    "[] denotes a list in python. It can store values/data of different data types. So, list is also a collection of data enclosed in []."
   ]
  },
  {
   "cell_type": "markdown",
   "id": "2a42efdd-bdfe-4182-813f-4ec9b79447b1",
   "metadata": {},
   "source": [
    "# 2. In a list of values stored in a variable called spam, how would you assign the value 'hello' as the third value? (Assume [2, 4, 6, 8, 10] are in spam.)"
   ]
  },
  {
   "cell_type": "code",
   "execution_count": 1,
   "id": "4b44303f-4716-4905-ad40-e2921d16f108",
   "metadata": {},
   "outputs": [
    {
     "name": "stdout",
     "output_type": "stream",
     "text": [
      "[2, 4, 'hello', 8, 10]\n"
     ]
    }
   ],
   "source": [
    "spam = [2,4,6,8,10]\n",
    "spam[2] = 'hello'       # Here the earlier 3rd element will be replaced by 'hello'\n",
    "\n",
    "print(spam)"
   ]
  },
  {
   "cell_type": "code",
   "execution_count": 2,
   "id": "95a6e4f5-6036-4215-8224-642bd631e870",
   "metadata": {},
   "outputs": [
    {
     "name": "stdout",
     "output_type": "stream",
     "text": [
      "[2, 4, 'hello', 6, 8, 10]\n"
     ]
    }
   ],
   "source": [
    "spam = [2,4,6,8,10]\n",
    "spam.insert(2,'hello')    #Here 'hello' is inserted at 3rd place and the earlier 3rd element will be not lost. \n",
    "\n",
    "print(spam)"
   ]
  },
  {
   "cell_type": "markdown",
   "id": "4f04d6e7-2670-435b-83a4-0897b8c10c02",
   "metadata": {},
   "source": [
    "# Let's pretend the spam includes the list \\['a', 'b', 'c', 'd'] for the next three queries."
   ]
  },
  {
   "cell_type": "markdown",
   "id": "d09d7318-8cec-4dcb-ad33-a389e38a64ab",
   "metadata": {},
   "source": [
    "# 3. What is the value of spam[int(int('3'* 2) / 11)]?"
   ]
  },
  {
   "cell_type": "code",
   "execution_count": 2,
   "id": "0a987117-2ba0-4cbc-beed-5617e86fe358",
   "metadata": {},
   "outputs": [],
   "source": [
    "spam = ['a','b', 'c', 'd']"
   ]
  },
  {
   "cell_type": "code",
   "execution_count": 5,
   "id": "9f923075-81b6-4485-83a5-de1433f55688",
   "metadata": {},
   "outputs": [
    {
     "data": {
      "text/plain": [
       "'d'"
      ]
     },
     "execution_count": 5,
     "metadata": {},
     "output_type": "execute_result"
    }
   ],
   "source": [
    "spam[int(int('3'*2)/11)]"
   ]
  },
  {
   "cell_type": "markdown",
   "id": "0eb05227-704a-4651-9c13-b4482feb298f",
   "metadata": {},
   "source": [
    "# 4. What is the value of spam[-1]?"
   ]
  },
  {
   "cell_type": "code",
   "execution_count": 3,
   "id": "04b9e134-b22b-48d8-be0d-aad5e48a6bb5",
   "metadata": {},
   "outputs": [
    {
     "data": {
      "text/plain": [
       "'d'"
      ]
     },
     "execution_count": 3,
     "metadata": {},
     "output_type": "execute_result"
    }
   ],
   "source": [
    "spam[-1]"
   ]
  },
  {
   "cell_type": "markdown",
   "id": "c6ce76a3-e1e6-4de3-ba64-084761ca3b4d",
   "metadata": {},
   "source": [
    "# 5. What is the value of spam[:2]?"
   ]
  },
  {
   "cell_type": "code",
   "execution_count": 5,
   "id": "10c9a0e7-42eb-4c4d-be22-7b2811708d1b",
   "metadata": {},
   "outputs": [
    {
     "data": {
      "text/plain": [
       "['a', 'b']"
      ]
     },
     "execution_count": 5,
     "metadata": {},
     "output_type": "execute_result"
    }
   ],
   "source": [
    "spam[:2]"
   ]
  },
  {
   "cell_type": "markdown",
   "id": "160addf0-cdfd-4349-a3ee-c3fe0927f9f4",
   "metadata": {},
   "source": [
    "# Let's pretend bacon has the list [3.14, &#39;cat,&#39; 11, &#39;cat,&#39; True] for the next three questions."
   ]
  },
  {
   "cell_type": "markdown",
   "id": "c6af38f4-f12d-4436-a6fa-915952dfe4ef",
   "metadata": {},
   "source": [
    "# 6. What is the value of bacon.index('cat')?"
   ]
  },
  {
   "cell_type": "code",
   "execution_count": 3,
   "id": "00668582-3ddd-42c4-b5af-a69fe4d8e5da",
   "metadata": {},
   "outputs": [],
   "source": [
    "bacon = [3.14,'cat', 11, 'cat', 'True']"
   ]
  },
  {
   "cell_type": "code",
   "execution_count": 10,
   "id": "8a75ad55-53b0-426c-aa0d-5729d2bae5f1",
   "metadata": {},
   "outputs": [
    {
     "data": {
      "text/plain": [
       "1"
      ]
     },
     "execution_count": 10,
     "metadata": {},
     "output_type": "execute_result"
    }
   ],
   "source": [
    "bacon.index(\"cat\")"
   ]
  },
  {
   "cell_type": "code",
   "execution_count": 11,
   "id": "12b4d178-0b01-4cb4-ae86-b2871f9ad20b",
   "metadata": {},
   "outputs": [],
   "source": [
    "# index() will give index of first occurance of \"cat\" in the list\n"
   ]
  },
  {
   "cell_type": "markdown",
   "id": "9991e185-041a-4d83-930b-f4706d97d791",
   "metadata": {},
   "source": [
    "# 7. How does bacon.append(99) change the look of the list value in bacon?"
   ]
  },
  {
   "cell_type": "code",
   "execution_count": 5,
   "id": "82429da5-9e21-451c-a1ed-0eeca97db901",
   "metadata": {},
   "outputs": [],
   "source": [
    "bacon = [3.14,'cat', 11, 'cat', 'True']"
   ]
  },
  {
   "cell_type": "code",
   "execution_count": 6,
   "id": "2552f830-5422-4a68-8a96-56c0167623ba",
   "metadata": {},
   "outputs": [],
   "source": [
    "bacon.append(99)"
   ]
  },
  {
   "cell_type": "code",
   "execution_count": 7,
   "id": "062245d2-6d53-4d87-9309-597991b444d4",
   "metadata": {},
   "outputs": [
    {
     "name": "stdout",
     "output_type": "stream",
     "text": [
      "[3.14, 'cat', 11, 'cat', 'True', 99]\n"
     ]
    }
   ],
   "source": [
    "print(bacon)"
   ]
  },
  {
   "cell_type": "code",
   "execution_count": 8,
   "id": "8999deed-8de3-4087-b61a-65dc9a9689ee",
   "metadata": {},
   "outputs": [],
   "source": [
    "# append() will add 99 to the end of the list."
   ]
  },
  {
   "cell_type": "markdown",
   "id": "05062045-0c74-4cc1-8dd4-c033594139f6",
   "metadata": {},
   "source": [
    "# 8. How does bacon.remove('cat') change the look of the list in bacon?"
   ]
  },
  {
   "cell_type": "code",
   "execution_count": 12,
   "id": "a96b657d-9133-4d44-aaf2-5d8ca74e2092",
   "metadata": {},
   "outputs": [
    {
     "data": {
      "text/plain": [
       "[3.14, 'cat', 11, 'cat', 'True', 99]"
      ]
     },
     "execution_count": 12,
     "metadata": {},
     "output_type": "execute_result"
    }
   ],
   "source": [
    "bacon"
   ]
  },
  {
   "cell_type": "code",
   "execution_count": 13,
   "id": "42c01eb4-549d-445e-8dcb-4d63e2a3dcc8",
   "metadata": {},
   "outputs": [],
   "source": [
    "bacon.remove(\"cat\")"
   ]
  },
  {
   "cell_type": "code",
   "execution_count": 14,
   "id": "eff352dc-dc87-4445-ae8e-0525c17bd5a3",
   "metadata": {},
   "outputs": [
    {
     "data": {
      "text/plain": [
       "[3.14, 11, 'cat', 'True', 99]"
      ]
     },
     "execution_count": 14,
     "metadata": {},
     "output_type": "execute_result"
    }
   ],
   "source": [
    "bacon"
   ]
  },
  {
   "cell_type": "code",
   "execution_count": 15,
   "id": "a898bffe-c5b7-46d7-b8f6-13beb53cbd1c",
   "metadata": {},
   "outputs": [],
   "source": [
    "# first occurance of \"cat\" is removed from the list."
   ]
  },
  {
   "cell_type": "markdown",
   "id": "a99c0fc7-c308-4bad-8db7-d5d6ff59e2ee",
   "metadata": {},
   "source": [
    "# 9. What are the list concatenation and list replication operators?"
   ]
  },
  {
   "cell_type": "code",
   "execution_count": 100,
   "id": "d33ee28b-f829-4d1c-8d68-63a2c03b1dce",
   "metadata": {},
   "outputs": [],
   "source": [
    "# List concatenation is done by using + operator"
   ]
  },
  {
   "cell_type": "code",
   "execution_count": 105,
   "id": "fe23f1b1-e18f-44d5-9468-c97ff1f4db4d",
   "metadata": {},
   "outputs": [],
   "source": [
    "lis1=[1,2,3]\n",
    "lis2=[4,5,6]"
   ]
  },
  {
   "cell_type": "code",
   "execution_count": 106,
   "id": "dd95b493-4c71-4046-b942-8a7d4331406f",
   "metadata": {},
   "outputs": [
    {
     "data": {
      "text/plain": [
       "[1, 2, 3, 4, 5, 6]"
      ]
     },
     "execution_count": 106,
     "metadata": {},
     "output_type": "execute_result"
    }
   ],
   "source": [
    "lis1 + lis2     # Method1"
   ]
  },
  {
   "cell_type": "code",
   "execution_count": 108,
   "id": "86c62dce-2d3e-4fbf-a51a-0d7b07291728",
   "metadata": {},
   "outputs": [],
   "source": [
    "lis1 += lis2     #Method2"
   ]
  },
  {
   "cell_type": "code",
   "execution_count": 109,
   "id": "326afa3b-e0ac-4395-8766-b81e31a5d52e",
   "metadata": {},
   "outputs": [
    {
     "data": {
      "text/plain": [
       "[1, 2, 3, 4, 5, 6, 4, 5, 6]"
      ]
     },
     "execution_count": 109,
     "metadata": {},
     "output_type": "execute_result"
    }
   ],
   "source": [
    "lis1"
   ]
  },
  {
   "cell_type": "code",
   "execution_count": 104,
   "id": "9ed2ac17-b541-419d-837a-065443ec996f",
   "metadata": {},
   "outputs": [
    {
     "name": "stdout",
     "output_type": "stream",
     "text": [
      "[1, 2, 3, 4, 5, 6, 4, 5, 6]\n"
     ]
    }
   ],
   "source": [
    "for i in lis2:                    #Method3\n",
    "    lis1.append(i)\n",
    "print(lis1)    "
   ]
  },
  {
   "cell_type": "code",
   "execution_count": 114,
   "id": "ccce0e4d-b240-48b9-aa94-6c0da63752e6",
   "metadata": {},
   "outputs": [],
   "source": [
    "lis1=[1,2,3]\n",
    "lis2=[4,5,6]"
   ]
  },
  {
   "cell_type": "code",
   "execution_count": 115,
   "id": "4a78512b-de7b-4c41-8921-06e3e6f0bb1a",
   "metadata": {},
   "outputs": [],
   "source": [
    "lis1.extend(lis2)              #Method4"
   ]
  },
  {
   "cell_type": "code",
   "execution_count": 117,
   "id": "c72592c9-84d4-400e-bff9-29ddc24599c2",
   "metadata": {},
   "outputs": [
    {
     "data": {
      "text/plain": [
       "[1, 2, 3, 4, 5, 6]"
      ]
     },
     "execution_count": 117,
     "metadata": {},
     "output_type": "execute_result"
    }
   ],
   "source": [
    "lis1"
   ]
  },
  {
   "cell_type": "code",
   "execution_count": 118,
   "id": "d46b4964-36f3-4115-899f-3c7afd270f71",
   "metadata": {},
   "outputs": [],
   "source": [
    "#List replication is done by using * operator"
   ]
  },
  {
   "cell_type": "code",
   "execution_count": 119,
   "id": "347ca002-d7ba-46b6-8654-01f9de9a4b8f",
   "metadata": {},
   "outputs": [],
   "source": [
    "lis3 = [10,20,30,40]"
   ]
  },
  {
   "cell_type": "code",
   "execution_count": 120,
   "id": "04208ccd-7b86-4313-99f0-d126178441e0",
   "metadata": {},
   "outputs": [
    {
     "data": {
      "text/plain": [
       "[10, 20, 30, 40, 10, 20, 30, 40]"
      ]
     },
     "execution_count": 120,
     "metadata": {},
     "output_type": "execute_result"
    }
   ],
   "source": [
    "lis3*2"
   ]
  },
  {
   "cell_type": "code",
   "execution_count": 121,
   "id": "26d1f1fd-8684-48cb-a08d-4dffc55a71c9",
   "metadata": {},
   "outputs": [
    {
     "data": {
      "text/plain": [
       "[10, 20, 30, 40, 10, 20, 30, 40, 10, 20, 30, 40]"
      ]
     },
     "execution_count": 121,
     "metadata": {},
     "output_type": "execute_result"
    }
   ],
   "source": [
    "lis3*3"
   ]
  },
  {
   "cell_type": "markdown",
   "id": "1ff1ab6a-de07-4091-85f1-d17af5d88a39",
   "metadata": {},
   "source": [
    "# 10. What is difference between the list methods append() and insert()?"
   ]
  },
  {
   "cell_type": "code",
   "execution_count": 90,
   "id": "7a32642a-d962-4e44-91f4-26286ec95e13",
   "metadata": {},
   "outputs": [],
   "source": [
    "lis = [1,2,3,4,\"abhi\",100]"
   ]
  },
  {
   "cell_type": "code",
   "execution_count": 91,
   "id": "60958710-3a34-4e30-880a-148563a86fd1",
   "metadata": {},
   "outputs": [],
   "source": [
    "lis.append(\"iNeuron\")"
   ]
  },
  {
   "cell_type": "code",
   "execution_count": 93,
   "id": "1d4e2855-caba-4ad5-8164-841541bea311",
   "metadata": {},
   "outputs": [
    {
     "data": {
      "text/plain": [
       "[1, 2, 3, 4, 'abhi', 100, 'iNeuron']"
      ]
     },
     "execution_count": 93,
     "metadata": {},
     "output_type": "execute_result"
    }
   ],
   "source": [
    "lis"
   ]
  },
  {
   "cell_type": "code",
   "execution_count": 94,
   "id": "520000b0-11e2-4f8a-8d5f-44ccfeb68aee",
   "metadata": {},
   "outputs": [],
   "source": [
    "# append() adds the element at the end of the list."
   ]
  },
  {
   "cell_type": "code",
   "execution_count": 96,
   "id": "cb6bb6b1-a038-4e2d-9fb4-599cbf4d6cd4",
   "metadata": {},
   "outputs": [],
   "source": [
    "lis.insert(2, \"FSDS\")"
   ]
  },
  {
   "cell_type": "code",
   "execution_count": 98,
   "id": "a41c7bf9-7177-49c7-bb08-298675debe68",
   "metadata": {},
   "outputs": [
    {
     "data": {
      "text/plain": [
       "[1, 2, 'FSDS', 'FSDS', 3, 4, 'abhi', 100, 'iNeuron']"
      ]
     },
     "execution_count": 98,
     "metadata": {},
     "output_type": "execute_result"
    }
   ],
   "source": [
    "lis"
   ]
  },
  {
   "cell_type": "code",
   "execution_count": 99,
   "id": "e34749d5-045c-4416-afc5-1489f17eda0e",
   "metadata": {},
   "outputs": [],
   "source": [
    "# insert() add the element at the selected index location"
   ]
  },
  {
   "cell_type": "markdown",
   "id": "6ec32e10-6e47-4ea4-b79f-34fe1fb28743",
   "metadata": {},
   "source": [
    "# 11. What are the two methods for removing items from a list?"
   ]
  },
  {
   "cell_type": "markdown",
   "id": "49455ab4-c617-489c-82f9-2bb12afb5a71",
   "metadata": {},
   "source": [
    "1. By using remove() function\n",
    "2. By using pop() function"
   ]
  },
  {
   "cell_type": "code",
   "execution_count": 1,
   "id": "89c21ebd-b449-425b-9db2-63e3847e4df6",
   "metadata": {},
   "outputs": [],
   "source": [
    "List = [2,3,4,8,\"abhi\",12.23, \"delhi\"]"
   ]
  },
  {
   "cell_type": "code",
   "execution_count": 2,
   "id": "f5ebfc9e-827f-4dbf-890b-f61aad4a436f",
   "metadata": {},
   "outputs": [],
   "source": [
    "List.remove(4)"
   ]
  },
  {
   "cell_type": "code",
   "execution_count": 3,
   "id": "ee62f2fb-6d17-4f5c-9957-f4c5b9ef580c",
   "metadata": {},
   "outputs": [
    {
     "data": {
      "text/plain": [
       "[2, 3, 8, 'abhi', 12.23, 'delhi']"
      ]
     },
     "execution_count": 3,
     "metadata": {},
     "output_type": "execute_result"
    }
   ],
   "source": [
    "List"
   ]
  },
  {
   "cell_type": "code",
   "execution_count": 7,
   "id": "2b735806-29f9-411f-8794-2016a90431cd",
   "metadata": {},
   "outputs": [],
   "source": [
    "# 4 is removed from the list"
   ]
  },
  {
   "cell_type": "code",
   "execution_count": 8,
   "id": "0e30939e-b281-44fc-8595-bec437b4cbd2",
   "metadata": {},
   "outputs": [
    {
     "data": {
      "text/plain": [
       "[2, 3, 8, 'abhi', 12.23, 'delhi']"
      ]
     },
     "execution_count": 8,
     "metadata": {},
     "output_type": "execute_result"
    }
   ],
   "source": [
    "List"
   ]
  },
  {
   "cell_type": "code",
   "execution_count": 9,
   "id": "3c9428f4-a260-407c-ba6a-87a668de1045",
   "metadata": {},
   "outputs": [
    {
     "data": {
      "text/plain": [
       "'abhi'"
      ]
     },
     "execution_count": 9,
     "metadata": {},
     "output_type": "execute_result"
    }
   ],
   "source": [
    "List.pop(3)"
   ]
  },
  {
   "cell_type": "code",
   "execution_count": 10,
   "id": "ccc91086-be16-48bf-9138-fdb1a0e2ba29",
   "metadata": {},
   "outputs": [
    {
     "data": {
      "text/plain": [
       "[2, 3, 8, 12.23, 'delhi']"
      ]
     },
     "execution_count": 10,
     "metadata": {},
     "output_type": "execute_result"
    }
   ],
   "source": [
    "List"
   ]
  },
  {
   "cell_type": "markdown",
   "id": "a58e4369-04ab-41f1-806b-6d691f368506",
   "metadata": {},
   "source": [
    "### pop() is used to remove element from the list with the help of index provided in the funtion. Only the elememnt at that index is removed from the list. If nothing is provided, then it will remove the last element from the list.\n",
    "\n",
    "### remove() is used to remove a particular element from the list. The element to be removed is provided inside the function. Only that element is removed."
   ]
  },
  {
   "cell_type": "code",
   "execution_count": 17,
   "id": "32367274-aad8-4c96-ac60-4490c74a3236",
   "metadata": {},
   "outputs": [
    {
     "data": {
      "text/plain": [
       "[2, 3, 8, 12.23, 'delhi']"
      ]
     },
     "execution_count": 17,
     "metadata": {},
     "output_type": "execute_result"
    }
   ],
   "source": [
    "List"
   ]
  },
  {
   "cell_type": "code",
   "execution_count": 18,
   "id": "5177282e-0bb3-4abe-8a05-64de76fecef5",
   "metadata": {},
   "outputs": [
    {
     "data": {
      "text/plain": [
       "'delhi'"
      ]
     },
     "execution_count": 18,
     "metadata": {},
     "output_type": "execute_result"
    }
   ],
   "source": [
    "List.pop()"
   ]
  },
  {
   "cell_type": "code",
   "execution_count": 19,
   "id": "e3ef4914-684d-4b2c-91a3-af82e1e25818",
   "metadata": {},
   "outputs": [
    {
     "data": {
      "text/plain": [
       "[2, 3, 8, 12.23]"
      ]
     },
     "execution_count": 19,
     "metadata": {},
     "output_type": "execute_result"
    }
   ],
   "source": [
    "List"
   ]
  },
  {
   "cell_type": "code",
   "execution_count": 20,
   "id": "46ce41a6-0096-4164-b25b-4308fca15a0c",
   "metadata": {},
   "outputs": [],
   "source": [
    "List.remove(12.23)"
   ]
  },
  {
   "cell_type": "code",
   "execution_count": 21,
   "id": "340a963e-820a-4834-a10b-24975cd54b58",
   "metadata": {},
   "outputs": [
    {
     "data": {
      "text/plain": [
       "[2, 3, 8]"
      ]
     },
     "execution_count": 21,
     "metadata": {},
     "output_type": "execute_result"
    }
   ],
   "source": [
    "List"
   ]
  },
  {
   "cell_type": "markdown",
   "id": "ba07fd58-ae48-43cb-ad87-b33358d7ae12",
   "metadata": {},
   "source": [
    "# 12. Describe how list values and string values are identical."
   ]
  },
  {
   "cell_type": "markdown",
   "id": "6dd8b349-bcb4-4d2a-bd83-68ff948c2cfb",
   "metadata": {},
   "source": [
    "#### 1. Both List and string can be used as element in each other ie. list can be used in string and string can be used in list. "
   ]
  },
  {
   "cell_type": "code",
   "execution_count": 25,
   "id": "576375fd-efbb-4d5d-bac1-774077037153",
   "metadata": {},
   "outputs": [],
   "source": [
    "x =\"[11,2,3]\""
   ]
  },
  {
   "cell_type": "code",
   "execution_count": 26,
   "id": "418ebebe-f558-4a31-92e3-308ec3d1dfe0",
   "metadata": {},
   "outputs": [
    {
     "data": {
      "text/plain": [
       "('[11,2,3]', str)"
      ]
     },
     "execution_count": 26,
     "metadata": {},
     "output_type": "execute_result"
    }
   ],
   "source": [
    "x, type(x)"
   ]
  },
  {
   "cell_type": "code",
   "execution_count": 27,
   "id": "d31b4382-194d-447e-af6b-43aefc42400a",
   "metadata": {},
   "outputs": [],
   "source": [
    "x= [\"abhi\"]"
   ]
  },
  {
   "cell_type": "code",
   "execution_count": 28,
   "id": "3c45f2fa-c553-42a7-abad-b2d2f13397e9",
   "metadata": {},
   "outputs": [
    {
     "data": {
      "text/plain": [
       "(['abhi'], list)"
      ]
     },
     "execution_count": 28,
     "metadata": {},
     "output_type": "execute_result"
    }
   ],
   "source": [
    "x, type(x)"
   ]
  },
  {
   "cell_type": "markdown",
   "id": "ab1833ee-073a-4097-80e4-f33acb7cbe32",
   "metadata": {},
   "source": [
    "#### 2. Slicing operation is possible in both list and String"
   ]
  },
  {
   "cell_type": "code",
   "execution_count": 32,
   "id": "864e473d-7be1-42c4-9c90-0aedbf436f63",
   "metadata": {},
   "outputs": [],
   "source": [
    "x = [1,2,3,45,12,100]"
   ]
  },
  {
   "cell_type": "code",
   "execution_count": 33,
   "id": "a6de9b75-daf4-452c-b014-6775a60cab8e",
   "metadata": {},
   "outputs": [
    {
     "data": {
      "text/plain": [
       "[1, 2, 3]"
      ]
     },
     "execution_count": 33,
     "metadata": {},
     "output_type": "execute_result"
    }
   ],
   "source": [
    "x[:3]"
   ]
  },
  {
   "cell_type": "code",
   "execution_count": 34,
   "id": "02ef140b-d15b-41b2-b563-3aa33e4af480",
   "metadata": {},
   "outputs": [
    {
     "data": {
      "text/plain": [
       "[3, 45, 12, 100]"
      ]
     },
     "execution_count": 34,
     "metadata": {},
     "output_type": "execute_result"
    }
   ],
   "source": [
    "x[2:]"
   ]
  },
  {
   "cell_type": "code",
   "execution_count": 35,
   "id": "91f12d78-9618-44aa-9d93-617091047ef7",
   "metadata": {},
   "outputs": [],
   "source": [
    "y = \"abhishek\""
   ]
  },
  {
   "cell_type": "code",
   "execution_count": 36,
   "id": "9a1a30b9-5a56-4e2a-8785-f8b0eb9fe5ce",
   "metadata": {},
   "outputs": [
    {
     "data": {
      "text/plain": [
       "'abhis'"
      ]
     },
     "execution_count": 36,
     "metadata": {},
     "output_type": "execute_result"
    }
   ],
   "source": [
    "y[:5]"
   ]
  },
  {
   "cell_type": "code",
   "execution_count": 37,
   "id": "d5e183a6-421f-415d-b239-15ee1e96420f",
   "metadata": {},
   "outputs": [
    {
     "data": {
      "text/plain": [
       "'hishek'"
      ]
     },
     "execution_count": 37,
     "metadata": {},
     "output_type": "execute_result"
    }
   ],
   "source": [
    "y[2:]"
   ]
  },
  {
   "cell_type": "code",
   "execution_count": 38,
   "id": "6c01af83-932d-4f40-95f9-fca66dba1b4a",
   "metadata": {},
   "outputs": [
    {
     "data": {
      "text/plain": [
       "'bhi'"
      ]
     },
     "execution_count": 38,
     "metadata": {},
     "output_type": "execute_result"
    }
   ],
   "source": [
    "y[1:4]"
   ]
  },
  {
   "cell_type": "markdown",
   "id": "9694fc61-f529-48f5-b5d8-2d2cdbde4b0c",
   "metadata": {},
   "source": [
    "#### 3. Indexing is possible in both list and string"
   ]
  },
  {
   "cell_type": "code",
   "execution_count": 39,
   "id": "ae8bfcb3-09cd-4d4b-8e11-904ccc6b61ad",
   "metadata": {},
   "outputs": [
    {
     "data": {
      "text/plain": [
       "[1, 2, 3, 45, 12, 100]"
      ]
     },
     "execution_count": 39,
     "metadata": {},
     "output_type": "execute_result"
    }
   ],
   "source": [
    "x"
   ]
  },
  {
   "cell_type": "code",
   "execution_count": 40,
   "id": "90521333-6179-47dd-a813-44e9c408b476",
   "metadata": {},
   "outputs": [
    {
     "data": {
      "text/plain": [
       "100"
      ]
     },
     "execution_count": 40,
     "metadata": {},
     "output_type": "execute_result"
    }
   ],
   "source": [
    "x[5]"
   ]
  },
  {
   "cell_type": "code",
   "execution_count": 41,
   "id": "a3233de3-c9a4-44ad-ae2c-d32e995316b2",
   "metadata": {},
   "outputs": [
    {
     "data": {
      "text/plain": [
       "'abhishek'"
      ]
     },
     "execution_count": 41,
     "metadata": {},
     "output_type": "execute_result"
    }
   ],
   "source": [
    "y"
   ]
  },
  {
   "cell_type": "code",
   "execution_count": 42,
   "id": "d9b013f3-2e41-45ed-92c9-531ed8546514",
   "metadata": {},
   "outputs": [
    {
     "data": {
      "text/plain": [
       "'h'"
      ]
     },
     "execution_count": 42,
     "metadata": {},
     "output_type": "execute_result"
    }
   ],
   "source": [
    "y[5]"
   ]
  },
  {
   "cell_type": "markdown",
   "id": "995432ea-e7b2-4c72-bb76-7dca51c1febf",
   "metadata": {},
   "source": [
    "# 13. What is the difference between tuples and lists?"
   ]
  },
  {
   "cell_type": "markdown",
   "id": "5e131515-eab9-488f-97c8-65c5c5a613af",
   "metadata": {},
   "source": [
    "    SR.NO.\t              LIST\t                             TUPLE\n",
    "    1\tLists are mutable\t                     1. Tuples are immutable\n",
    "    2\tThe implication of iterations is         2.The implication of iterations is comparatively\n",
    "        Time-consuming\t                          Faster.\n",
    "    3\tThe list is better for performing        3..Tuple data type is appropriate for accessing\n",
    "        operations,such as insertion and          the elements.\n",
    "        deletion.\t         \n",
    "    4\tLists consume more memory\t             4.Tuple consumes less memory as compared to list\n",
    "    5\tLists have several built-in methods\t     5.Tuple does not have many built-in methods.\n",
    "    6\tThe unexpected changes and errors are    6. In tuple, it is hard to take place.\n",
    "        more likely to occur\t"
   ]
  },
  {
   "cell_type": "markdown",
   "id": "1b39c173-7872-444f-ae0e-4fe2e3e0690d",
   "metadata": {},
   "source": [
    "# 14. How do you type a tuple value that only contains the integer 42?"
   ]
  },
  {
   "cell_type": "code",
   "execution_count": 57,
   "id": "b8fc6241-4e11-4397-b9c2-22001a45c9f6",
   "metadata": {},
   "outputs": [],
   "source": [
    "x=[42] # WE CAN ASSIGN THIS VALUE TO LIST AND LATER CONVERT IT INTO TUPLE"
   ]
  },
  {
   "cell_type": "code",
   "execution_count": 61,
   "id": "3dc89596-1f4d-4941-a40f-07753dba178a",
   "metadata": {},
   "outputs": [
    {
     "data": {
      "text/plain": [
       "([42], list)"
      ]
     },
     "execution_count": 61,
     "metadata": {},
     "output_type": "execute_result"
    }
   ],
   "source": [
    "x, type(x)"
   ]
  },
  {
   "cell_type": "code",
   "execution_count": 63,
   "id": "3d347c6d-bd9c-4102-9b50-2fa97c7e8d8c",
   "metadata": {},
   "outputs": [],
   "source": [
    "x= tuple(x)"
   ]
  },
  {
   "cell_type": "code",
   "execution_count": 64,
   "id": "86fc1a21-c292-4ea5-973c-e188694c3b60",
   "metadata": {},
   "outputs": [
    {
     "data": {
      "text/plain": [
       "((42,), tuple)"
      ]
     },
     "execution_count": 64,
     "metadata": {},
     "output_type": "execute_result"
    }
   ],
   "source": [
    "x, type(x)"
   ]
  },
  {
   "cell_type": "code",
   "execution_count": 67,
   "id": "6f81c465-6451-4dd3-aaba-aa9338966835",
   "metadata": {},
   "outputs": [],
   "source": [
    "x=(42,)    # WE CAN TYPE LIKE THIS TO GET A SINGLE INTEGER VALUE"
   ]
  },
  {
   "cell_type": "code",
   "execution_count": 66,
   "id": "1f23fb99-0013-4b84-b608-c9d34f89adfb",
   "metadata": {},
   "outputs": [
    {
     "data": {
      "text/plain": [
       "((42,), tuple)"
      ]
     },
     "execution_count": 66,
     "metadata": {},
     "output_type": "execute_result"
    }
   ],
   "source": [
    "x, type(x)"
   ]
  },
  {
   "cell_type": "markdown",
   "id": "293cf3bf-b727-4e4f-9e76-fffa4bf7c71d",
   "metadata": {},
   "source": [
    "# 15. How do you get a list value's tuple form? How do you get a tuple value's list form?"
   ]
  },
  {
   "cell_type": "code",
   "execution_count": 68,
   "id": "80b5cbaa-2156-46b8-9311-0807dedf73d3",
   "metadata": {},
   "outputs": [],
   "source": [
    "List = [1,2,\"abhi\",10]"
   ]
  },
  {
   "cell_type": "code",
   "execution_count": 69,
   "id": "3f9c4fd0-8cf3-4d19-9c83-62ab15bcbbb1",
   "metadata": {},
   "outputs": [],
   "source": [
    "Tuple = tuple(List)   #List to tuple"
   ]
  },
  {
   "cell_type": "code",
   "execution_count": 70,
   "id": "4f297333-fd54-4def-b2ef-d8cc861231c2",
   "metadata": {},
   "outputs": [
    {
     "data": {
      "text/plain": [
       "(1, 2, 'abhi', 10)"
      ]
     },
     "execution_count": 70,
     "metadata": {},
     "output_type": "execute_result"
    }
   ],
   "source": [
    "Tuple"
   ]
  },
  {
   "cell_type": "code",
   "execution_count": 71,
   "id": "2657b08a-58bb-4253-8298-20c5f59f04ea",
   "metadata": {},
   "outputs": [
    {
     "data": {
      "text/plain": [
       "tuple"
      ]
     },
     "execution_count": 71,
     "metadata": {},
     "output_type": "execute_result"
    }
   ],
   "source": [
    "type(Tuple)"
   ]
  },
  {
   "cell_type": "code",
   "execution_count": 72,
   "id": "e51a9c58-0045-4e61-9a8a-e1f908e1616b",
   "metadata": {},
   "outputs": [
    {
     "data": {
      "text/plain": [
       "(1, 2, 'abhi', 10)"
      ]
     },
     "execution_count": 72,
     "metadata": {},
     "output_type": "execute_result"
    }
   ],
   "source": [
    "Tuple"
   ]
  },
  {
   "cell_type": "code",
   "execution_count": 73,
   "id": "13ffaa66-24ba-4fb1-b6dd-0ce0d96a4c95",
   "metadata": {},
   "outputs": [],
   "source": [
    "Lis = list(Tuple) # Tuple to list"
   ]
  },
  {
   "cell_type": "code",
   "execution_count": 74,
   "id": "d3b1de4b-7bdc-4764-a4b5-39a5ab9b3596",
   "metadata": {},
   "outputs": [
    {
     "data": {
      "text/plain": [
       "[1, 2, 'abhi', 10]"
      ]
     },
     "execution_count": 74,
     "metadata": {},
     "output_type": "execute_result"
    }
   ],
   "source": [
    "Lis"
   ]
  },
  {
   "cell_type": "code",
   "execution_count": 75,
   "id": "c9711169-e0b9-47f5-bcfc-46082535555d",
   "metadata": {},
   "outputs": [
    {
     "data": {
      "text/plain": [
       "list"
      ]
     },
     "execution_count": 75,
     "metadata": {},
     "output_type": "execute_result"
    }
   ],
   "source": [
    "type(Lis)"
   ]
  },
  {
   "cell_type": "markdown",
   "id": "59182c2f-b170-43c6-96dd-b3288ee094c2",
   "metadata": {},
   "source": [
    "# 16. Variables that \"contain\" list values are not necessarily lists themselves. Instead, what do they contain?"
   ]
  },
  {
   "cell_type": "code",
   "execution_count": 86,
   "id": "2f20a4c2-2ef4-466b-89eb-40e76051a7f2",
   "metadata": {},
   "outputs": [],
   "source": [
    "x = []\n",
    "x = [5,10]"
   ]
  },
  {
   "cell_type": "code",
   "execution_count": 87,
   "id": "49612a5b-07dd-46f7-ab94-1c4fe15b9cab",
   "metadata": {},
   "outputs": [
    {
     "data": {
      "text/plain": [
       "[5, 10]"
      ]
     },
     "execution_count": 87,
     "metadata": {},
     "output_type": "execute_result"
    }
   ],
   "source": [
    "x"
   ]
  },
  {
   "cell_type": "code",
   "execution_count": 76,
   "id": "99b0bd3b-ea76-4feb-8f97-04c852bdb4c2",
   "metadata": {},
   "outputs": [
    {
     "ename": "SyntaxError",
     "evalue": "cannot assign to literal (347105159.py, line 1)",
     "output_type": "error",
     "traceback": [
      "\u001b[0;36m  Cell \u001b[0;32mIn [76], line 1\u001b[0;36m\u001b[0m\n\u001b[0;31m    [1,\"abhi\"] = 120\u001b[0m\n\u001b[0m     ^\u001b[0m\n\u001b[0;31mSyntaxError\u001b[0m\u001b[0;31m:\u001b[0m cannot assign to literal\n"
     ]
    }
   ],
   "source": [
    "[1,\"abhi\"] = 120"
   ]
  },
  {
   "cell_type": "code",
   "execution_count": 79,
   "id": "dc44c178-99f7-4547-b7ad-86a4360096c8",
   "metadata": {},
   "outputs": [
    {
     "data": {
      "text/plain": [
       "[1, 'abhi']"
      ]
     },
     "execution_count": 79,
     "metadata": {},
     "output_type": "execute_result"
    }
   ],
   "source": [
    "[1,\"abhi\"]"
   ]
  },
  {
   "cell_type": "code",
   "execution_count": 88,
   "id": "00d46857-e79e-4b2a-8a81-6ec1219ac583",
   "metadata": {},
   "outputs": [],
   "source": [
    "# List that contain values can not be used as variable  while a empty list can be used to store other data."
   ]
  },
  {
   "cell_type": "markdown",
   "id": "6728326e-afc5-44e6-a569-a3b1baec8cbf",
   "metadata": {},
   "source": [
    "# 17. How do you distinguish between copy.copy() and copy.deepcopy()?"
   ]
  },
  {
   "cell_type": "markdown",
   "id": "5b6b5bed-303a-4938-9a38-1f86f1c2426f",
   "metadata": {},
   "source": [
    "### Deep Copy and Shallow Copy\n",
    "\n",
    "Syntax of Deep copy\n",
    "Syntax: copy.deepcopy(x)\n",
    "\n",
    "Syntax of Shallow copy\n",
    "Syntax: copy.copy(x)\n",
    "\n",
    "The copy() returns a shallow copy of the list, and deepcopy() returns a deep copy of the list."
   ]
  },
  {
   "cell_type": "code",
   "execution_count": 128,
   "id": "17e9f724-09bd-430a-a5ed-be5be1cacb1f",
   "metadata": {},
   "outputs": [],
   "source": [
    "import copy"
   ]
  },
  {
   "cell_type": "code",
   "execution_count": 129,
   "id": "10846a9d-5546-42c7-ba3f-1086f232398a",
   "metadata": {},
   "outputs": [],
   "source": [
    "l1= [1,2,3,4]"
   ]
  },
  {
   "cell_type": "code",
   "execution_count": 132,
   "id": "27104885-399c-4079-b118-183942fbcf30",
   "metadata": {},
   "outputs": [],
   "source": [
    "l2 = copy.copy(l1)"
   ]
  },
  {
   "cell_type": "code",
   "execution_count": 133,
   "id": "a5f0c496-d862-422b-82cd-45262c4bbb5f",
   "metadata": {},
   "outputs": [
    {
     "name": "stdout",
     "output_type": "stream",
     "text": [
      "[1, 2, 3, 4] 140284099571968\n"
     ]
    }
   ],
   "source": [
    "print(l2, id(l2))"
   ]
  },
  {
   "cell_type": "code",
   "execution_count": 134,
   "id": "d5c6b96d-217b-4bef-89b8-5b8ab8535863",
   "metadata": {},
   "outputs": [],
   "source": [
    "l3 = copy.deepcopy(l1)"
   ]
  },
  {
   "cell_type": "code",
   "execution_count": 135,
   "id": "26efe259-4c70-44d8-bfcd-b556721490ff",
   "metadata": {},
   "outputs": [
    {
     "name": "stdout",
     "output_type": "stream",
     "text": [
      "[1, 2, 3, 4] 140284442554752\n"
     ]
    }
   ],
   "source": [
    "print(l3, id(l3))"
   ]
  },
  {
   "cell_type": "markdown",
   "id": "754fa570-b6af-4a5a-b6d1-6c966163d8d9",
   "metadata": {},
   "source": [
    "#### What is Deep copy in Python?\n",
    "A deep copy creates a new compound object before inserting copies of the items found in the original into it in a recursive manner. It means first constructing a new collection object and then recursively populating it with copies of the child objects found in the original. In the case of deep copy, a copy of the object is copied into another object. It means that any changes made to a copy of the object do not reflect in the original object. \n",
    "\n",
    "#### What is Shallow copy in Python?\n",
    "A shallow copy creates a new compound object and then references the objects contained in the original within it, which means it constructs a new collection object and then populates it with references to the child objects found in the original. The copying process does not recurse and therefore won’t create copies of the child objects themselves. In the case of shallow copy, a reference of an object is copied into another object. It means that any changes made to a copy of an object do reflect in the original object. In python, this is implemented using the “copy()” function. \n",
    "\n"
   ]
  },
  {
   "cell_type": "code",
   "execution_count": null,
   "id": "21767b10-f337-4152-bd08-f4cc83c84bb0",
   "metadata": {},
   "outputs": [],
   "source": []
  },
  {
   "cell_type": "code",
   "execution_count": 151,
   "id": "6a4b7a87-0236-4e7e-b247-72e2c1c0b5e6",
   "metadata": {},
   "outputs": [
    {
     "name": "stdout",
     "output_type": "stream",
     "text": [
      "                              End of Assignment !                               \n",
      "                                 Abhishek Mohan                                 \n"
     ]
    }
   ],
   "source": [
    "print(\"End of Assignment !\".center(80, \" \"))\n",
    "print(\"Abhishek Mohan\".center(80, \" \"))"
   ]
  }
 ],
 "metadata": {
  "kernelspec": {
   "display_name": "Python 3 (ipykernel)",
   "language": "python",
   "name": "python3"
  },
  "language_info": {
   "codemirror_mode": {
    "name": "ipython",
    "version": 3
   },
   "file_extension": ".py",
   "mimetype": "text/x-python",
   "name": "python",
   "nbconvert_exporter": "python",
   "pygments_lexer": "ipython3",
   "version": "3.10.6"
  }
 },
 "nbformat": 4,
 "nbformat_minor": 5
}
