{
 "cells": [
  {
   "cell_type": "markdown",
   "id": "7d7850f0-1416-4c83-866d-7994673df794",
   "metadata": {},
   "source": [
    "    1. What does RGBA stand for?\n",
    "    2. From the Pillow module, how do you get the RGBA value of any images?\n",
    "    3. What is a box tuple, and how does it work?\n",
    "    4. Use your image and load in notebook then, How can you find out the width and height of an\n",
    "    Image object?\n",
    "    5. What method would you call to get Image object for a 100×100 image, excluding the lower-left\n",
    "    quarter of it?\n",
    "    6. After making changes to an Image object, how could you save it as an image file?\n",
    "    7. What module contains Pillow’s shape-drawing code?\n",
    "    8. Image objects do not have drawing methods. What kind of object does? How do you get this kind\n",
    "    of object?"
   ]
  },
  {
   "cell_type": "markdown",
   "id": "9eae00fa-1328-4a09-9bda-6888b0e239f9",
   "metadata": {},
   "source": [
    "## Answer:1"
   ]
  },
  {
   "cell_type": "markdown",
   "id": "35940ed3-e4bd-4e39-854e-56878ddc3a6c",
   "metadata": {},
   "source": [
    "    RGBA stands for Red, Green, Blue, and Alpha. It is a color model used to represent and display digital images. The RGBA model combines an RGB color model with an additional alpha channel, which represents the transparency or opacity of the color."
   ]
  },
  {
   "cell_type": "markdown",
   "id": "43e3063e-d23a-44f4-b2bb-a05bab9dfbc7",
   "metadata": {},
   "source": [
    "## Answer:2"
   ]
  },
  {
   "cell_type": "markdown",
   "id": "3eb97a41-6c47-47fc-920c-db5c05bb5613",
   "metadata": {},
   "source": [
    "    In the Pillow module, we can use the getpixel method to get the RGBA value of any pixel in an image. Example:"
   ]
  },
  {
   "cell_type": "markdown",
   "id": "78745e6a-ed5b-4ab7-9ca4-68a153981ef8",
   "metadata": {},
   "source": [
    "    from PIL import Image\n",
    "\n",
    "    image = Image.open(\"image.jpg\")\n",
    "    rgba_value = image.getpixel((x, y))\n"
   ]
  },
  {
   "cell_type": "markdown",
   "id": "e64dec48-d741-42c0-8b69-eef8c26b9119",
   "metadata": {},
   "source": [
    "    In the above code, image.jpg is the path to the image file, and (x, y) represents the coordinates of the pixel we want to retrieve the RGBA value from."
   ]
  },
  {
   "cell_type": "markdown",
   "id": "03212546-f6c7-48c7-b57f-954087278fe3",
   "metadata": {},
   "source": [
    "## Answer:3"
   ]
  },
  {
   "cell_type": "markdown",
   "id": "f9bb5e9a-f0c3-4113-9a17-18586f24f845",
   "metadata": {},
   "source": [
    "    In the context of the Pillow module, a box tuple represents a rectangular region or bounding box within an image. It is a tuple containing four values: (left, upper, right, lower). The left and upper values specify the coordinates of the top-left corner of the box, while the right and lower values specify the coordinates of the bottom-right corner of the box."
   ]
  },
  {
   "cell_type": "markdown",
   "id": "e1e1b748-8017-4dc0-ba26-7379912c57fb",
   "metadata": {},
   "source": [
    "## Answer:4"
   ]
  },
  {
   "cell_type": "markdown",
   "id": "a3b53361-cacc-4df8-bebc-d76150036fe7",
   "metadata": {},
   "source": [
    "    To find out the width and height of an Image object in Pillow, we can use the size attribute. Example:"
   ]
  },
  {
   "cell_type": "markdown",
   "id": "62ab4c84-682d-4b0f-a2b9-f251cba22bb6",
   "metadata": {},
   "source": [
    "    from PIL import Image\n",
    "\n",
    "    image = Image.open(\"image.jpg\")\n",
    "    width, height = image.size\n",
    "\n",
    "    print(\"Width:\", width)\n",
    "    print(\"Height:\", height)\n"
   ]
  },
  {
   "cell_type": "markdown",
   "id": "c22647cf-0d8f-4be3-8207-4db7c94631ec",
   "metadata": {},
   "source": [
    "    The size attribute returns a tuple containing the width and height of the image."
   ]
  },
  {
   "cell_type": "markdown",
   "id": "e00e33aa-0348-4fc3-87bc-85a600d85c89",
   "metadata": {},
   "source": [
    "## Answer:5"
   ]
  },
  {
   "cell_type": "markdown",
   "id": "ad940245-7fc1-41da-818a-8576cb33b6ef",
   "metadata": {},
   "source": [
    "    To get an Image object for a 100x100 image, excluding the lower-left quarter of it, we can use the crop method. Example:"
   ]
  },
  {
   "cell_type": "markdown",
   "id": "b762e0f7-6239-44d4-8fd8-7f8cae0d1dd4",
   "metadata": {},
   "source": [
    "    from PIL import Image\n",
    "\n",
    "    image = Image.open(\"image.jpg\")\n",
    "    cropped_image = image.crop((0, 0, 50, 50))\n",
    "\n",
    "    cropped_image.show()  # Display the cropped image\n"
   ]
  },
  {
   "cell_type": "markdown",
   "id": "8266a480-5d83-4665-8fef-eb935dafbf33",
   "metadata": {},
   "source": [
    "## Answer:6"
   ]
  },
  {
   "cell_type": "markdown",
   "id": "c8990b75-e144-4c9d-8c0d-848d52055e76",
   "metadata": {},
   "source": [
    "    After making changes to an Image object, we can save it as an image file using the save method. Example:"
   ]
  },
  {
   "cell_type": "markdown",
   "id": "b4c2674f-482e-4576-8cde-5605f2c63a11",
   "metadata": {},
   "source": [
    "    from PIL import Image\n",
    "\n",
    "    image = Image.open(\"image.jpg\")\n",
    "\n",
    "    image.save(\"modified_image.jpg\")\n"
   ]
  },
  {
   "cell_type": "markdown",
   "id": "f30d43ac-b46e-488b-897f-b79acddc4307",
   "metadata": {},
   "source": [
    "    In the above code, modified_image.jpg is the desired filename for the modified image file. "
   ]
  },
  {
   "cell_type": "markdown",
   "id": "1d38ef45-ad9f-4c86-ab84-dc15c2790d68",
   "metadata": {},
   "source": [
    "## Answer:7"
   ]
  },
  {
   "cell_type": "markdown",
   "id": "6cb2296b-9e72-4e13-826b-35282a0878ee",
   "metadata": {},
   "source": [
    "    The module that contains Pillow's shape-drawing code is called PIL.ImageDraw. This module provides methods and classes for drawing on images using various shapes such as lines, rectangles, circles, and polygons."
   ]
  },
  {
   "cell_type": "markdown",
   "id": "bbc1ee12-cc6c-4cc1-b6d2-2264191c58aa",
   "metadata": {},
   "source": [
    "## Answer:8"
   ]
  },
  {
   "cell_type": "markdown",
   "id": "ca598199-92f5-4c1d-8115-0064eb5c451f",
   "metadata": {},
   "source": [
    "    Image objects in Pillow do not have drawing methods. To perform drawing operations on an image, we need to create an ImageDraw object. We can get an ImageDraw object by calling the draw method on an Image object. Example:"
   ]
  },
  {
   "cell_type": "markdown",
   "id": "153c0c6a-b032-466c-b495-35850ccf1711",
   "metadata": {},
   "source": [
    "    from PIL import Image, ImageDraw\n",
    "\n",
    "    image = Image.new(\"RGB\", (500, 500))  \n",
    "    draw = ImageDraw.Draw(image)\n",
    "    draw.line([(0, 0), (500, 500)], fill=\"red\", width=2)\n",
    "\n",
    "    image.show() \n"
   ]
  },
  {
   "cell_type": "code",
   "execution_count": null,
   "id": "3a6d15e2-5b01-459a-88b6-df37f9998dbc",
   "metadata": {},
   "outputs": [],
   "source": [
    "##"
   ]
  }
 ],
 "metadata": {
  "kernelspec": {
   "display_name": "Python 3 (ipykernel)",
   "language": "python",
   "name": "python3"
  },
  "language_info": {
   "codemirror_mode": {
    "name": "ipython",
    "version": 3
   },
   "file_extension": ".py",
   "mimetype": "text/x-python",
   "name": "python",
   "nbconvert_exporter": "python",
   "pygments_lexer": "ipython3",
   "version": "3.10.6"
  }
 },
 "nbformat": 4,
 "nbformat_minor": 5
}
