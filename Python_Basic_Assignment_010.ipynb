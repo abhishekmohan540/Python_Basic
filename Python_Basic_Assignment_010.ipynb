{
 "cells": [
  {
   "cell_type": "markdown",
   "id": "56d3e34e-99e5-43c5-a743-a6cb5d0306ec",
   "metadata": {},
   "source": [
    "## 1. How do you distinguish between shutil.copy() and shutil.copytree()?."
   ]
  },
  {
   "cell_type": "markdown",
   "id": "3166ead3-959d-48a6-8e37-a24e4c41f6db",
   "metadata": {},
   "source": [
    "    The shutil.copy() function will copy a single file, while shutil.copytree() will copy an entire folder, along with all its contents.\n",
    "\n"
   ]
  },
  {
   "cell_type": "markdown",
   "id": "5ee287e7-626e-41f9-aca8-622c9a958f38",
   "metadata": {},
   "source": [
    "## 2. What function is used to rename files??\n"
   ]
  },
  {
   "cell_type": "markdown",
   "id": "90bb9f1d-c92b-41dc-b313-cdee3f904b24",
   "metadata": {},
   "source": [
    "    The shutil.move() function is used for renaming files, as well as moving them\n",
    "\n"
   ]
  },
  {
   "cell_type": "markdown",
   "id": "d1856600-438d-42d6-adc1-5e059503a34b",
   "metadata": {},
   "source": [
    "## 3. What is the difference between the delete functions in the send2trash and shutil modules?\n"
   ]
  },
  {
   "cell_type": "markdown",
   "id": "97188d49-6e66-4a76-b66d-d8f5c7643355",
   "metadata": {},
   "source": [
    "    The send2trash functions will move a file or folder to the recycle bin, while shutil functions will permanently delete files and folders."
   ]
  },
  {
   "cell_type": "markdown",
   "id": "ad4f1175-3cca-476e-a9b5-07c695c8626e",
   "metadata": {},
   "source": [
    "## 4.ZipFile objects have a close() method just like File objects’ close() method. What ZipFile method is equivalent to File objects’ open() method?\n"
   ]
  },
  {
   "cell_type": "markdown",
   "id": "6c23ed93-95cc-4562-8ce5-b06ae9071671",
   "metadata": {},
   "source": [
    "    The zipfile.ZipFile() function is equivalent to the open() function; the first argument is the filename, and the second argument is the mode to open the ZIP file in (read, write, or append)."
   ]
  },
  {
   "cell_type": "markdown",
   "id": "06f8c3a5-4b8d-4780-bb9d-988a00ad5357",
   "metadata": {},
   "source": [
    "## 5. Create a programme that searches a folder tree for files with a certain file extension (such as .pdf or .jpg). Copy these files from whatever location they are in to a new folder"
   ]
  },
  {
   "cell_type": "code",
   "execution_count": 8,
   "id": "0ad7b492-08ff-49a8-a165-ccc78a0ad5c8",
   "metadata": {},
   "outputs": [
    {
     "name": "stdin",
     "output_type": "stream",
     "text": [
      "Enter the absolute path of the source folder:  E:\\IQ\n",
      "Enter the type of file to copy (such as .pdf or .jpg):  .jpg\n",
      "Enter the absolute path of the destination folder:  E:\\Demo\n"
     ]
    }
   ],
   "source": [
    "import os, shutil\n",
    "\n",
    "sourcePath = input(\"Enter the absolute path of the source folder: \")\n",
    "fileExtType = input(\"Enter the type of file to copy (such as .pdf or .jpg): \").lower()\n",
    "destPath = input(\"Enter the absolute path of the destination folder: \")\n",
    "\n",
    "for foldername, subfolders, filenames in os.walk(sourcePath):\n",
    "    for filename in filenames:\n",
    "        if filename.lower().endswith(fileExtType):\n",
    "                print(foldername + '\\\\' + filename)\n",
    "                copySourcePath = os.path.join(foldername, filename)\n",
    "                print(copySourcePath)\n",
    "                shutil.copy(copySourcePath, destPath)\n",
    "        else:\n",
    "             continue\n",
    "\n"
   ]
  },
  {
   "cell_type": "code",
   "execution_count": null,
   "id": "398755c0-d7b1-4865-9f20-320a501fe0ba",
   "metadata": {},
   "outputs": [],
   "source": []
  },
  {
   "cell_type": "markdown",
   "id": "a1e5a164-8e0a-463b-acc1-42c2bf5a3cfc",
   "metadata": {},
   "source": [
    "## End of Assignment"
   ]
  }
 ],
 "metadata": {
  "kernelspec": {
   "display_name": "Python 3 (ipykernel)",
   "language": "python",
   "name": "python3"
  },
  "language_info": {
   "codemirror_mode": {
    "name": "ipython",
    "version": 3
   },
   "file_extension": ".py",
   "mimetype": "text/x-python",
   "name": "python",
   "nbconvert_exporter": "python",
   "pygments_lexer": "ipython3",
   "version": "3.10.6"
  }
 },
 "nbformat": 4,
 "nbformat_minor": 5
}
