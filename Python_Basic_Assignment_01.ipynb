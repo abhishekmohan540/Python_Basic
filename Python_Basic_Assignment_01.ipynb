{
 "cells": [
  {
   "cell_type": "markdown",
   "id": "aee11e1c-a3de-406e-a3aa-65381a3dd82b",
   "metadata": {},
   "source": [
    "# 1. In the below elements which of them are values or an expression? \n",
    "eg:- values can be integer or string and expressions will be mathematical operators.\n",
    "\n",
    "# Solutions:-\n",
    "\n",
    "# * = expression\n",
    "# \"hello\"  = value\n",
    "# -87.8  = value\n",
    "# -  = expression\n",
    "# /  = expression\n",
    "# +  = expression\n",
    "# 6  = value"
   ]
  },
  {
   "cell_type": "markdown",
   "id": "f2a3498d-bc12-458f-ab04-b37594639f8c",
   "metadata": {},
   "source": [
    "# 2. What is the difference between string and variable?"
   ]
  },
  {
   "cell_type": "markdown",
   "id": "ef0b4081-b711-43c6-80c3-dd8e8623c0c8",
   "metadata": {},
   "source": [
    "String :- In Python, string is an immutable sequence data type. It is the sequence of Unicode characters wrapped inside single, double, or triple quotes.\n",
    "\n",
    "Eg. \"Abhi\", 'Hello' etc.\n",
    "\n",
    "\n",
    "Variable :- A Python variable is a symbolic name that is a reference or pointer to an object. Once an object is assigned to a variable, you can refer to the object by that name. But the data itself is still contained within the object.\n",
    "\n",
    "Eg. x = 20, x is a variable here."
   ]
  },
  {
   "cell_type": "markdown",
   "id": "a14ea472-aa71-41f9-b638-8a6d6a2746b6",
   "metadata": {},
   "source": [
    "# 3. Describe three different data types."
   ]
  },
  {
   "cell_type": "markdown",
   "id": "41809682-54f4-431f-b342-3e44eb680fec",
   "metadata": {},
   "source": [
    "Data types:- Data types are the classification or categorization of data items. It represents the kind of value that tells what operations can be performed on a particular data. \n",
    "\n",
    "### 1.Numeric Data type:-\n",
    "In Python, numeric data type represent the data which has numeric value. Numeric value can be integer, floating number or even complex numbers. These values are defined as int, float and complex class in Python. \n",
    "\n",
    "Integers – This value is represented by int class. It contains positive or negative whole numbers (without fraction or decimal). In Python there is no limit to how long an integer value can be. Eg. 15,100,etc.\n",
    "\n",
    "Float – This value is represented by float class. It is a real number with floating point representation. It is specified by a decimal point. Eg. 2.75, 14.85 etc.\n",
    "\n",
    "Complex Numbers – Complex number is represented by complex class. It is specified as (real part) + (imaginary part)j. For example – 2+3j\n",
    "\n",
    "### 2.Sequence Data type:-\n",
    "In Python, sequence is the ordered collection of similar or different data types. Sequences allows to store multiple values in an organized and efficient fashion. There are several sequence types in Python –\n",
    "\n",
    "String:- In Python, Strings are arrays of bytes representing Unicode characters. A string is a collection of one or more characters put in a single quote, double-quote or triple quote. In python there is no character data type, a character is a string of length one. It is represented by str class.\n",
    "Eg. A = \"abhi\"\n",
    "\n",
    "List:- Lists are just like the arrays, declared in other languages which is a ordered collection of data. It is very flexible as the items in a list do not need to be of the same type.\n",
    "Eg. A = \\[1,2,3]\n",
    "\n",
    "Tuple:-Just like list, tuple is also an ordered collection of Python objects. The only difference between tuple and list is that tuples are immutable i.e. tuples cannot be modified after it is created. It is represented by tuple class.\n",
    "Eg. A = (1,2,3,\"abhi\")\n",
    "\n",
    "### 3.Boolean Data Types:- \n",
    "Data type with one of the two built-in values, True or False. Boolean objects that are equal to True are truthy (true), and those equal to False are falsy (false). But non-Boolean objects can be evaluated in Boolean context as well and determined to be true or false. It is denoted by the class bool."
   ]
  },
  {
   "cell_type": "markdown",
   "id": "42689893-0a78-4abe-9000-f3223a592b73",
   "metadata": {},
   "source": [
    "# 4. What is an expression made up of? What do all expressions do?"
   ]
  },
  {
   "cell_type": "markdown",
   "id": "53e13380-7f80-432b-9904-276de4f36a57",
   "metadata": {},
   "source": [
    "Expression:- An expression is a combination of operators and operands that is interpreted to produce some other value. In any programming language, an expression is evaluated as per the precedence of its operators. So that if there is more than one operator in an expression, their precedence decides which operation will be performed first.\n",
    "\n",
    "1. Constant Expressions: These are the expressions that have constant values only.\n",
    "2. Arithmetic Expressions: An arithmetic expression is a combination of numeric values, operators, and sometimes parenthesis. The result of this type of expression is also a numeric value. The operators used in these expressions are arithmetic operators like addition, subtraction, etc\n",
    "3. Integral Expressions: These are the kind of expressions that produce only integer results after all computations and type conversions.\n",
    "4. Floating Expressions: These are the kind of expressions which produce floating point numbers as result after all computations and type conversions.\n",
    "5. Relational Expressions: In these types of expressions, arithmetic expressions are written on both sides of relational operator (> , < , >= , <=). Those arithmetic expressions are evaluated first, and then compared as per relational operator and produce a boolean output in the end.\n",
    "6. Logical Expressions: These are kinds of expressions that result in either True or False. It basically specifies one or more conditions. For example, (10 == 9) is a condition if 10 is equal to 9. As we know it is not correct, so it will return False\n",
    "7. Bitwise Expressions: These are the kind of expressions in which computations are performed at bit level.\n",
    "8. Combinational Expressions: We can also use different types of expressions in a single expression, and that will be termed as combinational expressions."
   ]
  },
  {
   "cell_type": "markdown",
   "id": "157b7620-5428-4d1b-a469-8ccb9642bc66",
   "metadata": {},
   "source": [
    "# 5. This assignment statements, like spam = 10. What is the difference between an expression and a statement?"
   ]
  },
  {
   "cell_type": "markdown",
   "id": "5774bff1-3eff-44a3-b22f-b08aadcf82a4",
   "metadata": {},
   "source": [
    "Expressions represent something, like a number, a string, or an instance of a class. An expression is an instruction that combines values and operators and always evaluates down to a single value.\n",
    "\n",
    "For example, this is an expression:\n",
    "\n",
    "5 + 5\n",
    "\n",
    "Anything that does something is a statement. Any assignment to a variable or function call is a statement. A Python statement is pretty much everything else that isn't an expression. Here's an assignment statement:\n",
    "\n",
    "spam = 10"
   ]
  },
  {
   "cell_type": "markdown",
   "id": "276020d1-ac0a-42aa-9f1c-ae03814e2b9b",
   "metadata": {},
   "source": [
    "# 6. After running the following code, what does the variable bacon contain?\n",
    "### bacon = 22\n",
    "### bacon + 1"
   ]
  },
  {
   "cell_type": "code",
   "execution_count": 6,
   "id": "0d92d023-9ede-4045-8de0-c011aa930512",
   "metadata": {},
   "outputs": [
    {
     "data": {
      "text/plain": [
       "23"
      ]
     },
     "execution_count": 6,
     "metadata": {},
     "output_type": "execute_result"
    }
   ],
   "source": [
    "bacon = 22\n",
    "bacon + 1"
   ]
  },
  {
   "cell_type": "code",
   "execution_count": 7,
   "id": "1b9e7e69-2f6a-4b2b-917b-888d2aa3ca40",
   "metadata": {},
   "outputs": [
    {
     "data": {
      "text/plain": [
       "22"
      ]
     },
     "execution_count": 7,
     "metadata": {},
     "output_type": "execute_result"
    }
   ],
   "source": [
    "bacon"
   ]
  },
  {
   "cell_type": "code",
   "execution_count": 8,
   "id": "623a9f8b-7fef-4ab0-a1ac-6c215a02ead0",
   "metadata": {},
   "outputs": [],
   "source": [
    "#original value will remain the same untill it is assigned back to bacon."
   ]
  },
  {
   "cell_type": "markdown",
   "id": "79640abe-cce7-4068-a69a-2d52972d86d9",
   "metadata": {},
   "source": [
    "# 7. What should the values of the following two terms be?\n",
    "### 'spam' + 'spamspam'\n",
    "### 'spam'*3"
   ]
  },
  {
   "cell_type": "code",
   "execution_count": 9,
   "id": "02683fa7-3ae4-47e5-94ce-5c092a7c1427",
   "metadata": {},
   "outputs": [
    {
     "data": {
      "text/plain": [
       "'spamspamspam'"
      ]
     },
     "execution_count": 9,
     "metadata": {},
     "output_type": "execute_result"
    }
   ],
   "source": [
    "'spam' + 'spamspam'"
   ]
  },
  {
   "cell_type": "code",
   "execution_count": 10,
   "id": "7a7e0539-9efb-4277-a3be-556d68a6a2d6",
   "metadata": {},
   "outputs": [
    {
     "data": {
      "text/plain": [
       "'spamspamspam'"
      ]
     },
     "execution_count": 10,
     "metadata": {},
     "output_type": "execute_result"
    }
   ],
   "source": [
    "'spam' * 3"
   ]
  },
  {
   "cell_type": "markdown",
   "id": "0a474d0f-0791-455a-af58-77de5a00b297",
   "metadata": {},
   "source": [
    "# 8. Why is eggs a valid variable name while 100 is invalid?"
   ]
  },
  {
   "cell_type": "markdown",
   "id": "e7176fb5-d748-4fae-af43-29cf62cffb8f",
   "metadata": {},
   "source": [
    "Rules for creating variables in Python- \n",
    "A variable name must start with a letter or the underscore character.\n",
    "A variable name cannot start with a number.\n",
    "A variable name can only contain alpha-numeric characters and underscores (A-z, 0-9, and _ ).\n",
    "Variable names are case-sensitive (name, Name and NAME are three different variables).\n",
    "The reserved words(keywords) cannot be used naming the variable.\n",
    "\n",
    "Here, eggs is not a reserved keyword and follows the above rules fro variable creation,hence it can be used as variable.\n",
    "While, 100 is a number and as per rule, a variable can not start with a number because it will create confusion between a variable and a value, hence it is not allowed."
   ]
  },
  {
   "cell_type": "markdown",
   "id": "6cfc49ec-2b5a-41e2-a442-b4fa0f7902cd",
   "metadata": {},
   "source": [
    "# 9. What three functions can be used to get the integer, floating-point number, or string version of a value?"
   ]
  },
  {
   "cell_type": "code",
   "execution_count": 26,
   "id": "83f39d06-ad36-4025-8d58-aa28ca059026",
   "metadata": {},
   "outputs": [],
   "source": [
    "x= 10.00"
   ]
  },
  {
   "cell_type": "code",
   "execution_count": 27,
   "id": "74fcb5ac-ad1a-4511-9cba-e70183237174",
   "metadata": {},
   "outputs": [
    {
     "name": "stdout",
     "output_type": "stream",
     "text": [
      "10.0\n"
     ]
    },
    {
     "data": {
      "text/plain": [
       "float"
      ]
     },
     "execution_count": 27,
     "metadata": {},
     "output_type": "execute_result"
    }
   ],
   "source": [
    "print(x)\n",
    "type(x)"
   ]
  },
  {
   "cell_type": "code",
   "execution_count": 28,
   "id": "c773db59-cb0d-4f4b-a8e3-bdf7600c9711",
   "metadata": {},
   "outputs": [],
   "source": [
    "y = int(x)"
   ]
  },
  {
   "cell_type": "code",
   "execution_count": 29,
   "id": "1ef323b5-1fbf-408c-8e45-64c3aeb3e557",
   "metadata": {},
   "outputs": [
    {
     "name": "stdout",
     "output_type": "stream",
     "text": [
      "10\n"
     ]
    },
    {
     "data": {
      "text/plain": [
       "int"
      ]
     },
     "execution_count": 29,
     "metadata": {},
     "output_type": "execute_result"
    }
   ],
   "source": [
    "print(y)\n",
    "type(y)"
   ]
  },
  {
   "cell_type": "code",
   "execution_count": 30,
   "id": "1cb2e279-0d35-4bab-ad7f-147ba490860c",
   "metadata": {},
   "outputs": [],
   "source": [
    "z = str(x)"
   ]
  },
  {
   "cell_type": "code",
   "execution_count": 33,
   "id": "33156040-a7d2-4b28-9571-f41e14e4e821",
   "metadata": {},
   "outputs": [
    {
     "name": "stdout",
     "output_type": "stream",
     "text": [
      "10.0\n"
     ]
    },
    {
     "data": {
      "text/plain": [
       "str"
      ]
     },
     "execution_count": 33,
     "metadata": {},
     "output_type": "execute_result"
    }
   ],
   "source": [
    "print(z)\n",
    "type(z)"
   ]
  },
  {
   "cell_type": "code",
   "execution_count": 34,
   "id": "509d4230-a83f-47f0-8883-84896abe49e1",
   "metadata": {},
   "outputs": [],
   "source": [
    "m = float(z)"
   ]
  },
  {
   "cell_type": "code",
   "execution_count": 35,
   "id": "d7f5d3ef-d06d-4da4-8847-82afbafe890d",
   "metadata": {},
   "outputs": [
    {
     "name": "stdout",
     "output_type": "stream",
     "text": [
      "10.0\n"
     ]
    },
    {
     "data": {
      "text/plain": [
       "float"
      ]
     },
     "execution_count": 35,
     "metadata": {},
     "output_type": "execute_result"
    }
   ],
   "source": [
    "print(m)\n",
    "type(m)"
   ]
  },
  {
   "cell_type": "code",
   "execution_count": 32,
   "id": "97ba15bb-f5cd-45c5-9eef-32e139159b01",
   "metadata": {},
   "outputs": [],
   "source": [
    "# int(), float(), str() functions can be used to get the int, float, and string version of a value."
   ]
  },
  {
   "cell_type": "markdown",
   "id": "881f024a-180d-4df0-8775-04e9f8da3003",
   "metadata": {},
   "source": [
    "# 10. Why does this expression cause an error? How can you fix it?\n",
    "### 'I have eaten' + 99 + 'burritos.'"
   ]
  },
  {
   "cell_type": "code",
   "execution_count": 36,
   "id": "9eb587b3-c10f-49e6-a7d1-28820356ee9d",
   "metadata": {},
   "outputs": [
    {
     "ename": "TypeError",
     "evalue": "can only concatenate str (not \"int\") to str",
     "output_type": "error",
     "traceback": [
      "\u001b[0;31m---------------------------------------------------------------------------\u001b[0m",
      "\u001b[0;31mTypeError\u001b[0m                                 Traceback (most recent call last)",
      "Cell \u001b[0;32mIn [36], line 1\u001b[0m\n\u001b[0;32m----> 1\u001b[0m \u001b[38;5;124;43m'\u001b[39;49m\u001b[38;5;124;43mI have eaten\u001b[39;49m\u001b[38;5;124;43m'\u001b[39;49m\u001b[43m \u001b[49m\u001b[38;5;241;43m+\u001b[39;49m\u001b[43m \u001b[49m\u001b[38;5;241;43m99\u001b[39;49m \u001b[38;5;241m+\u001b[39m \u001b[38;5;124m'\u001b[39m\u001b[38;5;124mburritos\u001b[39m\u001b[38;5;124m'\u001b[39m\n",
      "\u001b[0;31mTypeError\u001b[0m: can only concatenate str (not \"int\") to str"
     ]
    }
   ],
   "source": [
    "'I have eaten' + 99 + 'burritos'"
   ]
  },
  {
   "cell_type": "code",
   "execution_count": 37,
   "id": "851ea765-5b21-41f2-b166-33c12ad6f8f3",
   "metadata": {},
   "outputs": [],
   "source": [
    "# The reason for this error is different data types. concatenation is possible only with same data types. \n",
    "# So, we will have to convert 99 into a string to fix this issue."
   ]
  },
  {
   "cell_type": "code",
   "execution_count": 39,
   "id": "e3c39ce5-e65c-45cc-904d-3bf9d0f66da4",
   "metadata": {},
   "outputs": [
    {
     "data": {
      "text/plain": [
       "'I have eaten 99 burritos.'"
      ]
     },
     "execution_count": 39,
     "metadata": {},
     "output_type": "execute_result"
    }
   ],
   "source": [
    "\"I have eaten\" + \" 99 \" + \"burritos.\""
   ]
  },
  {
   "cell_type": "markdown",
   "id": "511eb1af-aefd-4bca-a05b-22b360145991",
   "metadata": {},
   "source": [
    "##  End of Assignment.\n",
    "##  Abhishek Mohan\n",
    "##  abhishekmohan540@gmail.com\n",
    "##  FSDS Bootcamp 2.0"
   ]
  },
  {
   "cell_type": "code",
   "execution_count": null,
   "id": "68907158-d415-4451-9701-32ab731fb518",
   "metadata": {},
   "outputs": [],
   "source": []
  },
  {
   "cell_type": "code",
   "execution_count": null,
   "id": "04b291c1-4070-4d16-8c1e-23c3bfe49bc3",
   "metadata": {},
   "outputs": [],
   "source": []
  }
 ],
 "metadata": {
  "kernelspec": {
   "display_name": "Python 3 (ipykernel)",
   "language": "python",
   "name": "python3"
  },
  "language_info": {
   "codemirror_mode": {
    "name": "ipython",
    "version": 3
   },
   "file_extension": ".py",
   "mimetype": "text/x-python",
   "name": "python",
   "nbconvert_exporter": "python",
   "pygments_lexer": "ipython3",
   "version": "3.10.6"
  }
 },
 "nbformat": 4,
 "nbformat_minor": 5
}
