{
 "cells": [
  {
   "cell_type": "markdown",
   "id": "2258ef4b-1a26-423e-9206-aef7fc2c38f4",
   "metadata": {},
   "source": [
    "    1. Create an assert statement that throws an AssertionError if the variable spam is a negative\n",
    "    integer.\n",
    "    2. Write an assert statement that triggers an AssertionError if the variables eggs and bacon contain\n",
    "    strings that are the same as each other, even if their cases are different (that is, 'hello' and 'hello' are\n",
    "    considered the same, and 'goodbye' and 'GOODbye' are also considered the same).\n",
    "    3. Create an assert statement that throws an AssertionError every time.\n",
    "    4. What are the two lines that must be present in your software in order to call logging.debug()?\n",
    "    5. What are the two lines that your program must have in order to have logging.debug() send a\n",
    "    logging message to a file named programLog.txt?\n",
    "    6. What are the five levels of logging?\n",
    "    7. What line of code would you add to your software to disable all logging messages?\n",
    "    8.Why is using logging messages better than using print() to display the same message?\n",
    "    9. What are the differences between the Step Over, Step In, and Step Out buttons in the debugger?\n",
    "    10.After you click Continue, when will the debugger stop ?\n",
    "    11. What is the concept of a breakpoint?"
   ]
  },
  {
   "cell_type": "markdown",
   "id": "fc28586a-0c0b-403b-9ab1-8765cdc83a51",
   "metadata": {},
   "source": [
    "### Answer1: \n",
    "assert spam >= 0, \"spam should be a non-negative integer\"\n"
   ]
  },
  {
   "cell_type": "markdown",
   "id": "7fb8565f-6fbb-44b5-a6de-6b06d675766b",
   "metadata": {},
   "source": [
    "### Answer2: \n",
    "assert eggs.lower() != bacon.lower(), \"eggs and bacon should not be the same\"\n"
   ]
  },
  {
   "cell_type": "markdown",
   "id": "04c894fa-99e0-4cb2-b175-32249bc1dbe7",
   "metadata": {},
   "source": [
    "### Answer3: \n",
    "assert False, \"This assertion always fails\"\n"
   ]
  },
  {
   "cell_type": "markdown",
   "id": "f09c0e80-561e-46ac-ba4e-c76f3635a235",
   "metadata": {},
   "source": [
    "### Answer4: \n",
    "The first line must be import logging to import the logging module. The second line must be logging.basicConfig(level=logging.DEBUG) to set the logging level to DEBUG.\n"
   ]
  },
  {
   "cell_type": "markdown",
   "id": "bab0e74d-f845-4f48-a89a-5cbd7617144a",
   "metadata": {},
   "source": [
    "### Answer5: \n",
    "The first line must be import logging to import the logging module. The second line must be logging.basicConfig(filename='programLog.txt', level=logging.DEBUG) to set the logging level to DEBUG and specify the filename for the log file.\n"
   ]
  },
  {
   "cell_type": "markdown",
   "id": "c20df79a-137b-4147-932a-4ef272edb272",
   "metadata": {},
   "source": [
    "### Answer6: \n",
    "The five levels of logging are: DEBUG, INFO, WARNING, ERROR, and CRITICAL.\n"
   ]
  },
  {
   "cell_type": "markdown",
   "id": "88e7d230-b602-4f1b-b3ec-bc0ca8a5e1c5",
   "metadata": {},
   "source": [
    "### Answer7: \n",
    "logging.disable(logging.CRITICAL)\n"
   ]
  },
  {
   "cell_type": "markdown",
   "id": "0d5a328e-79e5-4298-98af-32058c916317",
   "metadata": {},
   "source": [
    "### Answer8: \n",
    "Using logging messages is better than using print() because logging messages can be easily turned on or off, and the level of logging can be adjusted to show more or fewer details. This makes it easier to debug and troubleshoot code, especially in production environments.\n"
   ]
  },
  {
   "cell_type": "markdown",
   "id": "5db16670-424f-4c97-a421-45a5352ff3f5",
   "metadata": {},
   "source": [
    "### Answer9: \n",
    "The Step Over button executes the current line and stops at the next line, without stepping into any functions or methods called on that line. The Step In button steps into the current function or method being called. The Step Out button continues executing the code until it exits the current function or method.\n"
   ]
  },
  {
   "cell_type": "markdown",
   "id": "5681ca81-7eb7-471d-bf4e-ad0bc012c8a4",
   "metadata": {},
   "source": [
    "### Answer10: \n",
    "The debugger will stop again when it encounters the next breakpoint or when the program finishes executing.\n"
   ]
  },
  {
   "cell_type": "markdown",
   "id": "4ed5955d-e5cf-493c-a1fc-46df1724b0c7",
   "metadata": {},
   "source": [
    "### Answer11: \n",
    "A breakpoint is a point in the code where the debugger stops and allows you to examine the state of the program. You can set breakpoints in the debugger to pause execution at specific lines of code, variables or conditions."
   ]
  },
  {
   "cell_type": "markdown",
   "id": "f27b0608-5321-49bd-b442-d5561f9afe8d",
   "metadata": {},
   "source": [
    "## End of Assignment"
   ]
  },
  {
   "cell_type": "code",
   "execution_count": null,
   "id": "4ac6d950-0ed5-4fba-9e21-c25b2e120805",
   "metadata": {},
   "outputs": [],
   "source": []
  }
 ],
 "metadata": {
  "kernelspec": {
   "display_name": "Python 3 (ipykernel)",
   "language": "python",
   "name": "python3"
  },
  "language_info": {
   "codemirror_mode": {
    "name": "ipython",
    "version": 3
   },
   "file_extension": ".py",
   "mimetype": "text/x-python",
   "name": "python",
   "nbconvert_exporter": "python",
   "pygments_lexer": "ipython3",
   "version": "3.10.6"
  }
 },
 "nbformat": 4,
 "nbformat_minor": 5
}
