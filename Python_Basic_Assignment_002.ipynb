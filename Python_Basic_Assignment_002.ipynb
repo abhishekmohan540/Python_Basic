{
 "cells": [
  {
   "cell_type": "markdown",
   "id": "4437d10d-e3b7-4729-a28d-3eed51f825c6",
   "metadata": {},
   "source": [
    "# 1.What are the two values of the Boolean data type? How do you write them?"
   ]
  },
  {
   "cell_type": "markdown",
   "id": "85fb555a-5a59-4729-846e-3510b7025bee",
   "metadata": {},
   "source": [
    "### Answer:-\n",
    "Python boolean type is one of the built-in data types provided by Python, which represents one of the two values i.e. True or False. Generally, it is used to represent the truth values of the expressions.\n",
    "For example, 10==10 is True whereas 20<100 is False. \n",
    "The output <class ‘bool’> indicates the variable is a boolean data type."
   ]
  },
  {
   "cell_type": "code",
   "execution_count": 2,
   "id": "f1b7a7fb-a7d1-482f-a459-761dbefb3b53",
   "metadata": {},
   "outputs": [
    {
     "name": "stdout",
     "output_type": "stream",
     "text": [
      "True\n"
     ]
    }
   ],
   "source": [
    "x=5\n",
    "x = bool(x)\n",
    "print(x)"
   ]
  },
  {
   "cell_type": "code",
   "execution_count": 3,
   "id": "6c31f2fc-6ba2-411e-b01e-0f9ad07061e2",
   "metadata": {},
   "outputs": [
    {
     "name": "stdout",
     "output_type": "stream",
     "text": [
      "False\n"
     ]
    }
   ],
   "source": [
    "y = 0\n",
    "y = bool(y)\n",
    "print(y)"
   ]
  },
  {
   "cell_type": "code",
   "execution_count": 4,
   "id": "d0111327-539f-4cd4-9a98-eec9d8f01a2b",
   "metadata": {},
   "outputs": [
    {
     "name": "stdout",
     "output_type": "stream",
     "text": [
      "False\n"
     ]
    }
   ],
   "source": [
    "a = 10\n",
    "b = 20\n",
    "print(a==b)"
   ]
  },
  {
   "cell_type": "code",
   "execution_count": 5,
   "id": "df8dc1eb-8bb3-438f-9a1d-aab59e1d622f",
   "metadata": {},
   "outputs": [
    {
     "name": "stdout",
     "output_type": "stream",
     "text": [
      "True\n"
     ]
    }
   ],
   "source": [
    "print(a<b)"
   ]
  },
  {
   "cell_type": "code",
   "execution_count": 6,
   "id": "8992d929-4be6-4460-9b85-5822a0dee061",
   "metadata": {},
   "outputs": [
    {
     "name": "stdout",
     "output_type": "stream",
     "text": [
      "False\n"
     ]
    }
   ],
   "source": [
    "print(a>b)"
   ]
  },
  {
   "cell_type": "markdown",
   "id": "ff1f0429-572d-4e54-877d-af335dd9b6a8",
   "metadata": {},
   "source": [
    "# 2. What are the three different types of Boolean operators?"
   ]
  },
  {
   "cell_type": "markdown",
   "id": "f08ff24c-1550-4e31-9c10-27ba7dabe071",
   "metadata": {},
   "source": [
    "### Answer:-\n",
    "### Boolean Operators :- \n",
    "Boolean Operations are simple arithmetic of True and False values. These values can be manipulated by the use of boolean operators which include AND, Or, and NOT.\n",
    "### Boolean OR Operator:-\n",
    "The Boolean or operator returns True if any one of the inputs is True else returns False.\n",
    "### Boolean And Operator:-\n",
    "The Boolean and operator returns False if any one of the inputs is False else returns True.\n",
    "### Boolean Not Operator:-\n",
    "The Boolean Not operator only require one argument and returns the negation of the argument i.e. returns the True for False and False for True.\n"
   ]
  },
  {
   "cell_type": "markdown",
   "id": "4571ca32-bb9e-4ac9-a001-6e2947a33847",
   "metadata": {},
   "source": [
    "# 3. Make a list of each Boolean operator&#39;s truth tables (i.e. every possible combination of Boolean values for the operator and what it evaluate )."
   ]
  },
  {
   "cell_type": "markdown",
   "id": "fc1a3a95-ecf9-4621-aa6d-4d4dc2f4e42f",
   "metadata": {},
   "source": [
    "### Answer:-\n",
    "### Boolean OR Operator\n",
    "The Boolean or operator returns True if any one of the inputs is True else returns False.\n",
    "\n",
    "    A    \tB      A or B\n",
    "    True\tTrue\tTrue\n",
    "    True\tFalse\tTrue\n",
    "    False\tTrue\tTrue\n",
    "    False\tFalse\tFalse\n",
    "\n",
    "### Boolean And Operator\n",
    "The Boolean and operator returns False if any one of the inputs is False else returns True.\n",
    "\n",
    "    A\t B\tA and B\n",
    "    True\tTrue\tTrue\n",
    "    True\tFalse\tFalse\n",
    "    False\tTrue\tFalse\n",
    "    False\tFalse\tFalse\n",
    "\n",
    "### Boolean Not Operator\n",
    "The Boolean Not operator only require one argument and returns the negation of the argument i.e. returns the True for False and False for True.\n",
    "\n",
    "    A\tNot A\n",
    "    True\tFalse\n",
    "    False\tTrue"
   ]
  },
  {
   "cell_type": "markdown",
   "id": "db01673b-e6b0-4951-aade-abb8a1472324",
   "metadata": {},
   "source": [
    "# 4. What are the values of the following expressions?\n",
    "    (5 > 4) and (3 == 5)\n",
    "    not (5 > 4)\n",
    "    (5 > 4) or (3 == 5)\n",
    "    not ((5 > 4) or (3 == 5))\n",
    "    (True and True) and (True == False)\n",
    "    (not False) or (not True)"
   ]
  },
  {
   "cell_type": "code",
   "execution_count": 4,
   "id": "8458de40-a340-40b6-b00a-df3b2986789b",
   "metadata": {},
   "outputs": [
    {
     "data": {
      "text/plain": [
       "False"
      ]
     },
     "execution_count": 4,
     "metadata": {},
     "output_type": "execute_result"
    }
   ],
   "source": [
    "(5>4) and (3==5)"
   ]
  },
  {
   "cell_type": "code",
   "execution_count": 5,
   "id": "f2e89c7e-316d-411b-a332-9c6ce4800f16",
   "metadata": {},
   "outputs": [
    {
     "data": {
      "text/plain": [
       "False"
      ]
     },
     "execution_count": 5,
     "metadata": {},
     "output_type": "execute_result"
    }
   ],
   "source": [
    "not(5>4)"
   ]
  },
  {
   "cell_type": "code",
   "execution_count": 6,
   "id": "e99ea61c-1813-4612-a864-d16b7bc556cc",
   "metadata": {},
   "outputs": [
    {
     "data": {
      "text/plain": [
       "True"
      ]
     },
     "execution_count": 6,
     "metadata": {},
     "output_type": "execute_result"
    }
   ],
   "source": [
    "(5>4) or (3==5)"
   ]
  },
  {
   "cell_type": "code",
   "execution_count": 7,
   "id": "30b1ae81-29b8-409f-bb17-ed273add87b3",
   "metadata": {},
   "outputs": [
    {
     "data": {
      "text/plain": [
       "False"
      ]
     },
     "execution_count": 7,
     "metadata": {},
     "output_type": "execute_result"
    }
   ],
   "source": [
    "not((5>4) or (3==5))"
   ]
  },
  {
   "cell_type": "code",
   "execution_count": 8,
   "id": "7a7066a4-4094-4324-81e9-c4cc6dc66857",
   "metadata": {},
   "outputs": [
    {
     "data": {
      "text/plain": [
       "False"
      ]
     },
     "execution_count": 8,
     "metadata": {},
     "output_type": "execute_result"
    }
   ],
   "source": [
    "(True and True) and (True == False)"
   ]
  },
  {
   "cell_type": "code",
   "execution_count": 9,
   "id": "6cf4a54b-c09f-4aff-88de-5164df8c6d20",
   "metadata": {},
   "outputs": [
    {
     "data": {
      "text/plain": [
       "True"
      ]
     },
     "execution_count": 9,
     "metadata": {},
     "output_type": "execute_result"
    }
   ],
   "source": [
    "(not False) or (not True)"
   ]
  },
  {
   "cell_type": "markdown",
   "id": "24464cb5-bbea-4470-ba9f-86dd726e7bd7",
   "metadata": {},
   "source": [
    "# 5. What are the six comparison operators?"
   ]
  },
  {
   "cell_type": "markdown",
   "id": "0556286d-428d-4980-8b3c-7fe41b045520",
   "metadata": {},
   "source": [
    "Python has six comparison operators, which are as follows:\n",
    "\n",
    "1. Less than ( < )\n",
    "2. Less than or equal to (<=)\n",
    "3. Greater than (>)\n",
    "4. Greater than or equal to (>=)\n",
    "5. Equal to ( == )\n",
    "6. Not equal to ( != )\n",
    "These comparison operators compare two values and return a boolean value, either True or False."
   ]
  },
  {
   "cell_type": "markdown",
   "id": "fd78212f-8091-46af-aa69-7eaca0d1e8ae",
   "metadata": {},
   "source": [
    "### Examples:- "
   ]
  },
  {
   "cell_type": "code",
   "execution_count": 10,
   "id": "76114ec2-e8ae-4661-80b6-783b929391b0",
   "metadata": {},
   "outputs": [
    {
     "data": {
      "text/plain": [
       "True"
      ]
     },
     "execution_count": 10,
     "metadata": {},
     "output_type": "execute_result"
    }
   ],
   "source": [
    "5<6"
   ]
  },
  {
   "cell_type": "code",
   "execution_count": 11,
   "id": "81fed7c3-b4b1-410d-a2f6-443325d332c0",
   "metadata": {},
   "outputs": [
    {
     "data": {
      "text/plain": [
       "True"
      ]
     },
     "execution_count": 11,
     "metadata": {},
     "output_type": "execute_result"
    }
   ],
   "source": [
    "10<=20"
   ]
  },
  {
   "cell_type": "code",
   "execution_count": 13,
   "id": "d15b25b4-e980-4c25-a257-daa896e4d66e",
   "metadata": {},
   "outputs": [
    {
     "data": {
      "text/plain": [
       "False"
      ]
     },
     "execution_count": 13,
     "metadata": {},
     "output_type": "execute_result"
    }
   ],
   "source": [
    "20>25"
   ]
  },
  {
   "cell_type": "code",
   "execution_count": 14,
   "id": "7de3769e-0333-4592-89bd-050d8c297c41",
   "metadata": {},
   "outputs": [
    {
     "data": {
      "text/plain": [
       "True"
      ]
     },
     "execution_count": 14,
     "metadata": {},
     "output_type": "execute_result"
    }
   ],
   "source": [
    "30>=23"
   ]
  },
  {
   "cell_type": "code",
   "execution_count": 15,
   "id": "e641c5f6-0808-4f6b-a0c8-cb9b5c943ddd",
   "metadata": {},
   "outputs": [
    {
     "data": {
      "text/plain": [
       "True"
      ]
     },
     "execution_count": 15,
     "metadata": {},
     "output_type": "execute_result"
    }
   ],
   "source": [
    "10==10"
   ]
  },
  {
   "cell_type": "code",
   "execution_count": 16,
   "id": "f8865a24-d2ab-4580-a8b5-3cb309b774fe",
   "metadata": {},
   "outputs": [
    {
     "data": {
      "text/plain": [
       "False"
      ]
     },
     "execution_count": 16,
     "metadata": {},
     "output_type": "execute_result"
    }
   ],
   "source": [
    "20==12"
   ]
  },
  {
   "cell_type": "code",
   "execution_count": 17,
   "id": "74c53c89-09e9-447a-b088-9390df9ee0f3",
   "metadata": {},
   "outputs": [
    {
     "data": {
      "text/plain": [
       "True"
      ]
     },
     "execution_count": 17,
     "metadata": {},
     "output_type": "execute_result"
    }
   ],
   "source": [
    "25!=23"
   ]
  },
  {
   "cell_type": "markdown",
   "id": "cad24cf6-8c49-423b-b032-d84d8cd5bdf9",
   "metadata": {},
   "source": [
    "# 6. How do you tell the difference between the equal to and assignment operators?Describe a condition and when you would use one."
   ]
  },
  {
   "cell_type": "markdown",
   "id": "744a6324-f6ef-44bf-b62a-5068a50260e3",
   "metadata": {},
   "source": [
    "### Assignment Operator (=):-\n",
    "The “=” is an assignment operator is used to assign the value on the right to the variable on the left.\n",
    "For example:\n",
    "a = 10;\\\n",
    "b = 20\n",
    "c = \"abhi\"\n",
    "\n",
    "### Equal to Operator (==):-\n",
    "The ‘==’ operator checks whether the two given operands are equal or not. If so, it returns true. Otherwise it returns false.\n",
    "For example:\n",
    "5==5\n",
    "This will return True.\n",
    "\n",
    "So, whenever I will have to assign a value to something or some variable I will use assignment operator. And whenever I will have to check the equality of something then I will use Equal to operator."
   ]
  },
  {
   "cell_type": "markdown",
   "id": "3617f4ea-bac8-4f05-ba4d-62df0e207fdf",
   "metadata": {},
   "source": [
    "# 7. Identify the three blocks in this code:\n",
    "    spam = 0\n",
    "    if spam == 10:\n",
    "    print(\"eggs\")\n",
    "    if spam > 5:\n",
    "    print(\"bacon\")\n",
    "    else:\n",
    "    print(\"ham\")\n",
    "    print(\"spam\")\n",
    "    print(\"spam\")"
   ]
  },
  {
   "cell_type": "code",
   "execution_count": 18,
   "id": "eadc99f8-5095-4446-9a72-006bc96cf2a4",
   "metadata": {},
   "outputs": [
    {
     "name": "stdout",
     "output_type": "stream",
     "text": [
      "ham\n",
      "spam\n",
      "spam\n"
     ]
    }
   ],
   "source": [
    "#Answer:-\n",
    "\n",
    "spam = 0\n",
    "if spam == 10:\n",
    "    print(\"eggs\")\n",
    "if spam > 5:\n",
    "    print(\"bacon\")\n",
    "else:\n",
    "    print(\"ham\")\n",
    "    print(\"spam\")\n",
    "    print(\"spam\")"
   ]
  },
  {
   "cell_type": "markdown",
   "id": "e62e2563-a9c9-4f4d-bc9a-6bd99332a6f8",
   "metadata": {},
   "source": [
    "# 8. Write code that prints Hello if 1 is stored in spam, prints Howdy if 2 is stored in spam, and prints Greetings! if anything else is stored in spam."
   ]
  },
  {
   "cell_type": "code",
   "execution_count": 21,
   "id": "3d1d941c-6270-4708-a9f3-9c873a262f20",
   "metadata": {},
   "outputs": [
    {
     "name": "stdout",
     "output_type": "stream",
     "text": [
      "Hello\n"
     ]
    }
   ],
   "source": [
    "spam = 1\n",
    "if spam == 1:\n",
    "    print(\"Hello\")\n",
    "elif spam == 2:\n",
    "    print(\"Howdy\")\n",
    "else:\n",
    "    print(\"Greetings!\")"
   ]
  },
  {
   "cell_type": "code",
   "execution_count": 22,
   "id": "4720b355-0955-4a15-b9ec-ef76bb8263d6",
   "metadata": {},
   "outputs": [
    {
     "name": "stdout",
     "output_type": "stream",
     "text": [
      "Howdy\n"
     ]
    }
   ],
   "source": [
    "spam = 2\n",
    "if spam == 1:\n",
    "    print(\"Hello\")\n",
    "elif spam == 2:\n",
    "    print(\"Howdy\")\n",
    "else:\n",
    "    print(\"Greetings!\")"
   ]
  },
  {
   "cell_type": "code",
   "execution_count": 23,
   "id": "0adb35bf-e82e-466b-a65f-d30131dd0fa9",
   "metadata": {},
   "outputs": [
    {
     "name": "stdout",
     "output_type": "stream",
     "text": [
      "Greetings!\n"
     ]
    }
   ],
   "source": [
    "spam = 100\n",
    "if spam == 1:\n",
    "    print(\"Hello\")\n",
    "elif spam == 2:\n",
    "    print(\"Howdy\")\n",
    "else:\n",
    "    print(\"Greetings!\")"
   ]
  },
  {
   "cell_type": "markdown",
   "id": "d779e240-2b3b-4118-8581-a2b3a11e7e94",
   "metadata": {},
   "source": [
    "# 9.If your programme is stuck in an endless loop, what keys you’ll press?"
   ]
  },
  {
   "cell_type": "markdown",
   "id": "f1d58fa4-1b26-4ff3-bfa3-f6f2216f6a28",
   "metadata": {},
   "source": [
    "In that case, We got to Interrupt the kernel and restart the kernel again."
   ]
  },
  {
   "cell_type": "markdown",
   "id": "01d0f01c-ad6e-44d9-9c70-316aff9b8c88",
   "metadata": {},
   "source": [
    "# 10. How can you tell the difference between break and continue?"
   ]
  },
  {
   "cell_type": "markdown",
   "id": "882657ea-b4c2-4e11-bf98-bb60ce61677c",
   "metadata": {},
   "source": [
    "The break and continue both are used to skip the iteration of a loop. These keywords are helpful in controlling the flow of the program. \n",
    "#### Difference between break and continue:\n",
    "\n",
    "1. The break statement terminates the whole iteration of a loop whereas continue skips the current iteration.\n",
    "2. The break statement terminates the whole loop early whereas the continue brings the next iteration early.\n",
    "3. In a loop for switch, break acts as terminator for case only whereas continue  acts as terminator for case and skips the current iteration of loop.\n"
   ]
  },
  {
   "cell_type": "markdown",
   "id": "d638255e-67d5-4fb3-ab64-39b0baddaefb",
   "metadata": {},
   "source": [
    "# 11. In a for loop, what is the difference between range(10), range(0, 10), and range(0, 10, 1)?"
   ]
  },
  {
   "cell_type": "code",
   "execution_count": 25,
   "id": "6c0271b7-4400-4946-9bcf-b2e5f8aca53d",
   "metadata": {},
   "outputs": [
    {
     "name": "stdout",
     "output_type": "stream",
     "text": [
      "0\n",
      "1\n",
      "2\n",
      "3\n",
      "4\n",
      "5\n",
      "6\n",
      "7\n",
      "8\n",
      "9\n"
     ]
    }
   ],
   "source": [
    "for i in range(10):\n",
    "    print(i)"
   ]
  },
  {
   "cell_type": "markdown",
   "id": "f016e46d-af27-4bb0-98ef-0e7d332cf13e",
   "metadata": {},
   "source": [
    "Here, in range(10), values of i varies from 0 to 9 and end value 10 is excluded."
   ]
  },
  {
   "cell_type": "code",
   "execution_count": 26,
   "id": "87602cf8-ec0e-458a-ae7b-4c52a1a84ece",
   "metadata": {},
   "outputs": [
    {
     "name": "stdout",
     "output_type": "stream",
     "text": [
      "0\n",
      "1\n",
      "2\n",
      "3\n",
      "4\n",
      "5\n",
      "6\n",
      "7\n",
      "8\n",
      "9\n"
     ]
    }
   ],
   "source": [
    "for i in range(0,10):\n",
    "    print(i)"
   ]
  },
  {
   "cell_type": "markdown",
   "id": "2df316ba-d31a-475a-90fe-7f400406dd4c",
   "metadata": {},
   "source": [
    "range(0,10) is same as above. Here also value of i varies from 0 to 9 excluding 10.\n",
    "Also, here O is start value and 10 is end value."
   ]
  },
  {
   "cell_type": "code",
   "execution_count": 27,
   "id": "facab4f1-7b64-4feb-85e5-3174528c9f7c",
   "metadata": {},
   "outputs": [
    {
     "name": "stdout",
     "output_type": "stream",
     "text": [
      "0\n",
      "1\n",
      "2\n",
      "3\n",
      "4\n",
      "5\n",
      "6\n",
      "7\n",
      "8\n",
      "9\n"
     ]
    }
   ],
   "source": [
    "for i in range(0,10,1):\n",
    "    print(i)"
   ]
  },
  {
   "cell_type": "markdown",
   "id": "85fa2fca-9ea4-4b43-88d7-d53321a200f5",
   "metadata": {},
   "source": [
    "Here,0 is start value, 10 is end value (which is excluded) and 1 is step value. It will also give the same output."
   ]
  },
  {
   "cell_type": "markdown",
   "id": "5c84c758-f80c-4f68-a3b7-8c37a8fcfc47",
   "metadata": {},
   "source": [
    "# 12. Write a short program that prints the numbers 1 to 10 using a for loop. Then write an equivalent program that prints the numbers 1 to 10 using a while loop."
   ]
  },
  {
   "cell_type": "code",
   "execution_count": 1,
   "id": "760479e6-2b5f-4915-8510-f0279cfe9920",
   "metadata": {},
   "outputs": [
    {
     "name": "stdout",
     "output_type": "stream",
     "text": [
      "1\n",
      "2\n",
      "3\n",
      "4\n",
      "5\n",
      "6\n",
      "7\n",
      "8\n",
      "9\n",
      "10\n"
     ]
    }
   ],
   "source": [
    "for i in range (1,11):\n",
    "    print(i)"
   ]
  },
  {
   "cell_type": "code",
   "execution_count": 2,
   "id": "18846fc0-7ac5-467d-9aa7-a2665cea0bb1",
   "metadata": {},
   "outputs": [
    {
     "name": "stdout",
     "output_type": "stream",
     "text": [
      "1\n",
      "2\n",
      "3\n",
      "4\n",
      "5\n",
      "6\n",
      "7\n",
      "8\n",
      "9\n",
      "10\n"
     ]
    }
   ],
   "source": [
    "i = 1\n",
    "while i<=10:\n",
    "    print(i)\n",
    "    i = i + 1"
   ]
  },
  {
   "cell_type": "markdown",
   "id": "0871c0d1-10c4-4c7f-a063-07dfc6fd970b",
   "metadata": {},
   "source": [
    "# 13. If you had a function named bacon() inside a module named spam, how would you call it after importing spam?"
   ]
  },
  {
   "cell_type": "markdown",
   "id": "049cbdff-f787-423e-8d8d-ac66caa6a8b3",
   "metadata": {},
   "source": [
    "Answer:-\n",
    "\n",
    "import spam  # import the function\n",
    "spam.bacon()   #calling function"
   ]
  }
 ],
 "metadata": {
  "kernelspec": {
   "display_name": "Python 3 (ipykernel)",
   "language": "python",
   "name": "python3"
  },
  "language_info": {
   "codemirror_mode": {
    "name": "ipython",
    "version": 3
   },
   "file_extension": ".py",
   "mimetype": "text/x-python",
   "name": "python",
   "nbconvert_exporter": "python",
   "pygments_lexer": "ipython3",
   "version": "3.10.6"
  }
 },
 "nbformat": 4,
 "nbformat_minor": 5
}
