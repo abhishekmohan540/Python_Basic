{
 "cells": [
  {
   "cell_type": "markdown",
   "id": "b99db43f-c8fa-443c-8e12-872ab60d96b8",
   "metadata": {},
   "source": [
    "## Assignment - 18"
   ]
  },
  {
   "cell_type": "markdown",
   "id": "d33f07a9-e84f-41e8-9515-55dc4669eeaa",
   "metadata": {},
   "source": [
    "    1. Create a zoo.py file first. Define the hours() function, which prints the string 'Open 9-5 daily'.\n",
    "    Then, use the interactive interpreter to import the zoo module and call its hours() function.\n",
    "    2. In the interactive interpreter, import the zoo module as menagerie and call its hours() function.\n",
    "    3. Using the interpreter, explicitly import and call the hours() function from zoo.\n",
    "    4. Import the hours() function as info and call it.\n",
    "    5. Create a plain dictionary with the key-value pairs 'a': 1, 'b': 2, and 'c': 3, and print it out.\n",
    "    6.Make an OrderedDict called fancy from the same pairs listed in 5 and print it. Did it print in the\n",
    "    same order as plain?\n",
    "    7. Make a default dictionary called dict_of_lists and pass it the argument list. Make the list\n",
    "    dict_of_lists['a'] and append the value 'something for a' to it in one assignment. Print\n",
    "    dict_of_lists['a']."
   ]
  },
  {
   "cell_type": "markdown",
   "id": "a5a93272-1cdc-479e-9aaf-92e3050dc5f1",
   "metadata": {},
   "source": [
    "### Answer-01"
   ]
  },
  {
   "cell_type": "code",
   "execution_count": 2,
   "id": "2cf1b843-c8f3-41af-b8de-7f0dbe1451ee",
   "metadata": {},
   "outputs": [
    {
     "data": {
      "text/plain": [
       "<_io.TextIOWrapper name='zoo.py' mode='w' encoding='UTF-8'>"
      ]
     },
     "execution_count": 2,
     "metadata": {},
     "output_type": "execute_result"
    }
   ],
   "source": [
    "open(\"zoo.py\", \"w\")"
   ]
  },
  {
   "cell_type": "code",
   "execution_count": 5,
   "id": "09e50a77-ab53-40ef-9ac2-78d2cb600e69",
   "metadata": {},
   "outputs": [],
   "source": [
    "import zoo"
   ]
  },
  {
   "cell_type": "code",
   "execution_count": 6,
   "id": "9b81a862-fbd8-44c4-858c-12985ade4dae",
   "metadata": {},
   "outputs": [
    {
     "data": {
      "text/plain": [
       "'Open 9-5 daily'"
      ]
     },
     "execution_count": 6,
     "metadata": {},
     "output_type": "execute_result"
    }
   ],
   "source": [
    "zoo.hours()"
   ]
  },
  {
   "cell_type": "markdown",
   "id": "d3040f9e-2386-4479-aee6-48021a3196a9",
   "metadata": {},
   "source": [
    "### Answer-02"
   ]
  },
  {
   "cell_type": "code",
   "execution_count": 7,
   "id": "ee16f93e-cd8f-4cd1-a6c2-2976b1998c23",
   "metadata": {},
   "outputs": [],
   "source": [
    "import zoo as managerie"
   ]
  },
  {
   "cell_type": "code",
   "execution_count": 8,
   "id": "05d35169-f7c6-463d-bd4c-ef919cd4702d",
   "metadata": {},
   "outputs": [
    {
     "data": {
      "text/plain": [
       "'Open 9-5 daily'"
      ]
     },
     "execution_count": 8,
     "metadata": {},
     "output_type": "execute_result"
    }
   ],
   "source": [
    "managerie.hours()"
   ]
  },
  {
   "cell_type": "markdown",
   "id": "5adaaf4d-e886-4ea7-852e-b758e344262f",
   "metadata": {},
   "source": [
    "### Answer-03"
   ]
  },
  {
   "cell_type": "code",
   "execution_count": 10,
   "id": "662101ef-3479-45e1-ab1f-0b9a2ff01333",
   "metadata": {},
   "outputs": [],
   "source": [
    "from zoo import hours"
   ]
  },
  {
   "cell_type": "code",
   "execution_count": 11,
   "id": "eab3b6bb-1053-4bcd-99bf-026d6e497a64",
   "metadata": {},
   "outputs": [
    {
     "data": {
      "text/plain": [
       "'Open 9-5 daily'"
      ]
     },
     "execution_count": 11,
     "metadata": {},
     "output_type": "execute_result"
    }
   ],
   "source": [
    "hours()"
   ]
  },
  {
   "cell_type": "markdown",
   "id": "487b452e-e226-4245-9cf7-77a1f713f2bc",
   "metadata": {},
   "source": [
    "### Answer-04"
   ]
  },
  {
   "cell_type": "code",
   "execution_count": 12,
   "id": "728d8062-aa2e-4b7c-93b5-85f11e8a5789",
   "metadata": {},
   "outputs": [],
   "source": [
    "from zoo import hours as info"
   ]
  },
  {
   "cell_type": "code",
   "execution_count": 13,
   "id": "4ff81d11-7bbb-4c29-a292-e553d33eeff8",
   "metadata": {},
   "outputs": [
    {
     "data": {
      "text/plain": [
       "'Open 9-5 daily'"
      ]
     },
     "execution_count": 13,
     "metadata": {},
     "output_type": "execute_result"
    }
   ],
   "source": [
    "info()"
   ]
  },
  {
   "cell_type": "markdown",
   "id": "f530468f-c0b8-479b-bf9f-b6b88c5b9667",
   "metadata": {},
   "source": [
    "### Answer-05"
   ]
  },
  {
   "cell_type": "code",
   "execution_count": 14,
   "id": "1e18a712-6816-488f-bb38-0677d5498f0d",
   "metadata": {},
   "outputs": [
    {
     "name": "stdout",
     "output_type": "stream",
     "text": [
      "{'a': 1, 'b': 2, 'c': 3}\n"
     ]
    }
   ],
   "source": [
    "dic = {'a': 1 , 'b':2  ,'c': 3}\n",
    "print(dic)"
   ]
  },
  {
   "cell_type": "markdown",
   "id": "163ae394-384c-401e-8469-e90aeb6f92b5",
   "metadata": {},
   "source": [
    "### Answer-06"
   ]
  },
  {
   "cell_type": "code",
   "execution_count": 15,
   "id": "5a375109-4a2d-4581-acb6-4ca8d326c986",
   "metadata": {},
   "outputs": [
    {
     "name": "stdout",
     "output_type": "stream",
     "text": [
      "OrderedDict([('a', 1), ('b', 2), ('c', 3)])\n"
     ]
    }
   ],
   "source": [
    "from collections import OrderedDict\n",
    "\n",
    "fancy = OrderedDict([('a', 1), ('b', 2), ('c', 3)])\n",
    "print(fancy)"
   ]
  },
  {
   "cell_type": "code",
   "execution_count": 16,
   "id": "06424f85-ffc6-4ae9-a1fe-c33b5145a7e0",
   "metadata": {},
   "outputs": [],
   "source": [
    "# It printed in the same order as plain dictionary"
   ]
  },
  {
   "cell_type": "markdown",
   "id": "5dc0b7ac-f853-4167-904e-ce25c10b759f",
   "metadata": {},
   "source": [
    "### Answer-07"
   ]
  },
  {
   "cell_type": "code",
   "execution_count": 17,
   "id": "2e405159-3686-4503-88fb-77c5a5bf0d51",
   "metadata": {},
   "outputs": [
    {
     "name": "stdout",
     "output_type": "stream",
     "text": [
      "['something for a']\n"
     ]
    }
   ],
   "source": [
    "from collections import defaultdict\n",
    "\n",
    "dict_of_lists = defaultdict(list)\n",
    "dict_of_lists['a'].append('something for a')\n",
    "print(dict_of_lists['a'])\n"
   ]
  },
  {
   "cell_type": "markdown",
   "id": "37ec29d7-5713-4a98-a3fc-7fd8652e1bee",
   "metadata": {},
   "source": [
    "## ENd of Assignment"
   ]
  },
  {
   "cell_type": "code",
   "execution_count": null,
   "id": "f9127308-7892-4840-b1d3-1bee499b4d8d",
   "metadata": {},
   "outputs": [],
   "source": []
  }
 ],
 "metadata": {
  "kernelspec": {
   "display_name": "Python 3 (ipykernel)",
   "language": "python",
   "name": "python3"
  },
  "language_info": {
   "codemirror_mode": {
    "name": "ipython",
    "version": 3
   },
   "file_extension": ".py",
   "mimetype": "text/x-python",
   "name": "python",
   "nbconvert_exporter": "python",
   "pygments_lexer": "ipython3",
   "version": "3.10.6"
  }
 },
 "nbformat": 4,
 "nbformat_minor": 5
}
