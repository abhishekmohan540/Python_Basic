{
 "cells": [
  {
   "cell_type": "markdown",
   "id": "59e32e9a-1a49-4ec7-9fc6-b201e64a06c9",
   "metadata": {},
   "source": [
    "1. What does an empty dictionary&#39;s code look like?\n",
    "2. What is the value of a dictionary value with the key &#39;foo&#39; and the value 42?\n",
    "3. What is the most significant distinction between a dictionary and a list?\n",
    "4. What happens if you try to access spam[&#39;foo&#39;] if spam is {&#39;bar&#39;: 100}?\n",
    "5. If a dictionary is stored in spam, what is the difference between the expressions &#39;cat&#39; in spam and\n",
    "&#39;cat&#39; in spam.keys()?\n",
    "6. If a dictionary is stored in spam, what is the difference between the expressions &#39;cat&#39; in spam and\n",
    "&#39;cat&#39; in spam.values()?\n",
    "7. What is a shortcut for the following code?\n",
    "if &#39;color&#39; not in spam:\n",
    "spam[&#39;color&#39;] = &#39;black&#39;\n",
    "\n",
    "8. How do you &quot;pretty print&quot; dictionary values using which module and function?"
   ]
  },
  {
   "cell_type": "markdown",
   "id": "7165e60b-5675-451b-824b-2b94a6b7f3a2",
   "metadata": {},
   "source": [
    "### Solution-01"
   ]
  },
  {
   "cell_type": "code",
   "execution_count": 2,
   "id": "e4283a8a-f217-48df-bf3f-fec7b20c8180",
   "metadata": {},
   "outputs": [],
   "source": [
    "d = {}"
   ]
  },
  {
   "cell_type": "code",
   "execution_count": 3,
   "id": "732e1816-0a44-4603-b8c7-6bf3422a23e5",
   "metadata": {},
   "outputs": [
    {
     "name": "stdout",
     "output_type": "stream",
     "text": [
      "{}\n"
     ]
    }
   ],
   "source": [
    "print(d)"
   ]
  },
  {
   "cell_type": "markdown",
   "id": "1c9603bb-600f-43c4-9618-278eed50d79d",
   "metadata": {},
   "source": [
    "### Solution-02"
   ]
  },
  {
   "cell_type": "code",
   "execution_count": 4,
   "id": "5a329eaa-c58c-4a03-b802-58152da56741",
   "metadata": {},
   "outputs": [],
   "source": [
    "d = {\"foo\": 42}"
   ]
  },
  {
   "cell_type": "code",
   "execution_count": 5,
   "id": "6dd62d65-0a81-45b6-9af0-b3fd5c0a228a",
   "metadata": {},
   "outputs": [
    {
     "data": {
      "text/plain": [
       "dict_values([42])"
      ]
     },
     "execution_count": 5,
     "metadata": {},
     "output_type": "execute_result"
    }
   ],
   "source": [
    "d.values()"
   ]
  },
  {
   "cell_type": "markdown",
   "id": "8f22c189-06c6-40c1-9279-64cb35d3b5a7",
   "metadata": {},
   "source": [
    "### Solution-03"
   ]
  },
  {
   "cell_type": "code",
   "execution_count": null,
   "id": "d2e8a36b-3ba2-4e12-be1c-226b79aa6649",
   "metadata": {},
   "outputs": [],
   "source": [
    "# Difference betweem dictioonary and list"
   ]
  },
  {
   "cell_type": "markdown",
   "id": "7c0a55a0-883d-4a76-9abb-126473ef0e6d",
   "metadata": {},
   "source": [
    "### List:- \n",
    "Lists are just like the arrays, declared in other languages. Lists need not be homogeneous always which makes it a most powerful tool in Python. A single list may contain DataTypes like Integers, Strings, as well as Objects. Lists are mutable, and hence, they can be altered even after their creation\n",
    "#### Eg. lis = [1,2,3,4,5]\n",
    "\n",
    "### Dictionary:-\n",
    "Dictionary in Python on the other hand is an unordered collection of data values, used to store data values like a map, which unlike other Data Types that hold only single value as an element, Dictionary holds key:value pair. Key-value is provided in the dictionary to make it more optimized. Each key-value pair in a Dictionary is separated by a colon :, whereas each key is separated by a ‘comma'.\n",
    "#### Eg. dic = {\"key\": 123}"
   ]
  },
  {
   "cell_type": "markdown",
   "id": "1f143ce5-7910-4237-9f55-b1304eb71b11",
   "metadata": {},
   "source": [
    "### Solution-04"
   ]
  },
  {
   "cell_type": "code",
   "execution_count": 1,
   "id": "365ffba5-228f-456a-97a8-e76329ac17c3",
   "metadata": {},
   "outputs": [],
   "source": [
    "spam = {\"bar\" : 100}"
   ]
  },
  {
   "cell_type": "code",
   "execution_count": 2,
   "id": "4caf908c-1c97-497b-af8a-4fc4ce9570a9",
   "metadata": {},
   "outputs": [
    {
     "ename": "KeyError",
     "evalue": "'foo'",
     "output_type": "error",
     "traceback": [
      "\u001b[0;31m---------------------------------------------------------------------------\u001b[0m",
      "\u001b[0;31mKeyError\u001b[0m                                  Traceback (most recent call last)",
      "Cell \u001b[0;32mIn [2], line 1\u001b[0m\n\u001b[0;32m----> 1\u001b[0m \u001b[43mspam\u001b[49m\u001b[43m[\u001b[49m\u001b[38;5;124;43m\"\u001b[39;49m\u001b[38;5;124;43mfoo\u001b[39;49m\u001b[38;5;124;43m\"\u001b[39;49m\u001b[43m]\u001b[49m\n",
      "\u001b[0;31mKeyError\u001b[0m: 'foo'"
     ]
    }
   ],
   "source": [
    "spam[\"foo\"]"
   ]
  },
  {
   "cell_type": "markdown",
   "id": "b1660d31-39cf-4755-8ae7-bb12dbd4ed7f",
   "metadata": {},
   "source": [
    "It will show key error since spam does not have key \"foo\"."
   ]
  },
  {
   "cell_type": "markdown",
   "id": "8ddccd7e-727d-4dcd-a6c9-72222b536a12",
   "metadata": {},
   "source": [
    "### Solution-05"
   ]
  },
  {
   "cell_type": "code",
   "execution_count": 22,
   "id": "4280d7f4-887e-4794-b649-27cadda0f385",
   "metadata": {},
   "outputs": [],
   "source": [
    "spam = {\"cat\":\"123\"}"
   ]
  },
  {
   "cell_type": "code",
   "execution_count": 23,
   "id": "95ddda7e-8e2c-4c22-92bf-499716a88192",
   "metadata": {},
   "outputs": [
    {
     "data": {
      "text/plain": [
       "True"
      ]
     },
     "execution_count": 23,
     "metadata": {},
     "output_type": "execute_result"
    }
   ],
   "source": [
    "\"cat\" in spam"
   ]
  },
  {
   "cell_type": "code",
   "execution_count": 25,
   "id": "56fe2979-2cdc-426c-9ced-0f8e695efe20",
   "metadata": {},
   "outputs": [
    {
     "data": {
      "text/plain": [
       "True"
      ]
     },
     "execution_count": 25,
     "metadata": {},
     "output_type": "execute_result"
    }
   ],
   "source": [
    "\"cat\" in spam.keys()"
   ]
  },
  {
   "cell_type": "code",
   "execution_count": 9,
   "id": "7328030a-20f2-4af1-a520-34c79efe23ec",
   "metadata": {},
   "outputs": [],
   "source": [
    "spam = {\"key\":\"cat\"}"
   ]
  },
  {
   "cell_type": "code",
   "execution_count": 10,
   "id": "e402bb16-ef0a-4fc0-8e2a-5eaa0f68250e",
   "metadata": {},
   "outputs": [
    {
     "data": {
      "text/plain": [
       "False"
      ]
     },
     "execution_count": 10,
     "metadata": {},
     "output_type": "execute_result"
    }
   ],
   "source": [
    "\"cat\" in spam"
   ]
  },
  {
   "cell_type": "code",
   "execution_count": 11,
   "id": "eff71738-63f9-4188-ad38-51a6befa44cd",
   "metadata": {},
   "outputs": [
    {
     "data": {
      "text/plain": [
       "False"
      ]
     },
     "execution_count": 11,
     "metadata": {},
     "output_type": "execute_result"
    }
   ],
   "source": [
    "\"cat\" in spam.keys()"
   ]
  },
  {
   "cell_type": "markdown",
   "id": "5a87c51a-3a69-4f69-91c1-581fb9d2aa5b",
   "metadata": {},
   "source": [
    "cat in spam will be True when cat is present as key and cat in spam.keys() will be True when cat is present as key in dictionary."
   ]
  },
  {
   "cell_type": "markdown",
   "id": "daf6688d-9260-45b5-ab3f-a9ca92ccaccc",
   "metadata": {},
   "source": [
    "### Solution-06"
   ]
  },
  {
   "cell_type": "code",
   "execution_count": 2,
   "id": "a4239b3d-5e4c-47dd-86ba-522faa7ba706",
   "metadata": {},
   "outputs": [],
   "source": [
    "spam = {\"key\":\"cat\"}"
   ]
  },
  {
   "cell_type": "code",
   "execution_count": 3,
   "id": "423e85da-7b75-4055-a4e6-0d90a80e41eb",
   "metadata": {},
   "outputs": [
    {
     "data": {
      "text/plain": [
       "False"
      ]
     },
     "execution_count": 3,
     "metadata": {},
     "output_type": "execute_result"
    }
   ],
   "source": [
    "\"cat\" in spam"
   ]
  },
  {
   "cell_type": "code",
   "execution_count": 4,
   "id": "e43ee422-cabb-4775-b51f-5147f3077424",
   "metadata": {},
   "outputs": [
    {
     "data": {
      "text/plain": [
       "True"
      ]
     },
     "execution_count": 4,
     "metadata": {},
     "output_type": "execute_result"
    }
   ],
   "source": [
    "\"cat\" in spam.values()"
   ]
  },
  {
   "cell_type": "code",
   "execution_count": 5,
   "id": "d599b57b-cc85-4461-850e-f799c44309a2",
   "metadata": {},
   "outputs": [],
   "source": [
    "spam = {\"cat\":\"value\"}"
   ]
  },
  {
   "cell_type": "code",
   "execution_count": 6,
   "id": "4d39f6ac-c12a-4e6c-8d8a-d5dfb953f1a0",
   "metadata": {},
   "outputs": [
    {
     "data": {
      "text/plain": [
       "True"
      ]
     },
     "execution_count": 6,
     "metadata": {},
     "output_type": "execute_result"
    }
   ],
   "source": [
    "\"cat\" in spam"
   ]
  },
  {
   "cell_type": "code",
   "execution_count": 7,
   "id": "c3eef53d-0aaf-4efc-b6e4-ed268c9be994",
   "metadata": {},
   "outputs": [
    {
     "data": {
      "text/plain": [
       "False"
      ]
     },
     "execution_count": 7,
     "metadata": {},
     "output_type": "execute_result"
    }
   ],
   "source": [
    "\"cat\" in spam.values()"
   ]
  },
  {
   "cell_type": "markdown",
   "id": "856faa82-ea61-4aaa-bf23-c2fc1f016334",
   "metadata": {},
   "source": [
    "cat in spam will give True only when \"cat\" is pressent as key in dictionary while cat in spam.values() will be True when \n",
    "\"cat\" will be present as value in dictionary."
   ]
  },
  {
   "cell_type": "markdown",
   "id": "eee5319f-5b89-492f-8745-7f7f5655d7d0",
   "metadata": {},
   "source": [
    "### Solution-07"
   ]
  },
  {
   "cell_type": "code",
   "execution_count": 12,
   "id": "e1615e1a-cb54-46b6-8236-8c8992db411e",
   "metadata": {},
   "outputs": [],
   "source": [
    "spam = {\"key\": \"value\"}\n",
    "if \"color\" not in spam:\n",
    "    spam[\"color\"] = \"black\""
   ]
  },
  {
   "cell_type": "code",
   "execution_count": 13,
   "id": "c4a971d1-e1db-4f2f-bc08-2b628d94def1",
   "metadata": {},
   "outputs": [
    {
     "data": {
      "text/plain": [
       "{'key': 'value', 'color': 'black'}"
      ]
     },
     "execution_count": 13,
     "metadata": {},
     "output_type": "execute_result"
    }
   ],
   "source": [
    "spam"
   ]
  },
  {
   "cell_type": "markdown",
   "id": "a59d3170-3517-4316-b82e-1bb64b73ac3a",
   "metadata": {},
   "source": [
    "### Solution-08"
   ]
  },
  {
   "cell_type": "markdown",
   "id": "6c13cbdc-c995-4662-94eb-9a71d029c68f",
   "metadata": {},
   "source": [
    "Python comes with a built-in library called pprint, which stands for pretty-print. Using this library, we can print out more nicely formatted data structures, including dictionaries."
   ]
  },
  {
   "cell_type": "code",
   "execution_count": 15,
   "id": "ef66e03d-5b28-4c4c-9429-d98e1a4a7e52",
   "metadata": {},
   "outputs": [],
   "source": [
    "d = {\"name\": [\"rahul\",\"shyam\",\"ram\", \"imran\"], \"class\": [10,12,10,11], \"Roll NO\": [101,102,103,104]}"
   ]
  },
  {
   "cell_type": "code",
   "execution_count": 16,
   "id": "8280d152-08a4-4324-8494-f213028e8251",
   "metadata": {},
   "outputs": [
    {
     "name": "stdout",
     "output_type": "stream",
     "text": [
      "{'name': ['rahul', 'shyam', 'ram', 'imran'], 'class': [10, 12, 10, 11], 'Roll NO': [101, 102, 103, 104]}\n"
     ]
    }
   ],
   "source": [
    "print(d)"
   ]
  },
  {
   "cell_type": "code",
   "execution_count": 20,
   "id": "6cd938e7-c95e-4cf9-95b4-2ca82dd45b21",
   "metadata": {},
   "outputs": [],
   "source": [
    "import pprint"
   ]
  },
  {
   "cell_type": "code",
   "execution_count": 21,
   "id": "3c300eaa-4aec-439d-9ec1-43604deebfa0",
   "metadata": {},
   "outputs": [
    {
     "name": "stdout",
     "output_type": "stream",
     "text": [
      "{'Roll NO': [101, 102, 103, 104],\n",
      " 'class': [10, 12, 10, 11],\n",
      " 'name': ['rahul', 'shyam', 'ram', 'imran']}\n"
     ]
    }
   ],
   "source": [
    "pprint.pprint(d)"
   ]
  },
  {
   "cell_type": "markdown",
   "id": "aed5cbed-6c2a-4bf1-a553-69061568a24e",
   "metadata": {},
   "source": [
    "I will use pprint module and pprint() for printing the divctionary values."
   ]
  },
  {
   "cell_type": "code",
   "execution_count": 22,
   "id": "74124f16-3794-4964-b8d8-d2b2ef094b13",
   "metadata": {},
   "outputs": [
    {
     "name": "stdout",
     "output_type": "stream",
     "text": [
      "{'Roll NO': [101,\n",
      "             102,\n",
      "             103,\n",
      "             104],\n",
      " 'class': [10,\n",
      "           12,\n",
      "           10,\n",
      "           11],\n",
      " 'name': ['rahul',\n",
      "          'shyam',\n",
      "          'ram',\n",
      "          'imran']}\n"
     ]
    }
   ],
   "source": [
    "pprint.pprint(d, width=10)"
   ]
  },
  {
   "cell_type": "code",
   "execution_count": null,
   "id": "ce1bef4c-b3fc-4c65-afff-6494d67632a9",
   "metadata": {},
   "outputs": [],
   "source": []
  }
 ],
 "metadata": {
  "kernelspec": {
   "display_name": "Python 3 (ipykernel)",
   "language": "python",
   "name": "python3"
  },
  "language_info": {
   "codemirror_mode": {
    "name": "ipython",
    "version": 3
   },
   "file_extension": ".py",
   "mimetype": "text/x-python",
   "name": "python",
   "nbconvert_exporter": "python",
   "pygments_lexer": "ipython3",
   "version": "3.10.6"
  }
 },
 "nbformat": 4,
 "nbformat_minor": 5
}
