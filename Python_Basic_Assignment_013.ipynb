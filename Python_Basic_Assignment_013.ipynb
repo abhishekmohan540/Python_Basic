{
 "cells": [
  {
   "cell_type": "markdown",
   "id": "6491cc2e-be1b-4d37-af35-a6ff788de378",
   "metadata": {},
   "source": [
    "# Assignment - 13"
   ]
  },
  {
   "cell_type": "markdown",
   "id": "908636ea-fb38-4cb2-81cf-d238ddce8e7b",
   "metadata": {},
   "source": [
    "    1. What advantages do Excel spreadsheets have over CSV spreadsheets?\n",
    "    2. What do you pass to csv.reader() and csv.writer() to create reader and writer objects?\n",
    "    3. What modes do File objects for reader and writer objects need to be opened in?\n",
    "    4. What method takes a list argument and writes it to a CSV file?\n",
    "    5. What do the keyword arguments delimiter and line terminator do?\n",
    "    6. What function takes a string of JSON data and returns a Python data structure?\n",
    "    7. What function takes a Python data structure and returns a string of JSON data?"
   ]
  },
  {
   "cell_type": "markdown",
   "id": "e094ae66-399e-4cb2-b365-d03d2dc78d7b",
   "metadata": {},
   "source": [
    "## Answer-01"
   ]
  },
  {
   "cell_type": "markdown",
   "id": "360089f5-d960-4fe9-bba3-12ca18524e6f",
   "metadata": {},
   "source": [
    "    Advantages of Excel spreadsheets over CSV spreadsheets:\n",
    "    1.Excel spreadsheets offer more advanced formatting options, allowing for the inclusion of colors, fonts, borders, and other styling elements. This can be useful for visually organizing and presenting data.\n",
    "    2.Excel supports formulas and functions, which enable calculations and data manipulation within the spreadsheet. This can be beneficial for performing complex calculations or automating certain operations.\n",
    "    3.Excel provides multiple sheets within a single file, allowing for the organization and categorization of data into different tabs or sheets.\n",
    "    4.Excel supports the inclusion of charts, graphs, and other visualizations, making it easier to represent and analyze data visually.\n",
    "    5.Excel has more advanced data validation features, allowing for the definition of data restrictions, input masks, and validation rules to ensure data accuracy."
   ]
  },
  {
   "cell_type": "markdown",
   "id": "c2079a8f-970f-4dce-bd42-5995bc5d9a35",
   "metadata": {},
   "source": [
    "## Answer-02"
   ]
  },
  {
   "cell_type": "markdown",
   "id": "0c34d192-0fa5-4023-a0b4-57080265065c",
   "metadata": {},
   "source": [
    "    To create reader and writer objects using the csv module, we need to pass a File object or a file-like object as an argument. Typically, we pass an open file using the open() function."
   ]
  },
  {
   "cell_type": "markdown",
   "id": "3ef79344-4ab6-42c5-8918-6aeee9e86772",
   "metadata": {},
   "source": [
    "    import csv\n",
    "\n",
    "    # Creating a reader object\n",
    "    with open(\"data.csv\", \"r\") as file:\n",
    "        reader = csv.reader(file)\n",
    "\n",
    "    # Creating a writer object\n",
    "    with open(\"output.csv\", \"w\") as file:\n",
    "        writer = csv.writer(file)\n"
   ]
  },
  {
   "cell_type": "markdown",
   "id": "9df481a2-52b3-4a0d-8aa6-3bc7c73db077",
   "metadata": {},
   "source": [
    "    In the above code, \"data.csv\" and \"output.csv\" are file paths. The file is opened in the specified mode (\"r\" for reading and \"w\" for writing), and the resulting File objects are passed to csv.reader() and csv.writer() to create reader and writer objects, respectively."
   ]
  },
  {
   "cell_type": "markdown",
   "id": "5aff4003-a4e7-415b-a72e-a910a3faf49c",
   "metadata": {},
   "source": [
    "## Answer-03"
   ]
  },
  {
   "cell_type": "markdown",
   "id": "4ed391a7-058c-4fc9-96e6-82a156d48b22",
   "metadata": {},
   "source": [
    "    For reader objects, the File object needs to be opened in text mode (\"r\") or as a text file with newline handling (\"rt\"). For writer objects, the File object needs to be opened in text mode (\"w\") or as a text file with newline handling (\"wt\")."
   ]
  },
  {
   "cell_type": "markdown",
   "id": "e0520033-d518-4e40-a67b-fe530d662a9f",
   "metadata": {},
   "source": [
    "## Answer-04"
   ]
  },
  {
   "cell_type": "markdown",
   "id": "2356c09e-cbf4-460d-b3c7-e909d0f77c49",
   "metadata": {},
   "source": [
    "    The writerow() method takes a list argument and writes it as a row to a CSV file. Each element in the list represents a column value. "
   ]
  },
  {
   "cell_type": "markdown",
   "id": "d029cc9b-992d-4e33-a146-289f3853b5e9",
   "metadata": {},
   "source": [
    "## Answer-05"
   ]
  },
  {
   "cell_type": "markdown",
   "id": "3dd435d1-07b6-4bc0-902d-23fef40ba902",
   "metadata": {},
   "source": [
    "    The delimiter keyword argument is used to specify the character or string that separates the fields (columns) in a CSV file. By default, it is set to \",\".\n",
    "    The lineterminator keyword argument is used to specify the string that represents the line termination or line break in the CSV file. By default, it is set to \"\\r\\n\". These arguments allow customization of the delimiter and line termination characters when reading from or writing to a CSV file."
   ]
  },
  {
   "cell_type": "markdown",
   "id": "58b365aa-bfd9-4bf9-a112-02f3b9bcc625",
   "metadata": {},
   "source": [
    "## Answer-06"
   ]
  },
  {
   "cell_type": "markdown",
   "id": "90b9c6ae-e3a1-4f5b-b400-f956ece9378f",
   "metadata": {},
   "source": [
    "    The json.loads() function is used to parse a string of JSON data and convert it into a Python data structure. It takes the JSON string as input and returns the corresponding Python object. Example:"
   ]
  },
  {
   "cell_type": "code",
   "execution_count": 1,
   "id": "7f921f2d-fbff-4fb8-a6d1-362d490a6a39",
   "metadata": {},
   "outputs": [
    {
     "name": "stdout",
     "output_type": "stream",
     "text": [
      "{'name': 'John', 'age': 30}\n"
     ]
    }
   ],
   "source": [
    "import json\n",
    "\n",
    "json_data = '{\"name\": \"John\", \"age\": 30}'\n",
    "python_data = json.loads(json_data)\n",
    "\n",
    "print(python_data)\n"
   ]
  },
  {
   "cell_type": "markdown",
   "id": "9daeddb5-71db-40c6-beb6-e5ada387c7d5",
   "metadata": {},
   "source": [
    "## Answer-07"
   ]
  },
  {
   "cell_type": "markdown",
   "id": "25de6525-c333-48ec-9c01-32f7fecb79b3",
   "metadata": {},
   "source": [
    "    The function that takes a Python data structure and returns a string of JSON data is json.dumps(). It is used to serialize (convert) a Python object into a JSON-formatted string.Example:"
   ]
  },
  {
   "cell_type": "code",
   "execution_count": 2,
   "id": "5f64172e-7df8-4c2d-8aae-0ef94d9d9cfb",
   "metadata": {},
   "outputs": [
    {
     "name": "stdout",
     "output_type": "stream",
     "text": [
      "{\"name\": \"John\", \"age\": 30}\n"
     ]
    }
   ],
   "source": [
    "import json\n",
    "\n",
    "python_data = {\"name\": \"John\", \"age\": 30}\n",
    "json_data = json.dumps(python_data)\n",
    "\n",
    "print(json_data)\n"
   ]
  },
  {
   "cell_type": "markdown",
   "id": "aa072402-f907-4b44-b4e5-607b2906b736",
   "metadata": {},
   "source": [
    "    In the above code, the Python dictionary python_data is converted into a JSON string using the json.dumps() function. The resulting JSON string is stored in the json_data variable and printed."
   ]
  },
  {
   "cell_type": "markdown",
   "id": "4975234d-1867-4aab-a012-d8d2cf942bde",
   "metadata": {},
   "source": [
    "## End of Assignment"
   ]
  },
  {
   "cell_type": "code",
   "execution_count": null,
   "id": "619376d4-f695-4dae-8f51-a38bd3fe2c38",
   "metadata": {},
   "outputs": [],
   "source": []
  }
 ],
 "metadata": {
  "kernelspec": {
   "display_name": "Python 3 (ipykernel)",
   "language": "python",
   "name": "python3"
  },
  "language_info": {
   "codemirror_mode": {
    "name": "ipython",
    "version": 3
   },
   "file_extension": ".py",
   "mimetype": "text/x-python",
   "name": "python",
   "nbconvert_exporter": "python",
   "pygments_lexer": "ipython3",
   "version": "3.10.6"
  }
 },
 "nbformat": 4,
 "nbformat_minor": 5
}
