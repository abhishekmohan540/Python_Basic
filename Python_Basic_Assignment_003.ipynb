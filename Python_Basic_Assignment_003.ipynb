{
 "cells": [
  {
   "cell_type": "markdown",
   "id": "38eec1b7-0cd7-45ed-94e8-0e208fa8df96",
   "metadata": {},
   "source": [
    "# 1. Why are functions advantageous to have in your programs?"
   ]
  },
  {
   "cell_type": "markdown",
   "id": "a35be19a-8b88-406d-a7ab-c32f372a8ca8",
   "metadata": {},
   "source": [
    "### Advantages of Functions in Python:-\n",
    "### With the help of functions, we can avoid rewriting the same logic or code again and again in a program. In a single Program, we can call Python  functions anywhere and also call multiple times. We can track a large Python program easily when it is divided into multiple functions. This is the reason to have functions in our programs."
   ]
  },
  {
   "cell_type": "code",
   "execution_count": null,
   "id": "d6a5a482-2694-4fe3-82e0-f7c891a5dafc",
   "metadata": {},
   "outputs": [],
   "source": [
    "#Examples:-"
   ]
  },
  {
   "cell_type": "code",
   "execution_count": 1,
   "id": "6d6ba2b5-e9f1-48b3-b59a-0b1a8c8e805b",
   "metadata": {},
   "outputs": [
    {
     "data": {
      "text/plain": [
       "8"
      ]
     },
     "execution_count": 1,
     "metadata": {},
     "output_type": "execute_result"
    }
   ],
   "source": [
    "len(\"abhishek\")"
   ]
  },
  {
   "cell_type": "markdown",
   "id": "073ba2db-cc7e-4b09-80b9-1bb0c872d85b",
   "metadata": {},
   "source": [
    "# 2. When does the code in a function run: when it's specified or when it's called?"
   ]
  },
  {
   "cell_type": "markdown",
   "id": "733b4235-7d45-40ff-b00c-56394c76587f",
   "metadata": {},
   "source": [
    "### Code in a function runs when it is called.\n",
    "### This can be made clear with following example:-"
   ]
  },
  {
   "cell_type": "code",
   "execution_count": 1,
   "id": "db506f46-c23b-4e44-a680-48a6756840f5",
   "metadata": {},
   "outputs": [],
   "source": [
    "def test1():\n",
    "    return 5+5"
   ]
  },
  {
   "cell_type": "code",
   "execution_count": 2,
   "id": "e2d54b60-fd4b-44ea-a29a-477ba725bcd4",
   "metadata": {},
   "outputs": [
    {
     "data": {
      "text/plain": [
       "10"
      ]
     },
     "execution_count": 2,
     "metadata": {},
     "output_type": "execute_result"
    }
   ],
   "source": [
    "test1()"
   ]
  },
  {
   "cell_type": "code",
   "execution_count": 3,
   "id": "262837f5-b8e4-4e48-a5a6-a9fa6579d3bd",
   "metadata": {},
   "outputs": [],
   "source": [
    "# So here function returns the value when it is called."
   ]
  },
  {
   "cell_type": "markdown",
   "id": "53ed3cbd-39df-4042-a65c-d1e4ffead18e",
   "metadata": {},
   "source": [
    "# 3. What statement creates a function?"
   ]
  },
  {
   "cell_type": "markdown",
   "id": "a9a540ce-44cb-403c-89e2-f0535cf731c8",
   "metadata": {},
   "source": [
    "### The “def” call creates the function object and assigns it to the name given. "
   ]
  },
  {
   "cell_type": "code",
   "execution_count": 4,
   "id": "8a86dd59-c2c2-4195-98b8-50bf004bf70e",
   "metadata": {},
   "outputs": [],
   "source": [
    "# Example:-"
   ]
  },
  {
   "cell_type": "code",
   "execution_count": 5,
   "id": "eeb6e8d6-ab83-41f4-ab42-08b68512c5e2",
   "metadata": {},
   "outputs": [],
   "source": [
    "def test():\n",
    "    a=10\n",
    "    b=20\n",
    "    return a+b"
   ]
  },
  {
   "cell_type": "code",
   "execution_count": 6,
   "id": "52f9119d-fd0c-4598-a3a5-6ccc1442323a",
   "metadata": {},
   "outputs": [
    {
     "data": {
      "text/plain": [
       "30"
      ]
     },
     "execution_count": 6,
     "metadata": {},
     "output_type": "execute_result"
    }
   ],
   "source": [
    "test()"
   ]
  },
  {
   "cell_type": "code",
   "execution_count": null,
   "id": "f726e0c1-aacd-41b8-8337-b66b7869b0d8",
   "metadata": {},
   "outputs": [],
   "source": [
    "# Here, the def creates a function named \"test\" which is used to return the sum of a and b"
   ]
  },
  {
   "cell_type": "markdown",
   "id": "76a17d15-d605-4cb8-ac63-5ca6c02efba0",
   "metadata": {},
   "source": [
    "# 4. What is the difference between a function and a function call?"
   ]
  },
  {
   "cell_type": "markdown",
   "id": "e05f0fd2-ea6e-4331-9826-eba605056aea",
   "metadata": {},
   "source": [
    "### A function is a block of code that does a particular operation and returns a result. It usually accepts inputs as parameters and returns a result. The parameters are not mandatory. \n",
    "### A function call is the code used to pass control to a function\n",
    "### Example:-"
   ]
  },
  {
   "cell_type": "code",
   "execution_count": 2,
   "id": "1ba4a8eb-124f-4760-92c2-35ed38e3556c",
   "metadata": {},
   "outputs": [],
   "source": [
    "def test2(a,b):     # This is a function\n",
    "    prod = a*b\n",
    "    return prod"
   ]
  },
  {
   "cell_type": "code",
   "execution_count": 3,
   "id": "a29b6825-6825-4553-b0a7-8c5c3d13acef",
   "metadata": {},
   "outputs": [
    {
     "data": {
      "text/plain": [
       "200"
      ]
     },
     "execution_count": 3,
     "metadata": {},
     "output_type": "execute_result"
    }
   ],
   "source": [
    "test2(10,20)        # Calling function test2"
   ]
  },
  {
   "cell_type": "markdown",
   "id": "79e4b3aa-ab7b-4941-bd78-c581520abeee",
   "metadata": {},
   "source": [
    "# 5. How many global scopes are there in a Python program? How many local scopes?"
   ]
  },
  {
   "cell_type": "markdown",
   "id": "f2c12385-55e5-4ea2-90ae-b689b3343ab1",
   "metadata": {},
   "source": [
    "### Global variables are those which are not defined inside any function and have a global scope whereas local variables are those which are defined inside a function and its scope is limited to that function only. In other words, we can say that local variables are accessible only inside the function in which it was initialized whereas the global variables are accessible throughout the program and inside every function. Local variables are those which are initialized inside a function and belong only to that particular function. It cannot be accessed anywhere outside the function. \n",
    "### Python resolves names using the so-called LEGB rule, which is named after the Python scope for names. The letters in LEGB stand for Local, Enclosing, Global, and Built-in. Here’s a quick overview of what these terms mean:\n",
    "\n",
    "### Local (or function) scope is the code block or body of any Python function or lambda expression. This Python scope contains the names that you define inside the function. These names will only be visible from the code of the function. It’s created at function call, not at function definition, so you’ll have as many different local scopes as function calls. This is true even if you call the same function multiple times, or recursively. Each call will result in a new local scope being created.\n",
    "\n",
    "### Enclosing (or nonlocal) scope is a special scope that only exists for nested functions. If the local scope is an inner or nested function, then the enclosing scope is the scope of the outer or enclosing function. This scope contains the names that you define in the enclosing function. The names in the enclosing scope are visible from the code of the inner and enclosing functions.\n",
    "\n",
    "### Global (or module) scope is the top-most scope in a Python program, script, or module. This Python scope contains all of the names that you define at the top level of a program or a module. Names in this Python scope are visible from everywhere in your code.\n",
    "\n",
    "### Built-in scope is a special Python scope that’s created or loaded whenever you run a script or open an interactive session. This scope contains names such as keywords, functions, exceptions, and other attributes that are built into Python. Names in this Python scope are also available from everywhere in your code. It’s automatically loaded by Python when you run a program or script."
   ]
  },
  {
   "cell_type": "markdown",
   "id": "7358042f-25fa-4f56-bcd3-d17fc9e94a84",
   "metadata": {},
   "source": [
    "# 6. What happens to variables in a local scope when the function call returns?"
   ]
  },
  {
   "cell_type": "code",
   "execution_count": 1,
   "id": "96b5783a-62c1-4e2b-90b2-db3930f463d5",
   "metadata": {},
   "outputs": [
    {
     "name": "stdout",
     "output_type": "stream",
     "text": [
      "20 local value\n"
     ]
    }
   ],
   "source": [
    "x= 10   #Global\n",
    "def func():\n",
    "    x=20      #Local\n",
    "    print(x, \"local value\")\n",
    "    \n",
    "func()    \n",
    "    \n"
   ]
  },
  {
   "cell_type": "code",
   "execution_count": 2,
   "id": "e3f7bfbb-ede9-4659-b48f-a4d40f6576d1",
   "metadata": {},
   "outputs": [
    {
     "name": "stdout",
     "output_type": "stream",
     "text": [
      "20 local value\n",
      "10 Global value\n"
     ]
    }
   ],
   "source": [
    "x= 10   #Global\n",
    "def func():\n",
    "    x=20      #Local\n",
    "    print(x, \"local value\")\n",
    "    \n",
    "func()   \n",
    "print(x,\"Global value\")"
   ]
  },
  {
   "cell_type": "code",
   "execution_count": 3,
   "id": "a309b1d8-e9cd-465a-8a88-d437336b0e19",
   "metadata": {},
   "outputs": [
    {
     "name": "stdout",
     "output_type": "stream",
     "text": [
      "10 local value\n",
      "10 Global value\n"
     ]
    }
   ],
   "source": [
    "x= 10   #Global\n",
    "def func():\n",
    "    #x=20      #Local\n",
    "    print(x, \"local value\")\n",
    "    \n",
    "func()   \n",
    "print(x,\"Global value\")"
   ]
  },
  {
   "cell_type": "code",
   "execution_count": 1,
   "id": "3999f040-ec04-4146-8561-d9babde17a35",
   "metadata": {},
   "outputs": [],
   "source": [
    "# The range of local value lies within the function itself. If value is not specified, then \n",
    "# global value is used. Global value is accessible both inside and outside the function \n",
    "# while local value scope is within the function itself."
   ]
  },
  {
   "cell_type": "markdown",
   "id": "c75145e1-41f1-4f85-8cda-a47ea1c6c549",
   "metadata": {},
   "source": [
    "# 7. What is the concept of a return value? Is it possible to have a return value in an expression?"
   ]
  },
  {
   "cell_type": "markdown",
   "id": "b8f7886a-1fd6-4b0c-9486-d1c844c88665",
   "metadata": {},
   "source": [
    "### A return is a value that a function returns to the calling script or function when it completes its task. A return value can be any one of the four variable types: handle, integer, object, or string. The type of value your function returns depends largely on the task it performs."
   ]
  },
  {
   "cell_type": "code",
   "execution_count": 22,
   "id": "8cad38a1-764a-4f27-948c-61699f7f87d6",
   "metadata": {},
   "outputs": [],
   "source": [
    "def test5():\n",
    "    return \"abhi\""
   ]
  },
  {
   "cell_type": "code",
   "execution_count": 23,
   "id": "501cf945-88c8-44ed-a21c-8ca05437f633",
   "metadata": {},
   "outputs": [
    {
     "data": {
      "text/plain": [
       "'abhi'"
      ]
     },
     "execution_count": 23,
     "metadata": {},
     "output_type": "execute_result"
    }
   ],
   "source": [
    "test5()"
   ]
  },
  {
   "cell_type": "code",
   "execution_count": 24,
   "id": "f28b4af6-5b4e-43a7-80c1-ea98c1c976d2",
   "metadata": {},
   "outputs": [
    {
     "data": {
      "text/plain": [
       "'abhimohan'"
      ]
     },
     "execution_count": 24,
     "metadata": {},
     "output_type": "execute_result"
    }
   ],
   "source": [
    "test5() + \"mohan\""
   ]
  },
  {
   "cell_type": "markdown",
   "id": "34514d5c-55d2-463f-b1f5-98c5944d310b",
   "metadata": {},
   "source": [
    "### A return statement is used to end the execution of the function call and “returns” the result (value of the expression following the return keyword) to the caller. The statements after the return statements are not executed. If the return statement is without any expression, then the special value None is returned. A return statement is overall used to invoke a function so that the passed statements can be executed."
   ]
  },
  {
   "cell_type": "markdown",
   "id": "69fc8572-9f23-4add-a30c-41a73e8c8a71",
   "metadata": {},
   "source": [
    "# 8. If a function does not have a return statement, what is the return value of a call to that function?"
   ]
  },
  {
   "cell_type": "code",
   "execution_count": 2,
   "id": "b1f35540-c0ce-4558-a1d2-93014854e6fc",
   "metadata": {},
   "outputs": [],
   "source": [
    "def test3():\n",
    "    a=5\n",
    "    b=10"
   ]
  },
  {
   "cell_type": "code",
   "execution_count": 3,
   "id": "3757cc42-966a-4808-bf68-82ff6c3d0edb",
   "metadata": {},
   "outputs": [],
   "source": [
    "test3()         # No output will be displayed"
   ]
  },
  {
   "cell_type": "code",
   "execution_count": 1,
   "id": "4bf5b83a-cbd1-4f43-8463-13f11b612998",
   "metadata": {},
   "outputs": [],
   "source": [
    "def test3():\n",
    "    a=5\n",
    "    b=10\n",
    "    print(a*b)"
   ]
  },
  {
   "cell_type": "code",
   "execution_count": 2,
   "id": "6e2261be-ff38-481a-ba62-a7d5ff983501",
   "metadata": {},
   "outputs": [
    {
     "name": "stdout",
     "output_type": "stream",
     "text": [
      "50\n"
     ]
    }
   ],
   "source": [
    "test3()          # If it has print statement,result will be printed but value wil NOT be assigned to function."
   ]
  },
  {
   "cell_type": "code",
   "execution_count": 3,
   "id": "2b407c99-31b4-4be3-ae2d-b388dc09d22e",
   "metadata": {},
   "outputs": [
    {
     "name": "stdout",
     "output_type": "stream",
     "text": [
      "50\n"
     ]
    },
    {
     "ename": "TypeError",
     "evalue": "unsupported operand type(s) for +: 'NoneType' and 'int'",
     "output_type": "error",
     "traceback": [
      "\u001b[0;31m---------------------------------------------------------------------------\u001b[0m",
      "\u001b[0;31mTypeError\u001b[0m                                 Traceback (most recent call last)",
      "Cell \u001b[0;32mIn [3], line 1\u001b[0m\n\u001b[0;32m----> 1\u001b[0m \u001b[43mtest3\u001b[49m\u001b[43m(\u001b[49m\u001b[43m)\u001b[49m\u001b[43m \u001b[49m\u001b[38;5;241;43m+\u001b[39;49m\u001b[43m \u001b[49m\u001b[38;5;241;43m10\u001b[39;49m\n",
      "\u001b[0;31mTypeError\u001b[0m: unsupported operand type(s) for +: 'NoneType' and 'int'"
     ]
    }
   ],
   "source": [
    "test3() + 10         # This is beacuse the type of test3() is NoneType"
   ]
  },
  {
   "cell_type": "code",
   "execution_count": 4,
   "id": "4e466acd-a325-49ca-90f5-59c0886b58ab",
   "metadata": {},
   "outputs": [
    {
     "name": "stdout",
     "output_type": "stream",
     "text": [
      "50\n"
     ]
    },
    {
     "data": {
      "text/plain": [
       "NoneType"
      ]
     },
     "execution_count": 4,
     "metadata": {},
     "output_type": "execute_result"
    }
   ],
   "source": [
    "type(test3())"
   ]
  },
  {
   "cell_type": "markdown",
   "id": "a6f232f4-3ee8-4913-abaa-4802957f008b",
   "metadata": {},
   "source": [
    "# 9. How do you make a function variable refer to the global variable?"
   ]
  },
  {
   "cell_type": "code",
   "execution_count": 1,
   "id": "f77bf1c7-b1ff-4293-bce1-b6b997b4f400",
   "metadata": {},
   "outputs": [
    {
     "name": "stdout",
     "output_type": "stream",
     "text": [
      "15 Local varibale\n",
      "15 Global variable\n"
     ]
    }
   ],
   "source": [
    "x= 15\n",
    "def test4():\n",
    "    print(x, \"Local varibale\")\n",
    "    \n",
    "test4()\n",
    "print(x,\"Global variable\")"
   ]
  },
  {
   "cell_type": "code",
   "execution_count": 2,
   "id": "d696e4ba-16f3-44b1-acd2-49b2599bc620",
   "metadata": {},
   "outputs": [],
   "source": [
    "# Since the no local variable is ddfined here, function uses global varibale by default/"
   ]
  },
  {
   "cell_type": "code",
   "execution_count": 3,
   "id": "6c2c7d5a-0202-4a25-beb5-4b0df92d24fa",
   "metadata": {},
   "outputs": [
    {
     "name": "stdout",
     "output_type": "stream",
     "text": [
      "100 Local varibale\n",
      "15 Global variable\n"
     ]
    }
   ],
   "source": [
    "x= 15\n",
    "def test4():\n",
    "    x=100\n",
    "    print(x, \"Local varibale\")\n",
    "    \n",
    "test4()\n",
    "print(x,\"Global variable\")"
   ]
  },
  {
   "cell_type": "code",
   "execution_count": 4,
   "id": "64f0a0d4-7469-4113-b419-3a2aa59deaf3",
   "metadata": {},
   "outputs": [],
   "source": [
    "#Local variable already available, so function did not use global variable."
   ]
  },
  {
   "cell_type": "code",
   "execution_count": 6,
   "id": "53ba6f90-7fd6-4821-8375-a16ed4add7b4",
   "metadata": {},
   "outputs": [
    {
     "name": "stdout",
     "output_type": "stream",
     "text": [
      "150 Local varibale\n",
      "150 Global variable\n"
     ]
    }
   ],
   "source": [
    "x= 15\n",
    "def test4():\n",
    "    global x     #This will make this local value of x as global \n",
    "    x = 150\n",
    "    print(x, \"Local varibale\")\n",
    "    \n",
    "test4()\n",
    "print(x,\"Global variable\")"
   ]
  },
  {
   "cell_type": "markdown",
   "id": "5386f04a-ad12-4d9c-8ff3-b1871d5751ed",
   "metadata": {},
   "source": [
    "# 10. What is the data type of None?"
   ]
  },
  {
   "cell_type": "code",
   "execution_count": 7,
   "id": "b3b349fc-7f12-4082-8c9f-a3298399be59",
   "metadata": {},
   "outputs": [
    {
     "name": "stdout",
     "output_type": "stream",
     "text": [
      "Type of None:  <class 'NoneType'>\n"
     ]
    }
   ],
   "source": [
    "print(\"Type of None: \", type(None))"
   ]
  },
  {
   "cell_type": "code",
   "execution_count": 8,
   "id": "44680c99-7092-42af-8b24-e644ffdd8aef",
   "metadata": {},
   "outputs": [],
   "source": [
    "# So type of None is NoneType"
   ]
  },
  {
   "cell_type": "markdown",
   "id": "60c89339-1ca2-4779-8fba-b7c9fa8a231c",
   "metadata": {},
   "source": [
    "# 11. What does the sentence import areallyourpetsnamederic do?"
   ]
  },
  {
   "cell_type": "code",
   "execution_count": 1,
   "id": "60bc3ece-4217-4c91-92ed-7e94d2bd1904",
   "metadata": {},
   "outputs": [
    {
     "ename": "ModuleNotFoundError",
     "evalue": "No module named 'areallyourpetsnamederic'",
     "output_type": "error",
     "traceback": [
      "\u001b[0;31m---------------------------------------------------------------------------\u001b[0m",
      "\u001b[0;31mModuleNotFoundError\u001b[0m                       Traceback (most recent call last)",
      "Cell \u001b[0;32mIn [1], line 1\u001b[0m\n\u001b[0;32m----> 1\u001b[0m \u001b[38;5;28;01mimport\u001b[39;00m \u001b[38;5;21;01mareallyourpetsnamederic\u001b[39;00m\n",
      "\u001b[0;31mModuleNotFoundError\u001b[0m: No module named 'areallyourpetsnamederic'"
     ]
    }
   ],
   "source": [
    "import areallyourpetsnamederic"
   ]
  },
  {
   "cell_type": "code",
   "execution_count": 2,
   "id": "58d5be9b-054a-4961-bff6-8e10985337ac",
   "metadata": {},
   "outputs": [],
   "source": [
    "# That import statement imports a module named areallyourpetsnamederic."
   ]
  },
  {
   "cell_type": "markdown",
   "id": "be492444-eedb-4306-9ffd-7f2e48b88cbd",
   "metadata": {},
   "source": [
    "# 12. If you had a bacon() feature in a spam module, what would you call it after importing spam?"
   ]
  },
  {
   "cell_type": "markdown",
   "id": "7af50809-d622-4cd2-bf4a-baa69f54a213",
   "metadata": {},
   "source": [
    "### import spam\n",
    "### spam.bacon()"
   ]
  },
  {
   "cell_type": "markdown",
   "id": "6ea9807b-9570-4642-847b-e421f32669a9",
   "metadata": {},
   "source": [
    "# 13. What can you do to save a programme from crashing if it encounters an error?"
   ]
  },
  {
   "cell_type": "markdown",
   "id": "120b3832-7d63-4ae6-8649-16e3765dbbc4",
   "metadata": {},
   "source": [
    "    Error in Python can be of two types i.e. Syntax errors and Exceptions. Errors are the problems in a program due to which the program will stop     the execution. On the other hand, exceptions are raised when some internal events occur which changes the normal flow of the program.\n",
    "\n",
    "    Some of the common Exception Errors are : \n",
    "\n",
    "\n",
    "    IOError: if the file can’t be opened\n",
    "    KeyboardInterrupt: when an unrequired key is pressed by the user\n",
    "    ValueError: when built-in function receives a wrong argument\n",
    "    EOFError: if End-Of-File is hit without reading any data\n",
    "    ImportError: if it is unable to find the module\n",
    "    Try and Except statement is used to handle these errors within our code in Python."
   ]
  },
  {
   "cell_type": "markdown",
   "id": "3af71085-0341-4b23-a5a6-d5a1373a58de",
   "metadata": {},
   "source": [
    "# 14. What is the purpose of the try clause? What is the purpose of the except clause?"
   ]
  },
  {
   "cell_type": "markdown",
   "id": "31bbc131-abdf-4a3f-a245-8169dd2eeba7",
   "metadata": {},
   "source": [
    "### Try and Except statement is used to handle the errors within our code in Python. The try block is used to check some code for errors i.e the code inside the try block will execute when there is no error in the program. Whereas the code inside the except block will execute whenever the program encounters some error in the preceding try block."
   ]
  },
  {
   "cell_type": "code",
   "execution_count": 4,
   "id": "7b60548a-da45-4570-923a-60ded19b6c91",
   "metadata": {},
   "outputs": [],
   "source": [
    "#Example:-"
   ]
  },
  {
   "cell_type": "code",
   "execution_count": 10,
   "id": "f52bb63b-2130-4513-a3cc-4764bdaafce6",
   "metadata": {},
   "outputs": [],
   "source": [
    "def divide(a,b):\n",
    "    try:\n",
    "        result=a//b\n",
    "        print(\"Result is: \",result)\n",
    "    except:\n",
    "        print(\"Sorry! You are dividing by zero\")\n",
    "        \n",
    "        \n",
    "    "
   ]
  },
  {
   "cell_type": "code",
   "execution_count": 17,
   "id": "263cc5df-3709-4525-81e1-533125835556",
   "metadata": {},
   "outputs": [
    {
     "name": "stdout",
     "output_type": "stream",
     "text": [
      "Result is:  3\n"
     ]
    }
   ],
   "source": [
    "divide(11,3)            # Try is executed here"
   ]
  },
  {
   "cell_type": "code",
   "execution_count": 21,
   "id": "0e502b12-a737-42e9-91bd-316a93e119f1",
   "metadata": {},
   "outputs": [],
   "source": [
    "# No exception, so the try clause has run. "
   ]
  },
  {
   "cell_type": "code",
   "execution_count": 19,
   "id": "2c15f068-7061-40fb-b734-f7b195132c6c",
   "metadata": {},
   "outputs": [
    {
     "name": "stdout",
     "output_type": "stream",
     "text": [
      "Sorry! You are dividing by zero\n"
     ]
    }
   ],
   "source": [
    "divide(12,0)            # except is executed here"
   ]
  },
  {
   "cell_type": "code",
   "execution_count": 20,
   "id": "7b4237d8-e433-481f-9c89-713790997354",
   "metadata": {},
   "outputs": [],
   "source": [
    "# There is an exception so only except clause has run. "
   ]
  },
  {
   "cell_type": "markdown",
   "id": "306d69c7-2927-4a28-8a30-1728969f230b",
   "metadata": {},
   "source": [
    " ##                                                End of Assignment"
   ]
  },
  {
   "cell_type": "markdown",
   "id": "caddea33-679d-47f3-a4b4-e538f5c9d3a6",
   "metadata": {},
   "source": [
    "## Abhishek Mohan, abhishekmohan540@gmail.com"
   ]
  },
  {
   "cell_type": "code",
   "execution_count": null,
   "id": "3b22258c-8543-4db6-8735-4590a6aeac90",
   "metadata": {},
   "outputs": [],
   "source": []
  }
 ],
 "metadata": {
  "kernelspec": {
   "display_name": "Python 3 (ipykernel)",
   "language": "python",
   "name": "python3"
  },
  "language_info": {
   "codemirror_mode": {
    "name": "ipython",
    "version": 3
   },
   "file_extension": ".py",
   "mimetype": "text/x-python",
   "name": "python",
   "nbconvert_exporter": "python",
   "pygments_lexer": "ipython3",
   "version": "3.10.6"
  }
 },
 "nbformat": 4,
 "nbformat_minor": 5
}
